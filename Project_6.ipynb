{
 "cells": [
  {
   "cell_type": "markdown",
   "metadata": {},
   "source": [
    "## 1. Постановка задачи"
   ]
  },
  {
   "cell_type": "markdown",
   "metadata": {},
   "source": [
    "\n",
    "**Бизнес-задача:** произвести сегментацию существующих клиентов, проинтерпретировать эти сегменты и определить стратегию взаимодействия с ними.\n",
    "\n",
    "**Техническая задача для вас как для специалиста в Data Science:** построить модель кластеризации клиентов на основе их покупательской способности, частоты заказов и срока давности последней покупки, определить профиль каждого из кластеров.\n",
    "\n",
    "**Основные цели проекта:**\n",
    "1. Произвести предобработку набора данных.\n",
    "2. Провести разведывательный анализ данных и выявить основные закономерности.\n",
    "3. Сформировать категории товаров и клиентов. \n",
    "4. Построить несколько моделей машинного обучения, решающих задачу кластеризации клиентов, определить количество кластеров и проинтерпретировать их.\n",
    "5. Спроектировать процесс предсказания категории интересов клиента и протестировать вашу модель на новых клиентах.\n",
    "\n"
   ]
  },
  {
   "cell_type": "markdown",
   "metadata": {
    "tags": []
   },
   "source": [
    "## 2. Знакомство с данными. "
   ]
  },
  {
   "cell_type": "code",
   "execution_count": 82,
   "metadata": {},
   "outputs": [],
   "source": [
    "import pandas as pd \n",
    "import numpy as np \n",
    "import matplotlib.pyplot as plt\n",
    "import seaborn as sns\n",
    "from mpl_toolkits.mplot3d import Axes3D\n",
    "\n",
    "import plotly.graph_objs as go\n",
    "import plotly.express as px\n",
    "from plotly.subplots import make_subplots\n",
    "\n",
    "from sklearn import mixture\n",
    "from sklearn import manifold\n",
    "from sklearn import pipeline\n",
    "from sklearn import preprocessing\n",
    "from sklearn import cluster\n",
    "from sklearn import metrics\n",
    "from sklearn import model_selection\n",
    "from sklearn import decomposition\n",
    "from sklearn import ensemble\n",
    "import warnings \n",
    "\n",
    "from IPython.display import display, HTML\n",
    "\n",
    "warnings.filterwarnings(\"ignore\")\n",
    "\n",
    "plt.rcParams[\"patch.force_edgecolor\"] = True"
   ]
  },
  {
   "cell_type": "code",
   "execution_count": 83,
   "metadata": {},
   "outputs": [
    {
     "name": "stdout",
     "output_type": "stream",
     "text": [
      "Data shape: (541909, 8)\n"
     ]
    },
    {
     "data": {
      "text/html": [
       "<div>\n",
       "<style scoped>\n",
       "    .dataframe tbody tr th:only-of-type {\n",
       "        vertical-align: middle;\n",
       "    }\n",
       "\n",
       "    .dataframe tbody tr th {\n",
       "        vertical-align: top;\n",
       "    }\n",
       "\n",
       "    .dataframe thead th {\n",
       "        text-align: right;\n",
       "    }\n",
       "</style>\n",
       "<table border=\"1\" class=\"dataframe\">\n",
       "  <thead>\n",
       "    <tr style=\"text-align: right;\">\n",
       "      <th></th>\n",
       "      <th>InvoiceNo</th>\n",
       "      <th>StockCode</th>\n",
       "      <th>Description</th>\n",
       "      <th>Quantity</th>\n",
       "      <th>InvoiceDate</th>\n",
       "      <th>UnitPrice</th>\n",
       "      <th>CustomerID</th>\n",
       "      <th>Country</th>\n",
       "    </tr>\n",
       "  </thead>\n",
       "  <tbody>\n",
       "    <tr>\n",
       "      <th>0</th>\n",
       "      <td>536365</td>\n",
       "      <td>85123A</td>\n",
       "      <td>WHITE HANGING HEART T-LIGHT HOLDER</td>\n",
       "      <td>6</td>\n",
       "      <td>12/1/2010 8:26</td>\n",
       "      <td>2.55</td>\n",
       "      <td>17850</td>\n",
       "      <td>United Kingdom</td>\n",
       "    </tr>\n",
       "    <tr>\n",
       "      <th>1</th>\n",
       "      <td>536365</td>\n",
       "      <td>71053</td>\n",
       "      <td>WHITE METAL LANTERN</td>\n",
       "      <td>6</td>\n",
       "      <td>12/1/2010 8:26</td>\n",
       "      <td>3.39</td>\n",
       "      <td>17850</td>\n",
       "      <td>United Kingdom</td>\n",
       "    </tr>\n",
       "    <tr>\n",
       "      <th>2</th>\n",
       "      <td>536365</td>\n",
       "      <td>84406B</td>\n",
       "      <td>CREAM CUPID HEARTS COAT HANGER</td>\n",
       "      <td>8</td>\n",
       "      <td>12/1/2010 8:26</td>\n",
       "      <td>2.75</td>\n",
       "      <td>17850</td>\n",
       "      <td>United Kingdom</td>\n",
       "    </tr>\n",
       "    <tr>\n",
       "      <th>3</th>\n",
       "      <td>536365</td>\n",
       "      <td>84029G</td>\n",
       "      <td>KNITTED UNION FLAG HOT WATER BOTTLE</td>\n",
       "      <td>6</td>\n",
       "      <td>12/1/2010 8:26</td>\n",
       "      <td>3.39</td>\n",
       "      <td>17850</td>\n",
       "      <td>United Kingdom</td>\n",
       "    </tr>\n",
       "    <tr>\n",
       "      <th>4</th>\n",
       "      <td>536365</td>\n",
       "      <td>84029E</td>\n",
       "      <td>RED WOOLLY HOTTIE WHITE HEART.</td>\n",
       "      <td>6</td>\n",
       "      <td>12/1/2010 8:26</td>\n",
       "      <td>3.39</td>\n",
       "      <td>17850</td>\n",
       "      <td>United Kingdom</td>\n",
       "    </tr>\n",
       "  </tbody>\n",
       "</table>\n",
       "</div>"
      ],
      "text/plain": [
       "  InvoiceNo StockCode                          Description  Quantity  \\\n",
       "0    536365    85123A   WHITE HANGING HEART T-LIGHT HOLDER         6   \n",
       "1    536365     71053                  WHITE METAL LANTERN         6   \n",
       "2    536365    84406B       CREAM CUPID HEARTS COAT HANGER         8   \n",
       "3    536365    84029G  KNITTED UNION FLAG HOT WATER BOTTLE         6   \n",
       "4    536365    84029E       RED WOOLLY HOTTIE WHITE HEART.         6   \n",
       "\n",
       "      InvoiceDate  UnitPrice CustomerID         Country  \n",
       "0  12/1/2010 8:26       2.55      17850  United Kingdom  \n",
       "1  12/1/2010 8:26       3.39      17850  United Kingdom  \n",
       "2  12/1/2010 8:26       2.75      17850  United Kingdom  \n",
       "3  12/1/2010 8:26       3.39      17850  United Kingdom  \n",
       "4  12/1/2010 8:26       3.39      17850  United Kingdom  "
      ]
     },
     "execution_count": 83,
     "metadata": {},
     "output_type": "execute_result"
    }
   ],
   "source": [
    "data = pd.read_csv(\n",
    "    \"customer_segmentation_project.csv\", \n",
    "    encoding=\"ISO-8859-1\", \n",
    "    dtype={'CustomerID': str,'InvoiceID': str}\n",
    ")\n",
    "data = data.copy()\n",
    "print('Data shape: {}'.format(data.shape))\n",
    "data.head(5)"
   ]
  },
  {
   "cell_type": "markdown",
   "metadata": {},
   "source": [
    "Проведём анализ структуры таблицы.\n"
   ]
  },
  {
   "cell_type": "markdown",
   "metadata": {},
   "source": [
    "### Задание 2.1\n",
    "Сколько столбцов в данных кодируются числовыми типами (int/float)?"
   ]
  },
  {
   "cell_type": "code",
   "execution_count": 84,
   "metadata": {},
   "outputs": [
    {
     "name": "stdout",
     "output_type": "stream",
     "text": [
      "2\n"
     ]
    }
   ],
   "source": [
    "df_numerics_only = data.select_dtypes(include=np.number)\n",
    "\n",
    "# список имен числовых столбцов\n",
    "colnames_numerics_only = data.select_dtypes(include=np.number).columns.tolist()\n",
    "\n",
    "#  количество числовых столбцов\n",
    "print(len(colnames_numerics_only))"
   ]
  },
  {
   "cell_type": "markdown",
   "metadata": {
    "_uuid": "e8ffbb4aa2df86ecb4e84cec0b56acd7c47fe51a",
    "tags": []
   },
   "source": [
    "### Задание 2.2\n",
    "Выберите столбцы, в которых есть хотя бы один пропуск"
   ]
  },
  {
   "cell_type": "code",
   "execution_count": 85,
   "metadata": {},
   "outputs": [
    {
     "data": {
      "text/plain": [
       "InvoiceNo           0\n",
       "StockCode           0\n",
       "Description      1454\n",
       "Quantity            0\n",
       "InvoiceDate         0\n",
       "UnitPrice           0\n",
       "CustomerID     135080\n",
       "Country             0\n",
       "dtype: int64"
      ]
     },
     "execution_count": 85,
     "metadata": {},
     "output_type": "execute_result"
    }
   ],
   "source": [
    "data.isnull().sum()"
   ]
  },
  {
   "cell_type": "markdown",
   "metadata": {},
   "source": [
    "### Задание 2.3\n",
    "Укажите, за какой промежуток времени представлены данные:\n",
    "\n"
   ]
  },
  {
   "cell_type": "code",
   "execution_count": 86,
   "metadata": {},
   "outputs": [
    {
     "name": "stdout",
     "output_type": "stream",
     "text": [
      "2010-12-01 - 2011-12-09\n"
     ]
    }
   ],
   "source": [
    "data['InvoiceDate'] = pd.to_datetime(data['InvoiceDate'])\n",
    "print(f'{data['InvoiceDate'].dt.date.min()} - {data['InvoiceDate'].dt.date.max()}')"
   ]
  },
  {
   "cell_type": "markdown",
   "metadata": {},
   "source": [
    "### Задание 2.4\n",
    "\n",
    "1) Каково максимальное количество товаров в заказе?\n",
    "\n",
    "2) Каково минимальное количество товаров в заказе? \n",
    "\n",
    "3) Сколько, согласно данным, стоит самый дешёвый товар (за исключением товаров с отрицательной стоимостью)?"
   ]
  },
  {
   "cell_type": "code",
   "execution_count": 87,
   "metadata": {},
   "outputs": [
    {
     "data": {
      "text/html": [
       "<div>\n",
       "<style scoped>\n",
       "    .dataframe tbody tr th:only-of-type {\n",
       "        vertical-align: middle;\n",
       "    }\n",
       "\n",
       "    .dataframe tbody tr th {\n",
       "        vertical-align: top;\n",
       "    }\n",
       "\n",
       "    .dataframe thead th {\n",
       "        text-align: right;\n",
       "    }\n",
       "</style>\n",
       "<table border=\"1\" class=\"dataframe\">\n",
       "  <thead>\n",
       "    <tr style=\"text-align: right;\">\n",
       "      <th></th>\n",
       "      <th>Quantity</th>\n",
       "      <th>InvoiceDate</th>\n",
       "      <th>UnitPrice</th>\n",
       "    </tr>\n",
       "  </thead>\n",
       "  <tbody>\n",
       "    <tr>\n",
       "      <th>count</th>\n",
       "      <td>541909.000000</td>\n",
       "      <td>541909</td>\n",
       "      <td>541909.000000</td>\n",
       "    </tr>\n",
       "    <tr>\n",
       "      <th>mean</th>\n",
       "      <td>9.552250</td>\n",
       "      <td>2011-07-04 13:34:57.156386048</td>\n",
       "      <td>4.611114</td>\n",
       "    </tr>\n",
       "    <tr>\n",
       "      <th>min</th>\n",
       "      <td>-80995.000000</td>\n",
       "      <td>2010-12-01 08:26:00</td>\n",
       "      <td>-11062.060000</td>\n",
       "    </tr>\n",
       "    <tr>\n",
       "      <th>25%</th>\n",
       "      <td>1.000000</td>\n",
       "      <td>2011-03-28 11:34:00</td>\n",
       "      <td>1.250000</td>\n",
       "    </tr>\n",
       "    <tr>\n",
       "      <th>50%</th>\n",
       "      <td>3.000000</td>\n",
       "      <td>2011-07-19 17:17:00</td>\n",
       "      <td>2.080000</td>\n",
       "    </tr>\n",
       "    <tr>\n",
       "      <th>75%</th>\n",
       "      <td>10.000000</td>\n",
       "      <td>2011-10-19 11:27:00</td>\n",
       "      <td>4.130000</td>\n",
       "    </tr>\n",
       "    <tr>\n",
       "      <th>max</th>\n",
       "      <td>80995.000000</td>\n",
       "      <td>2011-12-09 12:50:00</td>\n",
       "      <td>38970.000000</td>\n",
       "    </tr>\n",
       "    <tr>\n",
       "      <th>std</th>\n",
       "      <td>218.081158</td>\n",
       "      <td>NaN</td>\n",
       "      <td>96.759853</td>\n",
       "    </tr>\n",
       "  </tbody>\n",
       "</table>\n",
       "</div>"
      ],
      "text/plain": [
       "            Quantity                    InvoiceDate      UnitPrice\n",
       "count  541909.000000                         541909  541909.000000\n",
       "mean        9.552250  2011-07-04 13:34:57.156386048       4.611114\n",
       "min    -80995.000000            2010-12-01 08:26:00  -11062.060000\n",
       "25%         1.000000            2011-03-28 11:34:00       1.250000\n",
       "50%         3.000000            2011-07-19 17:17:00       2.080000\n",
       "75%        10.000000            2011-10-19 11:27:00       4.130000\n",
       "max     80995.000000            2011-12-09 12:50:00   38970.000000\n",
       "std       218.081158                            NaN      96.759853"
      ]
     },
     "metadata": {},
     "output_type": "display_data"
    },
    {
     "data": {
      "text/plain": [
       "299984   -11062.06\n",
       "299983   -11062.06\n",
       "40984         0.00\n",
       "52217         0.00\n",
       "52262         0.00\n",
       "            ...   \n",
       "16356     13541.33\n",
       "43703     16453.71\n",
       "43702     16888.02\n",
       "524602    17836.46\n",
       "222681    38970.00\n",
       "Name: UnitPrice, Length: 541909, dtype: float64"
      ]
     },
     "execution_count": 87,
     "metadata": {},
     "output_type": "execute_result"
    }
   ],
   "source": [
    "display(data.describe())\n",
    "data['UnitPrice'].sort_values()"
   ]
  },
  {
   "cell_type": "markdown",
   "metadata": {},
   "source": [
    "### Задание 2.5\n",
    "1) Сколько уникальных клиентов покупали товары за период выгрузки датасета?\n",
    "\n",
    "2) Сколько уникальных стран содержится в столбце Country (исключая специальный код 'Unspecified', обозначающий неопределенную страну)?\n",
    "\n",
    "3) Идентификатор самого популярного товара (StockCode):\n"
   ]
  },
  {
   "cell_type": "code",
   "execution_count": 88,
   "metadata": {},
   "outputs": [
    {
     "name": "stdout",
     "output_type": "stream",
     "text": [
      "4372 уникальных клиентов\n",
      "37 уникальных стран\n",
      "85123A идентификатор самого популярного товара\n"
     ]
    }
   ],
   "source": [
    "print(data['CustomerID'].nunique(), 'уникальных клиентов')\n",
    "print(data[data['Country'] != 'Unspecified']['Country'].nunique(), 'уникальных стран')\n",
    "print(data['StockCode'].value_counts().index[0], 'идентификатор самого популярного товара')"
   ]
  },
  {
   "cell_type": "markdown",
   "metadata": {},
   "source": [
    "## 3. Предобработка и очистка данных"
   ]
  },
  {
   "cell_type": "markdown",
   "metadata": {
    "tags": []
   },
   "source": [
    "### Задание 3.1\n",
    "\n",
    "1) Сколько всего в таблице пропущенных значений?\n",
    "\n",
    "2) Пропуски в столбце с идентификатором клиента и описанием товара свидетельствуют о некорректных/незавершённых транзакциях.  \n",
    "Удалим строки, содержащие пропуски в этих столбцах.\n",
    "\n"
   ]
  },
  {
   "cell_type": "code",
   "execution_count": 89,
   "metadata": {},
   "outputs": [
    {
     "name": "stdout",
     "output_type": "stream",
     "text": [
      "136534 всего пропусков\n"
     ]
    },
    {
     "data": {
      "text/plain": [
       "(406829, 8)"
      ]
     },
     "execution_count": 89,
     "metadata": {},
     "output_type": "execute_result"
    }
   ],
   "source": [
    "print(data.isnull().sum().sum(), 'всего пропусков')\n",
    "data = data.dropna(subset=['CustomerID', 'StockCode'], axis =0)\n",
    "data.shape"
   ]
  },
  {
   "cell_type": "markdown",
   "metadata": {},
   "source": [
    "### Задание 3.2\n",
    "Следом за пропусками проверим наличие дубликатов.\n",
    "\n",
    "1) Сколько в таблице полностью дублирующихся записей?\n",
    "\n",
    "2) Удалите дубликаты из таблицы. Сколько строк осталось?\n",
    "\n"
   ]
  },
  {
   "cell_type": "code",
   "execution_count": 90,
   "metadata": {},
   "outputs": [
    {
     "name": "stdout",
     "output_type": "stream",
     "text": [
      "5225\n"
     ]
    },
    {
     "data": {
      "text/plain": [
       "(401604, 8)"
      ]
     },
     "execution_count": 90,
     "metadata": {},
     "output_type": "execute_result"
    }
   ],
   "source": [
    "print(data.duplicated().sum())\n",
    "data = data.drop_duplicates()\n",
    "data.shape"
   ]
  },
  {
   "cell_type": "markdown",
   "metadata": {},
   "source": [
    "### Задание 3.3\n",
    "Проверим, что все записи из таблицы с отрицательным количеством товара действительно являются возвратными транзакциями. Если транзакция не является возвратом, но содержит отрицательное количество товара, это будет поводом считать её выбросом. \n",
    "\n",
    "Сколько транзакций из таблицы negative_quantity не содержат в номере заказа признак возврата?"
   ]
  },
  {
   "cell_type": "code",
   "execution_count": 91,
   "metadata": {},
   "outputs": [
    {
     "data": {
      "text/plain": [
       "(0, 8)"
      ]
     },
     "execution_count": 91,
     "metadata": {},
     "output_type": "execute_result"
    }
   ],
   "source": [
    "returns = data[(data['Quantity'] < 0) & ~(data['InvoiceNo'].str.startswith('C'))]\n",
    "returns.shape"
   ]
  },
  {
   "cell_type": "markdown",
   "metadata": {},
   "source": [
    "Определим, сколько уникальных товаров указано в транзакции для каждой уникальной пары «клиент-заказ»:\n"
   ]
  },
  {
   "cell_type": "code",
   "execution_count": 92,
   "metadata": {},
   "outputs": [
    {
     "data": {
      "text/html": [
       "<div>\n",
       "<style scoped>\n",
       "    .dataframe tbody tr th:only-of-type {\n",
       "        vertical-align: middle;\n",
       "    }\n",
       "\n",
       "    .dataframe tbody tr th {\n",
       "        vertical-align: top;\n",
       "    }\n",
       "\n",
       "    .dataframe thead th {\n",
       "        text-align: right;\n",
       "    }\n",
       "</style>\n",
       "<table border=\"1\" class=\"dataframe\">\n",
       "  <thead>\n",
       "    <tr style=\"text-align: right;\">\n",
       "      <th></th>\n",
       "      <th>CustomerID</th>\n",
       "      <th>InvoiceNo</th>\n",
       "      <th>Number of products</th>\n",
       "    </tr>\n",
       "  </thead>\n",
       "  <tbody>\n",
       "    <tr>\n",
       "      <th>0</th>\n",
       "      <td>12346</td>\n",
       "      <td>541431</td>\n",
       "      <td>1</td>\n",
       "    </tr>\n",
       "    <tr>\n",
       "      <th>1</th>\n",
       "      <td>12346</td>\n",
       "      <td>C541433</td>\n",
       "      <td>1</td>\n",
       "    </tr>\n",
       "    <tr>\n",
       "      <th>2</th>\n",
       "      <td>12347</td>\n",
       "      <td>537626</td>\n",
       "      <td>31</td>\n",
       "    </tr>\n",
       "    <tr>\n",
       "      <th>3</th>\n",
       "      <td>12347</td>\n",
       "      <td>542237</td>\n",
       "      <td>29</td>\n",
       "    </tr>\n",
       "    <tr>\n",
       "      <th>4</th>\n",
       "      <td>12347</td>\n",
       "      <td>549222</td>\n",
       "      <td>24</td>\n",
       "    </tr>\n",
       "  </tbody>\n",
       "</table>\n",
       "</div>"
      ],
      "text/plain": [
       "  CustomerID InvoiceNo  Number of products\n",
       "0      12346    541431                   1\n",
       "1      12346   C541433                   1\n",
       "2      12347    537626                  31\n",
       "3      12347    542237                  29\n",
       "4      12347    549222                  24"
      ]
     },
     "execution_count": 92,
     "metadata": {},
     "output_type": "execute_result"
    }
   ],
   "source": [
    "temp = data.groupby(by=['CustomerID', 'InvoiceNo'], as_index=False)['InvoiceDate'].count()\n",
    "nb_products_per_basket = temp.rename(columns = {'InvoiceDate':'Number of products'})\n",
    "nb_products_per_basket.head()"
   ]
  },
  {
   "cell_type": "markdown",
   "metadata": {},
   "source": [
    "### Задание 3.4\n",
    "Добавьте во вспомогательную таблицу nb_products_per_basket признак отмены заказа (order_canceled): он равен 1, если транзакция является возвратом, и 0 — в противном случае.\n",
    "\n",
    "Сколько процентов заказов в таблице являются возвратами? Ответ приведите в виде целого числа.\n"
   ]
  },
  {
   "cell_type": "code",
   "execution_count": 93,
   "metadata": {},
   "outputs": [
    {
     "data": {
      "text/plain": [
       "order_canceled\n",
       "0    83.533123\n",
       "1    16.466877\n",
       "Name: proportion, dtype: float64"
      ]
     },
     "execution_count": 93,
     "metadata": {},
     "output_type": "execute_result"
    }
   ],
   "source": [
    "nb_products_per_basket['order_canceled'] = nb_products_per_basket['InvoiceNo'].apply(lambda x: 1 if (x.startswith('C')) else 0)\n",
    "nb_products_per_basket['order_canceled'].value_counts(normalize=True) * 100"
   ]
  },
  {
   "cell_type": "markdown",
   "metadata": {},
   "source": [
    "Давайте поближе взглянем на отмененные заказы:\n"
   ]
  },
  {
   "cell_type": "code",
   "execution_count": 94,
   "metadata": {},
   "outputs": [
    {
     "data": {
      "text/html": [
       "<div>\n",
       "<style scoped>\n",
       "    .dataframe tbody tr th:only-of-type {\n",
       "        vertical-align: middle;\n",
       "    }\n",
       "\n",
       "    .dataframe tbody tr th {\n",
       "        vertical-align: top;\n",
       "    }\n",
       "\n",
       "    .dataframe thead th {\n",
       "        text-align: right;\n",
       "    }\n",
       "</style>\n",
       "<table border=\"1\" class=\"dataframe\">\n",
       "  <thead>\n",
       "    <tr style=\"text-align: right;\">\n",
       "      <th></th>\n",
       "      <th>InvoiceNo</th>\n",
       "      <th>StockCode</th>\n",
       "      <th>Description</th>\n",
       "      <th>Quantity</th>\n",
       "      <th>InvoiceDate</th>\n",
       "      <th>UnitPrice</th>\n",
       "      <th>CustomerID</th>\n",
       "      <th>Country</th>\n",
       "    </tr>\n",
       "  </thead>\n",
       "  <tbody>\n",
       "    <tr>\n",
       "      <th>61619</th>\n",
       "      <td>541431</td>\n",
       "      <td>23166</td>\n",
       "      <td>MEDIUM CERAMIC TOP STORAGE JAR</td>\n",
       "      <td>74215</td>\n",
       "      <td>2011-01-18 10:01:00</td>\n",
       "      <td>1.04</td>\n",
       "      <td>12346</td>\n",
       "      <td>United Kingdom</td>\n",
       "    </tr>\n",
       "    <tr>\n",
       "      <th>61624</th>\n",
       "      <td>C541433</td>\n",
       "      <td>23166</td>\n",
       "      <td>MEDIUM CERAMIC TOP STORAGE JAR</td>\n",
       "      <td>-74215</td>\n",
       "      <td>2011-01-18 10:17:00</td>\n",
       "      <td>1.04</td>\n",
       "      <td>12346</td>\n",
       "      <td>United Kingdom</td>\n",
       "    </tr>\n",
       "  </tbody>\n",
       "</table>\n",
       "</div>"
      ],
      "text/plain": [
       "      InvoiceNo StockCode                     Description  Quantity  \\\n",
       "61619    541431     23166  MEDIUM CERAMIC TOP STORAGE JAR     74215   \n",
       "61624   C541433     23166  MEDIUM CERAMIC TOP STORAGE JAR    -74215   \n",
       "\n",
       "              InvoiceDate  UnitPrice CustomerID         Country  \n",
       "61619 2011-01-18 10:01:00       1.04      12346  United Kingdom  \n",
       "61624 2011-01-18 10:17:00       1.04      12346  United Kingdom  "
      ]
     },
     "execution_count": 94,
     "metadata": {},
     "output_type": "execute_result"
    }
   ],
   "source": [
    "data[data['CustomerID'] == '12346']"
   ]
  },
  {
   "cell_type": "markdown",
   "metadata": {},
   "source": [
    "Можно заметить пару заказ-отмена"
   ]
  },
  {
   "cell_type": "markdown",
   "metadata": {},
   "source": [
    "### Задание 3.5\n",
    "Проверим, что для каждой отменённой транзакции в базе данных существует её аналог с тем же кодом товара, идентификатором клиента и противоположным значением количества товара."
   ]
  },
  {
   "cell_type": "code",
   "execution_count": 95,
   "metadata": {},
   "outputs": [
    {
     "name": "stdout",
     "output_type": "stream",
     "text": [
      "Количество несовпадений: 5626\n"
     ]
    }
   ],
   "source": [
    "negative_quantity = data[(data['Quantity']<0)]\n",
    "returns = negative_quantity.copy()\n",
    "returns.reset_index(inplace=True)\n",
    "# Меняем количество на положительное \n",
    "returns['Quantity'] = -returns['Quantity'] \n",
    "# Соединяем оригинальный сет и возвраты\n",
    "matched = pd.merge(returns, data,\n",
    "                    on=['StockCode', 'CustomerID', 'Quantity'], how='inner')\n",
    "matched.drop_duplicates(subset='index', inplace=True)\n",
    "print(f'Количество несовпадений: {negative_quantity.shape[0] - matched.shape[0]}')\n"
   ]
  },
  {
   "cell_type": "markdown",
   "metadata": {},
   "source": [
    "### Задание 3.6\n",
    "Выдвигаем новую гипотезу: для каждой отменённой транзакции в базе данных существует её аналог с тем же кодом товара, идентификатором клиента и противоположным значением количества товара, если на товар не распространяются скидки.\n",
    "\n"
   ]
  },
  {
   "cell_type": "code",
   "execution_count": 96,
   "metadata": {},
   "outputs": [
    {
     "name": "stdout",
     "output_type": "stream",
     "text": [
      "Количество несовпадений: 5549\n"
     ]
    }
   ],
   "source": [
    "negative_quantity_d = negative_quantity[(negative_quantity['StockCode'] != 'D')]\n",
    "returns_d = negative_quantity_d.copy()\n",
    "returns_d.reset_index(inplace=True)\n",
    "# Меняем количество на положительное \n",
    "returns_d['Quantity'] = -returns_d['Quantity'] \n",
    "# Соединяем оригинальный сет и возвраты\n",
    "matched = pd.merge(returns_d, data,\n",
    "                    on=['StockCode', 'CustomerID', 'Quantity'], how='inner')\n",
    "matched.drop_duplicates(subset='index', inplace=True)\n",
    "print(f'Количество несовпадений: {negative_quantity_d.shape[0] - matched.shape[0]}')"
   ]
  },
  {
   "cell_type": "code",
   "execution_count": 97,
   "metadata": {},
   "outputs": [
    {
     "data": {
      "text/html": [
       "<div>\n",
       "<style scoped>\n",
       "    .dataframe tbody tr th:only-of-type {\n",
       "        vertical-align: middle;\n",
       "    }\n",
       "\n",
       "    .dataframe tbody tr th {\n",
       "        vertical-align: top;\n",
       "    }\n",
       "\n",
       "    .dataframe thead th {\n",
       "        text-align: right;\n",
       "    }\n",
       "</style>\n",
       "<table border=\"1\" class=\"dataframe\">\n",
       "  <thead>\n",
       "    <tr style=\"text-align: right;\">\n",
       "      <th></th>\n",
       "      <th>InvoiceNo</th>\n",
       "      <th>StockCode</th>\n",
       "      <th>Description</th>\n",
       "      <th>Quantity</th>\n",
       "      <th>InvoiceDate</th>\n",
       "      <th>UnitPrice</th>\n",
       "      <th>CustomerID</th>\n",
       "      <th>Country</th>\n",
       "    </tr>\n",
       "  </thead>\n",
       "  <tbody>\n",
       "    <tr>\n",
       "      <th>154</th>\n",
       "      <td>C536383</td>\n",
       "      <td>35004C</td>\n",
       "      <td>SET OF 3 COLOURED  FLYING DUCKS</td>\n",
       "      <td>-1</td>\n",
       "      <td>2010-12-01 09:49:00</td>\n",
       "      <td>4.65</td>\n",
       "      <td>15311</td>\n",
       "      <td>United Kingdom</td>\n",
       "    </tr>\n",
       "    <tr>\n",
       "      <th>9200</th>\n",
       "      <td>537195</td>\n",
       "      <td>35004C</td>\n",
       "      <td>SET OF 3 COLOURED  FLYING DUCKS</td>\n",
       "      <td>12</td>\n",
       "      <td>2010-12-05 13:55:00</td>\n",
       "      <td>4.65</td>\n",
       "      <td>15311</td>\n",
       "      <td>United Kingdom</td>\n",
       "    </tr>\n",
       "    <tr>\n",
       "      <th>18196</th>\n",
       "      <td>C537805</td>\n",
       "      <td>35004C</td>\n",
       "      <td>SET OF 3 COLOURED  FLYING DUCKS</td>\n",
       "      <td>-1</td>\n",
       "      <td>2010-12-08 13:18:00</td>\n",
       "      <td>4.65</td>\n",
       "      <td>15311</td>\n",
       "      <td>United Kingdom</td>\n",
       "    </tr>\n",
       "    <tr>\n",
       "      <th>28630</th>\n",
       "      <td>538651</td>\n",
       "      <td>35004C</td>\n",
       "      <td>SET OF 3 COLOURED  FLYING DUCKS</td>\n",
       "      <td>12</td>\n",
       "      <td>2010-12-13 15:07:00</td>\n",
       "      <td>4.65</td>\n",
       "      <td>15311</td>\n",
       "      <td>United Kingdom</td>\n",
       "    </tr>\n",
       "    <tr>\n",
       "      <th>39381</th>\n",
       "      <td>C539640</td>\n",
       "      <td>35004C</td>\n",
       "      <td>SET OF 3 COLOURED  FLYING DUCKS</td>\n",
       "      <td>-3</td>\n",
       "      <td>2010-12-20 15:27:00</td>\n",
       "      <td>4.65</td>\n",
       "      <td>15311</td>\n",
       "      <td>United Kingdom</td>\n",
       "    </tr>\n",
       "    <tr>\n",
       "      <th>44157</th>\n",
       "      <td>540157</td>\n",
       "      <td>35004C</td>\n",
       "      <td>SET OF 3 COLOURED  FLYING DUCKS</td>\n",
       "      <td>12</td>\n",
       "      <td>2011-01-05 11:41:00</td>\n",
       "      <td>4.65</td>\n",
       "      <td>15311</td>\n",
       "      <td>United Kingdom</td>\n",
       "    </tr>\n",
       "    <tr>\n",
       "      <th>59542</th>\n",
       "      <td>541293</td>\n",
       "      <td>35004C</td>\n",
       "      <td>SET OF 3 COLOURED  FLYING DUCKS</td>\n",
       "      <td>12</td>\n",
       "      <td>2011-01-17 13:39:00</td>\n",
       "      <td>4.65</td>\n",
       "      <td>15311</td>\n",
       "      <td>United Kingdom</td>\n",
       "    </tr>\n",
       "    <tr>\n",
       "      <th>78333</th>\n",
       "      <td>C542866</td>\n",
       "      <td>35004C</td>\n",
       "      <td>SET OF 3 COLOURED  FLYING DUCKS</td>\n",
       "      <td>-2</td>\n",
       "      <td>2011-02-01 12:14:00</td>\n",
       "      <td>4.65</td>\n",
       "      <td>15311</td>\n",
       "      <td>United Kingdom</td>\n",
       "    </tr>\n",
       "  </tbody>\n",
       "</table>\n",
       "</div>"
      ],
      "text/plain": [
       "      InvoiceNo StockCode                      Description  Quantity  \\\n",
       "154     C536383    35004C  SET OF 3 COLOURED  FLYING DUCKS        -1   \n",
       "9200     537195    35004C  SET OF 3 COLOURED  FLYING DUCKS        12   \n",
       "18196   C537805    35004C  SET OF 3 COLOURED  FLYING DUCKS        -1   \n",
       "28630    538651    35004C  SET OF 3 COLOURED  FLYING DUCKS        12   \n",
       "39381   C539640    35004C  SET OF 3 COLOURED  FLYING DUCKS        -3   \n",
       "44157    540157    35004C  SET OF 3 COLOURED  FLYING DUCKS        12   \n",
       "59542    541293    35004C  SET OF 3 COLOURED  FLYING DUCKS        12   \n",
       "78333   C542866    35004C  SET OF 3 COLOURED  FLYING DUCKS        -2   \n",
       "\n",
       "              InvoiceDate  UnitPrice CustomerID         Country  \n",
       "154   2010-12-01 09:49:00       4.65      15311  United Kingdom  \n",
       "9200  2010-12-05 13:55:00       4.65      15311  United Kingdom  \n",
       "18196 2010-12-08 13:18:00       4.65      15311  United Kingdom  \n",
       "28630 2010-12-13 15:07:00       4.65      15311  United Kingdom  \n",
       "39381 2010-12-20 15:27:00       4.65      15311  United Kingdom  \n",
       "44157 2011-01-05 11:41:00       4.65      15311  United Kingdom  \n",
       "59542 2011-01-17 13:39:00       4.65      15311  United Kingdom  \n",
       "78333 2011-02-01 12:14:00       4.65      15311  United Kingdom  "
      ]
     },
     "execution_count": 97,
     "metadata": {},
     "output_type": "execute_result"
    }
   ],
   "source": [
    "data[(data['CustomerID'] == '15311') & (data['StockCode'] == '35004C')]"
   ]
  },
  {
   "cell_type": "markdown",
   "metadata": {},
   "source": [
    "* Проблема в том, что заказ на покупку данного товара от клиента поступил раньше декабря 2010 года, а этих данных в нашей таблице нет. \n",
    "\n",
    "* Также клиент может отменить не весь заказ, а только его часть.\n",
    "\n",
    "Создадим в данных о транзакциях признак QuantityCanceled, который будет указывать на количество возвращённого впоследствии товара для каждой транзакции.  \n"
   ]
  },
  {
   "cell_type": "code",
   "execution_count": 65,
   "metadata": {},
   "outputs": [],
   "source": [
    "# Функция get_quantity_canceled() принимает на вход таблицу с транзакциями и возвращает объект Series — столбец, \n",
    "# в котором указано количество возвращённого впоследствии товара для каждой транзакции.\n",
    "def get_quantity_canceled(data):\n",
    "    # Инициализируем Series той же длины, что и столбцы таблицы, нулями\n",
    "    quantity_canceled = pd.Series(np.zeros(data.shape[0]), index=data.index)    \n",
    "    negative_quantity = data[(data['Quantity'] < 0)].copy()\n",
    "    for col in negative_quantity.itertuples():\n",
    "        # Создаем DataFrame из всех контрагентов\n",
    "        df_test = data[(data['CustomerID'] == col.CustomerID) &\n",
    "                        (data['StockCode']  == col.StockCode) & \n",
    "                        (data['InvoiceDate'] < col.InvoiceDate) & \n",
    "                        ((quantity_canceled.loc[col.Index] - col.Quantity) <= data['Quantity'])].copy()\n",
    "        # Транзация-возврат не имеет контрагента - ничего не делаем\n",
    "        if (df_test.shape[0] == 0): \n",
    "            continue\n",
    "        # Транзакция-возврат имеет одного и более контрагентов\n",
    "        # Добавляем количество отмененного в столбец QuantityCanceled \n",
    "        else:\n",
    "            df_test.sort_index(axis=0 ,ascending=False, inplace = True)\n",
    "            index_order = df_test.index[0]\n",
    "            quantity_canceled.loc[index_order] = quantity_canceled.loc[index_order] - col.Quantity       \n",
    "    return quantity_canceled\n",
    "\n",
    "quantity_canceled = get_quantity_canceled(data)"
   ]
  },
  {
   "cell_type": "markdown",
   "metadata": {},
   "source": [
    "### Задание 3.7\n",
    "Подсчитайте суммарное количество отмененных товаров в столбце QuantityCanceled. \n"
   ]
  },
  {
   "cell_type": "code",
   "execution_count": 98,
   "metadata": {},
   "outputs": [
    {
     "data": {
      "text/plain": [
       "248146.0"
      ]
     },
     "execution_count": 98,
     "metadata": {},
     "output_type": "execute_result"
    }
   ],
   "source": [
    "data['QuantityCanceled'] = quantity_canceled\n",
    "data['QuantityCanceled'].sum()"
   ]
  },
  {
   "cell_type": "markdown",
   "metadata": {},
   "source": [
    "## Задание 3.8\n",
    "Теперь, когда мы разобрались с транзакциями-возвратами, они больше нам не понадобятся. \n",
    "Удалите из таблицы транзакции, в поле которых указано отрицательное количество товара.  \n",
    "Сколько записей осталось?"
   ]
  },
  {
   "cell_type": "code",
   "execution_count": 99,
   "metadata": {},
   "outputs": [
    {
     "data": {
      "text/plain": [
       "(392732, 9)"
      ]
     },
     "execution_count": 99,
     "metadata": {},
     "output_type": "execute_result"
    }
   ],
   "source": [
    "data = data[data['Quantity'] > 0]\n",
    "data.shape"
   ]
  },
  {
   "cell_type": "markdown",
   "metadata": {},
   "source": [
    "### Задание 3.9\n",
    "Найдем коды товаров, которые начинаются с латинских букв. \n",
    "\n",
    "1) Сколько уникальных специальных видов транзакций вам удалось найти?\n",
    "\n",
    "Специальные операции не характеризуют клиентов, поэтому такие записи не нужны. Удалиv все специальные транзакции из таблицы. \n",
    "\n",
    "2) Сколько записей осталось?\n",
    "\n"
   ]
  },
  {
   "cell_type": "code",
   "execution_count": 104,
   "metadata": {},
   "outputs": [
    {
     "name": "stdout",
     "output_type": "stream",
     "text": [
      "StockCode\n",
      "POST            1099\n",
      "M                285\n",
      "C2               133\n",
      "DOT               16\n",
      "BANK CHARGES      12\n",
      "PADS               4\n",
      "Name: count, dtype: int64\n"
     ]
    },
    {
     "data": {
      "text/plain": [
       "StockCode\n",
       "85123A    2023\n",
       "22423     1714\n",
       "85099B    1615\n",
       "84879     1395\n",
       "47566     1390\n",
       "          ... \n",
       "20678        1\n",
       "90059D       1\n",
       "90168        1\n",
       "90169        1\n",
       "23843        1\n",
       "Name: count, Length: 3665, dtype: int64"
      ]
     },
     "execution_count": 104,
     "metadata": {},
     "output_type": "execute_result"
    }
   ],
   "source": [
    "product_codes = data[data['StockCode'].str.contains('^[a-zA-Z]\\d*', regex=True)]\n",
    "print(product_codes['StockCode'].value_counts())\n",
    "data['StockCode'].value_counts()"
   ]
  },
  {
   "cell_type": "code",
   "execution_count": 110,
   "metadata": {},
   "outputs": [
    {
     "data": {
      "text/plain": [
       "(391183, 9)"
      ]
     },
     "execution_count": 110,
     "metadata": {},
     "output_type": "execute_result"
    }
   ],
   "source": [
    "data = data[data['StockCode'].str.match('^\\d')]\n",
    "data.shape"
   ]
  },
  {
   "cell_type": "markdown",
   "metadata": {},
   "source": [
    "### Задание 3.10\n",
    "На некоторые товары установлена цена в 0 фунтов стерлингов. \n",
    "\n",
    "1) В скольких транзакциях цена за единицу товара равна 0?\n",
    "\n",
    "2) Таких транзакций оказалось менее 1 %, поэтому от них можно просто избавиться.  \n",
    "Сколько записей осталось?\n",
    "\n"
   ]
  },
  {
   "cell_type": "code",
   "execution_count": 114,
   "metadata": {},
   "outputs": [
    {
     "name": "stdout",
     "output_type": "stream",
     "text": [
      "(33, 9)\n"
     ]
    },
    {
     "data": {
      "text/html": [
       "<div>\n",
       "<style scoped>\n",
       "    .dataframe tbody tr th:only-of-type {\n",
       "        vertical-align: middle;\n",
       "    }\n",
       "\n",
       "    .dataframe tbody tr th {\n",
       "        vertical-align: top;\n",
       "    }\n",
       "\n",
       "    .dataframe thead th {\n",
       "        text-align: right;\n",
       "    }\n",
       "</style>\n",
       "<table border=\"1\" class=\"dataframe\">\n",
       "  <thead>\n",
       "    <tr style=\"text-align: right;\">\n",
       "      <th></th>\n",
       "      <th>InvoiceNo</th>\n",
       "      <th>StockCode</th>\n",
       "      <th>Description</th>\n",
       "      <th>Quantity</th>\n",
       "      <th>InvoiceDate</th>\n",
       "      <th>UnitPrice</th>\n",
       "      <th>CustomerID</th>\n",
       "      <th>Country</th>\n",
       "      <th>QuantityCanceled</th>\n",
       "    </tr>\n",
       "  </thead>\n",
       "  <tbody>\n",
       "    <tr>\n",
       "      <th>0</th>\n",
       "      <td>536365</td>\n",
       "      <td>85123A</td>\n",
       "      <td>WHITE HANGING HEART T-LIGHT HOLDER</td>\n",
       "      <td>6</td>\n",
       "      <td>2010-12-01 08:26:00</td>\n",
       "      <td>2.55</td>\n",
       "      <td>17850</td>\n",
       "      <td>United Kingdom</td>\n",
       "      <td>0.0</td>\n",
       "    </tr>\n",
       "    <tr>\n",
       "      <th>1</th>\n",
       "      <td>536365</td>\n",
       "      <td>71053</td>\n",
       "      <td>WHITE METAL LANTERN</td>\n",
       "      <td>6</td>\n",
       "      <td>2010-12-01 08:26:00</td>\n",
       "      <td>3.39</td>\n",
       "      <td>17850</td>\n",
       "      <td>United Kingdom</td>\n",
       "      <td>0.0</td>\n",
       "    </tr>\n",
       "    <tr>\n",
       "      <th>2</th>\n",
       "      <td>536365</td>\n",
       "      <td>84406B</td>\n",
       "      <td>CREAM CUPID HEARTS COAT HANGER</td>\n",
       "      <td>8</td>\n",
       "      <td>2010-12-01 08:26:00</td>\n",
       "      <td>2.75</td>\n",
       "      <td>17850</td>\n",
       "      <td>United Kingdom</td>\n",
       "      <td>0.0</td>\n",
       "    </tr>\n",
       "    <tr>\n",
       "      <th>3</th>\n",
       "      <td>536365</td>\n",
       "      <td>84029G</td>\n",
       "      <td>KNITTED UNION FLAG HOT WATER BOTTLE</td>\n",
       "      <td>6</td>\n",
       "      <td>2010-12-01 08:26:00</td>\n",
       "      <td>3.39</td>\n",
       "      <td>17850</td>\n",
       "      <td>United Kingdom</td>\n",
       "      <td>0.0</td>\n",
       "    </tr>\n",
       "    <tr>\n",
       "      <th>4</th>\n",
       "      <td>536365</td>\n",
       "      <td>84029E</td>\n",
       "      <td>RED WOOLLY HOTTIE WHITE HEART.</td>\n",
       "      <td>6</td>\n",
       "      <td>2010-12-01 08:26:00</td>\n",
       "      <td>3.39</td>\n",
       "      <td>17850</td>\n",
       "      <td>United Kingdom</td>\n",
       "      <td>0.0</td>\n",
       "    </tr>\n",
       "    <tr>\n",
       "      <th>...</th>\n",
       "      <td>...</td>\n",
       "      <td>...</td>\n",
       "      <td>...</td>\n",
       "      <td>...</td>\n",
       "      <td>...</td>\n",
       "      <td>...</td>\n",
       "      <td>...</td>\n",
       "      <td>...</td>\n",
       "      <td>...</td>\n",
       "    </tr>\n",
       "    <tr>\n",
       "      <th>541904</th>\n",
       "      <td>581587</td>\n",
       "      <td>22613</td>\n",
       "      <td>PACK OF 20 SPACEBOY NAPKINS</td>\n",
       "      <td>12</td>\n",
       "      <td>2011-12-09 12:50:00</td>\n",
       "      <td>0.85</td>\n",
       "      <td>12680</td>\n",
       "      <td>France</td>\n",
       "      <td>0.0</td>\n",
       "    </tr>\n",
       "    <tr>\n",
       "      <th>541905</th>\n",
       "      <td>581587</td>\n",
       "      <td>22899</td>\n",
       "      <td>CHILDREN'S APRON DOLLY GIRL</td>\n",
       "      <td>6</td>\n",
       "      <td>2011-12-09 12:50:00</td>\n",
       "      <td>2.10</td>\n",
       "      <td>12680</td>\n",
       "      <td>France</td>\n",
       "      <td>0.0</td>\n",
       "    </tr>\n",
       "    <tr>\n",
       "      <th>541906</th>\n",
       "      <td>581587</td>\n",
       "      <td>23254</td>\n",
       "      <td>CHILDRENS CUTLERY DOLLY GIRL</td>\n",
       "      <td>4</td>\n",
       "      <td>2011-12-09 12:50:00</td>\n",
       "      <td>4.15</td>\n",
       "      <td>12680</td>\n",
       "      <td>France</td>\n",
       "      <td>0.0</td>\n",
       "    </tr>\n",
       "    <tr>\n",
       "      <th>541907</th>\n",
       "      <td>581587</td>\n",
       "      <td>23255</td>\n",
       "      <td>CHILDRENS CUTLERY CIRCUS PARADE</td>\n",
       "      <td>4</td>\n",
       "      <td>2011-12-09 12:50:00</td>\n",
       "      <td>4.15</td>\n",
       "      <td>12680</td>\n",
       "      <td>France</td>\n",
       "      <td>0.0</td>\n",
       "    </tr>\n",
       "    <tr>\n",
       "      <th>541908</th>\n",
       "      <td>581587</td>\n",
       "      <td>22138</td>\n",
       "      <td>BAKING SET 9 PIECE RETROSPOT</td>\n",
       "      <td>3</td>\n",
       "      <td>2011-12-09 12:50:00</td>\n",
       "      <td>4.95</td>\n",
       "      <td>12680</td>\n",
       "      <td>France</td>\n",
       "      <td>0.0</td>\n",
       "    </tr>\n",
       "  </tbody>\n",
       "</table>\n",
       "<p>391150 rows × 9 columns</p>\n",
       "</div>"
      ],
      "text/plain": [
       "       InvoiceNo StockCode                          Description  Quantity  \\\n",
       "0         536365    85123A   WHITE HANGING HEART T-LIGHT HOLDER         6   \n",
       "1         536365     71053                  WHITE METAL LANTERN         6   \n",
       "2         536365    84406B       CREAM CUPID HEARTS COAT HANGER         8   \n",
       "3         536365    84029G  KNITTED UNION FLAG HOT WATER BOTTLE         6   \n",
       "4         536365    84029E       RED WOOLLY HOTTIE WHITE HEART.         6   \n",
       "...          ...       ...                                  ...       ...   \n",
       "541904    581587     22613          PACK OF 20 SPACEBOY NAPKINS        12   \n",
       "541905    581587     22899         CHILDREN'S APRON DOLLY GIRL          6   \n",
       "541906    581587     23254        CHILDRENS CUTLERY DOLLY GIRL          4   \n",
       "541907    581587     23255      CHILDRENS CUTLERY CIRCUS PARADE         4   \n",
       "541908    581587     22138        BAKING SET 9 PIECE RETROSPOT          3   \n",
       "\n",
       "               InvoiceDate  UnitPrice CustomerID         Country  \\\n",
       "0      2010-12-01 08:26:00       2.55      17850  United Kingdom   \n",
       "1      2010-12-01 08:26:00       3.39      17850  United Kingdom   \n",
       "2      2010-12-01 08:26:00       2.75      17850  United Kingdom   \n",
       "3      2010-12-01 08:26:00       3.39      17850  United Kingdom   \n",
       "4      2010-12-01 08:26:00       3.39      17850  United Kingdom   \n",
       "...                    ...        ...        ...             ...   \n",
       "541904 2011-12-09 12:50:00       0.85      12680          France   \n",
       "541905 2011-12-09 12:50:00       2.10      12680          France   \n",
       "541906 2011-12-09 12:50:00       4.15      12680          France   \n",
       "541907 2011-12-09 12:50:00       4.15      12680          France   \n",
       "541908 2011-12-09 12:50:00       4.95      12680          France   \n",
       "\n",
       "        QuantityCanceled  \n",
       "0                    0.0  \n",
       "1                    0.0  \n",
       "2                    0.0  \n",
       "3                    0.0  \n",
       "4                    0.0  \n",
       "...                  ...  \n",
       "541904               0.0  \n",
       "541905               0.0  \n",
       "541906               0.0  \n",
       "541907               0.0  \n",
       "541908               0.0  \n",
       "\n",
       "[391150 rows x 9 columns]"
      ]
     },
     "execution_count": 114,
     "metadata": {},
     "output_type": "execute_result"
    }
   ],
   "source": [
    "print(data[data['UnitPrice'] == 0].shape)\n",
    "data = data[data['UnitPrice'] != 0]\n",
    "data.shape"
   ]
  },
  {
   "cell_type": "code",
   "execution_count": 115,
   "metadata": {},
   "outputs": [],
   "source": [
    "data.to_csv('data_eda.csv')"
   ]
  },
  {
   "cell_type": "markdown",
   "metadata": {
    "_uuid": "0869dfd28b3c5a7c0c39c026d73c1828ae7efbeb"
   },
   "source": [
    "## 4. Разведывательный анализ данных"
   ]
  },
  {
   "cell_type": "code",
   "execution_count": 185,
   "metadata": {},
   "outputs": [],
   "source": [
    "data = pd.read_csv('data_eda.csv')"
   ]
  },
  {
   "cell_type": "markdown",
   "metadata": {},
   "source": [
    "### Задание 4.1\n",
    "Выясним, в каких странах живут клиенты.\n"
   ]
  },
  {
   "cell_type": "code",
   "execution_count": 186,
   "metadata": {},
   "outputs": [
    {
     "data": {
      "text/html": [
       "<div>\n",
       "<style scoped>\n",
       "    .dataframe tbody tr th:only-of-type {\n",
       "        vertical-align: middle;\n",
       "    }\n",
       "\n",
       "    .dataframe tbody tr th {\n",
       "        vertical-align: top;\n",
       "    }\n",
       "\n",
       "    .dataframe thead th {\n",
       "        text-align: right;\n",
       "    }\n",
       "</style>\n",
       "<table border=\"1\" class=\"dataframe\">\n",
       "  <thead>\n",
       "    <tr style=\"text-align: right;\">\n",
       "      <th></th>\n",
       "      <th>CustomerID</th>\n",
       "    </tr>\n",
       "    <tr>\n",
       "      <th>Country</th>\n",
       "      <th></th>\n",
       "    </tr>\n",
       "  </thead>\n",
       "  <tbody>\n",
       "    <tr>\n",
       "      <th>United Kingdom</th>\n",
       "      <td>3917</td>\n",
       "    </tr>\n",
       "    <tr>\n",
       "      <th>Germany</th>\n",
       "      <td>94</td>\n",
       "    </tr>\n",
       "    <tr>\n",
       "      <th>France</th>\n",
       "      <td>87</td>\n",
       "    </tr>\n",
       "    <tr>\n",
       "      <th>Spain</th>\n",
       "      <td>30</td>\n",
       "    </tr>\n",
       "    <tr>\n",
       "      <th>Belgium</th>\n",
       "      <td>25</td>\n",
       "    </tr>\n",
       "  </tbody>\n",
       "</table>\n",
       "</div>"
      ],
      "text/plain": [
       "                CustomerID\n",
       "Country                   \n",
       "United Kingdom        3917\n",
       "Germany                 94\n",
       "France                  87\n",
       "Spain                   30\n",
       "Belgium                 25"
      ]
     },
     "metadata": {},
     "output_type": "display_data"
    },
    {
     "data": {
      "application/vnd.plotly.v1+json": {
       "config": {
        "plotlyServerURL": "https://plot.ly"
       },
       "data": [
        {
         "coloraxis": "coloraxis",
         "geo": "geo",
         "hovertemplate": "Country=%{location}<br>CustomerID=%{z}<extra></extra>",
         "locationmode": "country names",
         "locations": [
          "United Kingdom",
          "Germany",
          "France",
          "Spain",
          "Belgium",
          "Switzerland",
          "Portugal",
          "Italy",
          "Finland",
          "Austria",
          "Norway",
          "Netherlands",
          "Australia",
          "Denmark",
          "Channel Islands",
          "Cyprus",
          "Sweden",
          "Japan",
          "Poland",
          "USA",
          "Canada",
          "Unspecified",
          "Greece",
          "EIRE",
          "Israel",
          "Malta",
          "United Arab Emirates",
          "Bahrain",
          "Czech Republic",
          "Lithuania",
          "Lebanon",
          "RSA",
          "Saudi Arabia",
          "Singapore",
          "Iceland",
          "Brazil",
          "European Community"
         ],
         "name": "",
         "type": "choropleth",
         "z": [
          3917,
          94,
          87,
          30,
          25,
          21,
          19,
          14,
          12,
          11,
          10,
          9,
          9,
          9,
          9,
          8,
          8,
          8,
          6,
          4,
          4,
          4,
          4,
          3,
          3,
          2,
          2,
          2,
          1,
          1,
          1,
          1,
          1,
          1,
          1,
          1,
          1
         ]
        }
       ],
       "layout": {
        "coloraxis": {
         "colorbar": {
          "title": {
           "text": "CustomerID"
          }
         },
         "colorscale": [
          [
           0,
           "rgb(158,1,66)"
          ],
          [
           0.1,
           "rgb(213,62,79)"
          ],
          [
           0.2,
           "rgb(244,109,67)"
          ],
          [
           0.3,
           "rgb(253,174,97)"
          ],
          [
           0.4,
           "rgb(254,224,139)"
          ],
          [
           0.5,
           "rgb(255,255,191)"
          ],
          [
           0.6,
           "rgb(230,245,152)"
          ],
          [
           0.7,
           "rgb(171,221,164)"
          ],
          [
           0.8,
           "rgb(102,194,165)"
          ],
          [
           0.9,
           "rgb(50,136,189)"
          ],
          [
           1,
           "rgb(94,79,162)"
          ]
         ]
        },
        "geo": {
         "center": {},
         "domain": {
          "x": [
           0,
           1
          ],
          "y": [
           0,
           1
          ]
         },
         "scope": "world"
        },
        "legend": {
         "tracegroupgap": 0
        },
        "margin": {
         "t": 60
        },
        "template": {
         "data": {
          "bar": [
           {
            "error_x": {
             "color": "#2a3f5f"
            },
            "error_y": {
             "color": "#2a3f5f"
            },
            "marker": {
             "line": {
              "color": "#E5ECF6",
              "width": 0.5
             },
             "pattern": {
              "fillmode": "overlay",
              "size": 10,
              "solidity": 0.2
             }
            },
            "type": "bar"
           }
          ],
          "barpolar": [
           {
            "marker": {
             "line": {
              "color": "#E5ECF6",
              "width": 0.5
             },
             "pattern": {
              "fillmode": "overlay",
              "size": 10,
              "solidity": 0.2
             }
            },
            "type": "barpolar"
           }
          ],
          "carpet": [
           {
            "aaxis": {
             "endlinecolor": "#2a3f5f",
             "gridcolor": "white",
             "linecolor": "white",
             "minorgridcolor": "white",
             "startlinecolor": "#2a3f5f"
            },
            "baxis": {
             "endlinecolor": "#2a3f5f",
             "gridcolor": "white",
             "linecolor": "white",
             "minorgridcolor": "white",
             "startlinecolor": "#2a3f5f"
            },
            "type": "carpet"
           }
          ],
          "choropleth": [
           {
            "colorbar": {
             "outlinewidth": 0,
             "ticks": ""
            },
            "type": "choropleth"
           }
          ],
          "contour": [
           {
            "colorbar": {
             "outlinewidth": 0,
             "ticks": ""
            },
            "colorscale": [
             [
              0,
              "#0d0887"
             ],
             [
              0.1111111111111111,
              "#46039f"
             ],
             [
              0.2222222222222222,
              "#7201a8"
             ],
             [
              0.3333333333333333,
              "#9c179e"
             ],
             [
              0.4444444444444444,
              "#bd3786"
             ],
             [
              0.5555555555555556,
              "#d8576b"
             ],
             [
              0.6666666666666666,
              "#ed7953"
             ],
             [
              0.7777777777777778,
              "#fb9f3a"
             ],
             [
              0.8888888888888888,
              "#fdca26"
             ],
             [
              1,
              "#f0f921"
             ]
            ],
            "type": "contour"
           }
          ],
          "contourcarpet": [
           {
            "colorbar": {
             "outlinewidth": 0,
             "ticks": ""
            },
            "type": "contourcarpet"
           }
          ],
          "heatmap": [
           {
            "colorbar": {
             "outlinewidth": 0,
             "ticks": ""
            },
            "colorscale": [
             [
              0,
              "#0d0887"
             ],
             [
              0.1111111111111111,
              "#46039f"
             ],
             [
              0.2222222222222222,
              "#7201a8"
             ],
             [
              0.3333333333333333,
              "#9c179e"
             ],
             [
              0.4444444444444444,
              "#bd3786"
             ],
             [
              0.5555555555555556,
              "#d8576b"
             ],
             [
              0.6666666666666666,
              "#ed7953"
             ],
             [
              0.7777777777777778,
              "#fb9f3a"
             ],
             [
              0.8888888888888888,
              "#fdca26"
             ],
             [
              1,
              "#f0f921"
             ]
            ],
            "type": "heatmap"
           }
          ],
          "heatmapgl": [
           {
            "colorbar": {
             "outlinewidth": 0,
             "ticks": ""
            },
            "colorscale": [
             [
              0,
              "#0d0887"
             ],
             [
              0.1111111111111111,
              "#46039f"
             ],
             [
              0.2222222222222222,
              "#7201a8"
             ],
             [
              0.3333333333333333,
              "#9c179e"
             ],
             [
              0.4444444444444444,
              "#bd3786"
             ],
             [
              0.5555555555555556,
              "#d8576b"
             ],
             [
              0.6666666666666666,
              "#ed7953"
             ],
             [
              0.7777777777777778,
              "#fb9f3a"
             ],
             [
              0.8888888888888888,
              "#fdca26"
             ],
             [
              1,
              "#f0f921"
             ]
            ],
            "type": "heatmapgl"
           }
          ],
          "histogram": [
           {
            "marker": {
             "pattern": {
              "fillmode": "overlay",
              "size": 10,
              "solidity": 0.2
             }
            },
            "type": "histogram"
           }
          ],
          "histogram2d": [
           {
            "colorbar": {
             "outlinewidth": 0,
             "ticks": ""
            },
            "colorscale": [
             [
              0,
              "#0d0887"
             ],
             [
              0.1111111111111111,
              "#46039f"
             ],
             [
              0.2222222222222222,
              "#7201a8"
             ],
             [
              0.3333333333333333,
              "#9c179e"
             ],
             [
              0.4444444444444444,
              "#bd3786"
             ],
             [
              0.5555555555555556,
              "#d8576b"
             ],
             [
              0.6666666666666666,
              "#ed7953"
             ],
             [
              0.7777777777777778,
              "#fb9f3a"
             ],
             [
              0.8888888888888888,
              "#fdca26"
             ],
             [
              1,
              "#f0f921"
             ]
            ],
            "type": "histogram2d"
           }
          ],
          "histogram2dcontour": [
           {
            "colorbar": {
             "outlinewidth": 0,
             "ticks": ""
            },
            "colorscale": [
             [
              0,
              "#0d0887"
             ],
             [
              0.1111111111111111,
              "#46039f"
             ],
             [
              0.2222222222222222,
              "#7201a8"
             ],
             [
              0.3333333333333333,
              "#9c179e"
             ],
             [
              0.4444444444444444,
              "#bd3786"
             ],
             [
              0.5555555555555556,
              "#d8576b"
             ],
             [
              0.6666666666666666,
              "#ed7953"
             ],
             [
              0.7777777777777778,
              "#fb9f3a"
             ],
             [
              0.8888888888888888,
              "#fdca26"
             ],
             [
              1,
              "#f0f921"
             ]
            ],
            "type": "histogram2dcontour"
           }
          ],
          "mesh3d": [
           {
            "colorbar": {
             "outlinewidth": 0,
             "ticks": ""
            },
            "type": "mesh3d"
           }
          ],
          "parcoords": [
           {
            "line": {
             "colorbar": {
              "outlinewidth": 0,
              "ticks": ""
             }
            },
            "type": "parcoords"
           }
          ],
          "pie": [
           {
            "automargin": true,
            "type": "pie"
           }
          ],
          "scatter": [
           {
            "fillpattern": {
             "fillmode": "overlay",
             "size": 10,
             "solidity": 0.2
            },
            "type": "scatter"
           }
          ],
          "scatter3d": [
           {
            "line": {
             "colorbar": {
              "outlinewidth": 0,
              "ticks": ""
             }
            },
            "marker": {
             "colorbar": {
              "outlinewidth": 0,
              "ticks": ""
             }
            },
            "type": "scatter3d"
           }
          ],
          "scattercarpet": [
           {
            "marker": {
             "colorbar": {
              "outlinewidth": 0,
              "ticks": ""
             }
            },
            "type": "scattercarpet"
           }
          ],
          "scattergeo": [
           {
            "marker": {
             "colorbar": {
              "outlinewidth": 0,
              "ticks": ""
             }
            },
            "type": "scattergeo"
           }
          ],
          "scattergl": [
           {
            "marker": {
             "colorbar": {
              "outlinewidth": 0,
              "ticks": ""
             }
            },
            "type": "scattergl"
           }
          ],
          "scattermapbox": [
           {
            "marker": {
             "colorbar": {
              "outlinewidth": 0,
              "ticks": ""
             }
            },
            "type": "scattermapbox"
           }
          ],
          "scatterpolar": [
           {
            "marker": {
             "colorbar": {
              "outlinewidth": 0,
              "ticks": ""
             }
            },
            "type": "scatterpolar"
           }
          ],
          "scatterpolargl": [
           {
            "marker": {
             "colorbar": {
              "outlinewidth": 0,
              "ticks": ""
             }
            },
            "type": "scatterpolargl"
           }
          ],
          "scatterternary": [
           {
            "marker": {
             "colorbar": {
              "outlinewidth": 0,
              "ticks": ""
             }
            },
            "type": "scatterternary"
           }
          ],
          "surface": [
           {
            "colorbar": {
             "outlinewidth": 0,
             "ticks": ""
            },
            "colorscale": [
             [
              0,
              "#0d0887"
             ],
             [
              0.1111111111111111,
              "#46039f"
             ],
             [
              0.2222222222222222,
              "#7201a8"
             ],
             [
              0.3333333333333333,
              "#9c179e"
             ],
             [
              0.4444444444444444,
              "#bd3786"
             ],
             [
              0.5555555555555556,
              "#d8576b"
             ],
             [
              0.6666666666666666,
              "#ed7953"
             ],
             [
              0.7777777777777778,
              "#fb9f3a"
             ],
             [
              0.8888888888888888,
              "#fdca26"
             ],
             [
              1,
              "#f0f921"
             ]
            ],
            "type": "surface"
           }
          ],
          "table": [
           {
            "cells": {
             "fill": {
              "color": "#EBF0F8"
             },
             "line": {
              "color": "white"
             }
            },
            "header": {
             "fill": {
              "color": "#C8D4E3"
             },
             "line": {
              "color": "white"
             }
            },
            "type": "table"
           }
          ]
         },
         "layout": {
          "annotationdefaults": {
           "arrowcolor": "#2a3f5f",
           "arrowhead": 0,
           "arrowwidth": 1
          },
          "autotypenumbers": "strict",
          "coloraxis": {
           "colorbar": {
            "outlinewidth": 0,
            "ticks": ""
           }
          },
          "colorscale": {
           "diverging": [
            [
             0,
             "#8e0152"
            ],
            [
             0.1,
             "#c51b7d"
            ],
            [
             0.2,
             "#de77ae"
            ],
            [
             0.3,
             "#f1b6da"
            ],
            [
             0.4,
             "#fde0ef"
            ],
            [
             0.5,
             "#f7f7f7"
            ],
            [
             0.6,
             "#e6f5d0"
            ],
            [
             0.7,
             "#b8e186"
            ],
            [
             0.8,
             "#7fbc41"
            ],
            [
             0.9,
             "#4d9221"
            ],
            [
             1,
             "#276419"
            ]
           ],
           "sequential": [
            [
             0,
             "#0d0887"
            ],
            [
             0.1111111111111111,
             "#46039f"
            ],
            [
             0.2222222222222222,
             "#7201a8"
            ],
            [
             0.3333333333333333,
             "#9c179e"
            ],
            [
             0.4444444444444444,
             "#bd3786"
            ],
            [
             0.5555555555555556,
             "#d8576b"
            ],
            [
             0.6666666666666666,
             "#ed7953"
            ],
            [
             0.7777777777777778,
             "#fb9f3a"
            ],
            [
             0.8888888888888888,
             "#fdca26"
            ],
            [
             1,
             "#f0f921"
            ]
           ],
           "sequentialminus": [
            [
             0,
             "#0d0887"
            ],
            [
             0.1111111111111111,
             "#46039f"
            ],
            [
             0.2222222222222222,
             "#7201a8"
            ],
            [
             0.3333333333333333,
             "#9c179e"
            ],
            [
             0.4444444444444444,
             "#bd3786"
            ],
            [
             0.5555555555555556,
             "#d8576b"
            ],
            [
             0.6666666666666666,
             "#ed7953"
            ],
            [
             0.7777777777777778,
             "#fb9f3a"
            ],
            [
             0.8888888888888888,
             "#fdca26"
            ],
            [
             1,
             "#f0f921"
            ]
           ]
          },
          "colorway": [
           "#636efa",
           "#EF553B",
           "#00cc96",
           "#ab63fa",
           "#FFA15A",
           "#19d3f3",
           "#FF6692",
           "#B6E880",
           "#FF97FF",
           "#FECB52"
          ],
          "font": {
           "color": "#2a3f5f"
          },
          "geo": {
           "bgcolor": "white",
           "lakecolor": "white",
           "landcolor": "#E5ECF6",
           "showlakes": true,
           "showland": true,
           "subunitcolor": "white"
          },
          "hoverlabel": {
           "align": "left"
          },
          "hovermode": "closest",
          "mapbox": {
           "style": "light"
          },
          "paper_bgcolor": "white",
          "plot_bgcolor": "#E5ECF6",
          "polar": {
           "angularaxis": {
            "gridcolor": "white",
            "linecolor": "white",
            "ticks": ""
           },
           "bgcolor": "#E5ECF6",
           "radialaxis": {
            "gridcolor": "white",
            "linecolor": "white",
            "ticks": ""
           }
          },
          "scene": {
           "xaxis": {
            "backgroundcolor": "#E5ECF6",
            "gridcolor": "white",
            "gridwidth": 2,
            "linecolor": "white",
            "showbackground": true,
            "ticks": "",
            "zerolinecolor": "white"
           },
           "yaxis": {
            "backgroundcolor": "#E5ECF6",
            "gridcolor": "white",
            "gridwidth": 2,
            "linecolor": "white",
            "showbackground": true,
            "ticks": "",
            "zerolinecolor": "white"
           },
           "zaxis": {
            "backgroundcolor": "#E5ECF6",
            "gridcolor": "white",
            "gridwidth": 2,
            "linecolor": "white",
            "showbackground": true,
            "ticks": "",
            "zerolinecolor": "white"
           }
          },
          "shapedefaults": {
           "line": {
            "color": "#2a3f5f"
           }
          },
          "ternary": {
           "aaxis": {
            "gridcolor": "white",
            "linecolor": "white",
            "ticks": ""
           },
           "baxis": {
            "gridcolor": "white",
            "linecolor": "white",
            "ticks": ""
           },
           "bgcolor": "#E5ECF6",
           "caxis": {
            "gridcolor": "white",
            "linecolor": "white",
            "ticks": ""
           }
          },
          "title": {
           "x": 0.05
          },
          "xaxis": {
           "automargin": true,
           "gridcolor": "white",
           "linecolor": "white",
           "ticks": "",
           "title": {
            "standoff": 15
           },
           "zerolinecolor": "white",
           "zerolinewidth": 2
          },
          "yaxis": {
           "automargin": true,
           "gridcolor": "white",
           "linecolor": "white",
           "ticks": "",
           "title": {
            "standoff": 15
           },
           "zerolinecolor": "white",
           "zerolinewidth": 2
          }
         }
        }
       }
      }
     },
     "metadata": {},
     "output_type": "display_data"
    }
   ],
   "source": [
    "country_df = data[['Country', 'CustomerID']]\n",
    "# Оставим только уникальных клиентов\n",
    "country_df = country_df.drop_duplicates()\n",
    "country_df = country_df.groupby('Country').count()\n",
    "country_df = country_df.sort_values('CustomerID', ascending=False)\n",
    "display(country_df.head())\n",
    "\n",
    "fig = px.choropleth(country_df, locations=country_df.index, locationmode = 'country names', color='CustomerID', scope='world', color_continuous_scale = 'spectral')\n",
    "fig.show()"
   ]
  },
  {
   "cell_type": "markdown",
   "metadata": {},
   "source": [
    "### Задание 4.2\n",
    "Топ-3 стран по количеству поступающих заказов.\n",
    "\n",
    "\n"
   ]
  },
  {
   "cell_type": "code",
   "execution_count": 187,
   "metadata": {},
   "outputs": [
    {
     "data": {
      "text/html": [
       "<div>\n",
       "<style scoped>\n",
       "    .dataframe tbody tr th:only-of-type {\n",
       "        vertical-align: middle;\n",
       "    }\n",
       "\n",
       "    .dataframe tbody tr th {\n",
       "        vertical-align: top;\n",
       "    }\n",
       "\n",
       "    .dataframe thead th {\n",
       "        text-align: right;\n",
       "    }\n",
       "</style>\n",
       "<table border=\"1\" class=\"dataframe\">\n",
       "  <thead>\n",
       "    <tr style=\"text-align: right;\">\n",
       "      <th></th>\n",
       "      <th>InvoiceNo</th>\n",
       "    </tr>\n",
       "    <tr>\n",
       "      <th>Country</th>\n",
       "      <th></th>\n",
       "    </tr>\n",
       "  </thead>\n",
       "  <tbody>\n",
       "    <tr>\n",
       "      <th>United Kingdom</th>\n",
       "      <td>348892</td>\n",
       "    </tr>\n",
       "    <tr>\n",
       "      <th>Germany</th>\n",
       "      <td>8644</td>\n",
       "    </tr>\n",
       "    <tr>\n",
       "      <th>France</th>\n",
       "      <td>8019</td>\n",
       "    </tr>\n",
       "    <tr>\n",
       "      <th>EIRE</th>\n",
       "      <td>7128</td>\n",
       "    </tr>\n",
       "    <tr>\n",
       "      <th>Spain</th>\n",
       "      <td>2418</td>\n",
       "    </tr>\n",
       "  </tbody>\n",
       "</table>\n",
       "</div>"
      ],
      "text/plain": [
       "                InvoiceNo\n",
       "Country                  \n",
       "United Kingdom     348892\n",
       "Germany              8644\n",
       "France               8019\n",
       "EIRE                 7128\n",
       "Spain                2418"
      ]
     },
     "metadata": {},
     "output_type": "display_data"
    },
    {
     "data": {
      "application/vnd.plotly.v1+json": {
       "config": {
        "plotlyServerURL": "https://plot.ly"
       },
       "data": [
        {
         "alignmentgroup": "True",
         "hovertemplate": "variable=InvoiceNo<br>Country=%{x}<br>value=%{y}<extra></extra>",
         "legendgroup": "InvoiceNo",
         "marker": {
          "color": "#636efa",
          "pattern": {
           "shape": ""
          }
         },
         "name": "InvoiceNo",
         "offsetgroup": "InvoiceNo",
         "orientation": "v",
         "showlegend": true,
         "textposition": "auto",
         "type": "bar",
         "x": [
          "United Kingdom",
          "Germany",
          "France",
          "EIRE",
          "Spain"
         ],
         "xaxis": "x",
         "y": [
          348892,
          8644,
          8019,
          7128,
          2418
         ],
         "yaxis": "y"
        }
       ],
       "layout": {
        "barmode": "relative",
        "legend": {
         "title": {
          "text": "variable"
         },
         "tracegroupgap": 0
        },
        "margin": {
         "t": 60
        },
        "template": {
         "data": {
          "bar": [
           {
            "error_x": {
             "color": "#2a3f5f"
            },
            "error_y": {
             "color": "#2a3f5f"
            },
            "marker": {
             "line": {
              "color": "#E5ECF6",
              "width": 0.5
             },
             "pattern": {
              "fillmode": "overlay",
              "size": 10,
              "solidity": 0.2
             }
            },
            "type": "bar"
           }
          ],
          "barpolar": [
           {
            "marker": {
             "line": {
              "color": "#E5ECF6",
              "width": 0.5
             },
             "pattern": {
              "fillmode": "overlay",
              "size": 10,
              "solidity": 0.2
             }
            },
            "type": "barpolar"
           }
          ],
          "carpet": [
           {
            "aaxis": {
             "endlinecolor": "#2a3f5f",
             "gridcolor": "white",
             "linecolor": "white",
             "minorgridcolor": "white",
             "startlinecolor": "#2a3f5f"
            },
            "baxis": {
             "endlinecolor": "#2a3f5f",
             "gridcolor": "white",
             "linecolor": "white",
             "minorgridcolor": "white",
             "startlinecolor": "#2a3f5f"
            },
            "type": "carpet"
           }
          ],
          "choropleth": [
           {
            "colorbar": {
             "outlinewidth": 0,
             "ticks": ""
            },
            "type": "choropleth"
           }
          ],
          "contour": [
           {
            "colorbar": {
             "outlinewidth": 0,
             "ticks": ""
            },
            "colorscale": [
             [
              0,
              "#0d0887"
             ],
             [
              0.1111111111111111,
              "#46039f"
             ],
             [
              0.2222222222222222,
              "#7201a8"
             ],
             [
              0.3333333333333333,
              "#9c179e"
             ],
             [
              0.4444444444444444,
              "#bd3786"
             ],
             [
              0.5555555555555556,
              "#d8576b"
             ],
             [
              0.6666666666666666,
              "#ed7953"
             ],
             [
              0.7777777777777778,
              "#fb9f3a"
             ],
             [
              0.8888888888888888,
              "#fdca26"
             ],
             [
              1,
              "#f0f921"
             ]
            ],
            "type": "contour"
           }
          ],
          "contourcarpet": [
           {
            "colorbar": {
             "outlinewidth": 0,
             "ticks": ""
            },
            "type": "contourcarpet"
           }
          ],
          "heatmap": [
           {
            "colorbar": {
             "outlinewidth": 0,
             "ticks": ""
            },
            "colorscale": [
             [
              0,
              "#0d0887"
             ],
             [
              0.1111111111111111,
              "#46039f"
             ],
             [
              0.2222222222222222,
              "#7201a8"
             ],
             [
              0.3333333333333333,
              "#9c179e"
             ],
             [
              0.4444444444444444,
              "#bd3786"
             ],
             [
              0.5555555555555556,
              "#d8576b"
             ],
             [
              0.6666666666666666,
              "#ed7953"
             ],
             [
              0.7777777777777778,
              "#fb9f3a"
             ],
             [
              0.8888888888888888,
              "#fdca26"
             ],
             [
              1,
              "#f0f921"
             ]
            ],
            "type": "heatmap"
           }
          ],
          "heatmapgl": [
           {
            "colorbar": {
             "outlinewidth": 0,
             "ticks": ""
            },
            "colorscale": [
             [
              0,
              "#0d0887"
             ],
             [
              0.1111111111111111,
              "#46039f"
             ],
             [
              0.2222222222222222,
              "#7201a8"
             ],
             [
              0.3333333333333333,
              "#9c179e"
             ],
             [
              0.4444444444444444,
              "#bd3786"
             ],
             [
              0.5555555555555556,
              "#d8576b"
             ],
             [
              0.6666666666666666,
              "#ed7953"
             ],
             [
              0.7777777777777778,
              "#fb9f3a"
             ],
             [
              0.8888888888888888,
              "#fdca26"
             ],
             [
              1,
              "#f0f921"
             ]
            ],
            "type": "heatmapgl"
           }
          ],
          "histogram": [
           {
            "marker": {
             "pattern": {
              "fillmode": "overlay",
              "size": 10,
              "solidity": 0.2
             }
            },
            "type": "histogram"
           }
          ],
          "histogram2d": [
           {
            "colorbar": {
             "outlinewidth": 0,
             "ticks": ""
            },
            "colorscale": [
             [
              0,
              "#0d0887"
             ],
             [
              0.1111111111111111,
              "#46039f"
             ],
             [
              0.2222222222222222,
              "#7201a8"
             ],
             [
              0.3333333333333333,
              "#9c179e"
             ],
             [
              0.4444444444444444,
              "#bd3786"
             ],
             [
              0.5555555555555556,
              "#d8576b"
             ],
             [
              0.6666666666666666,
              "#ed7953"
             ],
             [
              0.7777777777777778,
              "#fb9f3a"
             ],
             [
              0.8888888888888888,
              "#fdca26"
             ],
             [
              1,
              "#f0f921"
             ]
            ],
            "type": "histogram2d"
           }
          ],
          "histogram2dcontour": [
           {
            "colorbar": {
             "outlinewidth": 0,
             "ticks": ""
            },
            "colorscale": [
             [
              0,
              "#0d0887"
             ],
             [
              0.1111111111111111,
              "#46039f"
             ],
             [
              0.2222222222222222,
              "#7201a8"
             ],
             [
              0.3333333333333333,
              "#9c179e"
             ],
             [
              0.4444444444444444,
              "#bd3786"
             ],
             [
              0.5555555555555556,
              "#d8576b"
             ],
             [
              0.6666666666666666,
              "#ed7953"
             ],
             [
              0.7777777777777778,
              "#fb9f3a"
             ],
             [
              0.8888888888888888,
              "#fdca26"
             ],
             [
              1,
              "#f0f921"
             ]
            ],
            "type": "histogram2dcontour"
           }
          ],
          "mesh3d": [
           {
            "colorbar": {
             "outlinewidth": 0,
             "ticks": ""
            },
            "type": "mesh3d"
           }
          ],
          "parcoords": [
           {
            "line": {
             "colorbar": {
              "outlinewidth": 0,
              "ticks": ""
             }
            },
            "type": "parcoords"
           }
          ],
          "pie": [
           {
            "automargin": true,
            "type": "pie"
           }
          ],
          "scatter": [
           {
            "fillpattern": {
             "fillmode": "overlay",
             "size": 10,
             "solidity": 0.2
            },
            "type": "scatter"
           }
          ],
          "scatter3d": [
           {
            "line": {
             "colorbar": {
              "outlinewidth": 0,
              "ticks": ""
             }
            },
            "marker": {
             "colorbar": {
              "outlinewidth": 0,
              "ticks": ""
             }
            },
            "type": "scatter3d"
           }
          ],
          "scattercarpet": [
           {
            "marker": {
             "colorbar": {
              "outlinewidth": 0,
              "ticks": ""
             }
            },
            "type": "scattercarpet"
           }
          ],
          "scattergeo": [
           {
            "marker": {
             "colorbar": {
              "outlinewidth": 0,
              "ticks": ""
             }
            },
            "type": "scattergeo"
           }
          ],
          "scattergl": [
           {
            "marker": {
             "colorbar": {
              "outlinewidth": 0,
              "ticks": ""
             }
            },
            "type": "scattergl"
           }
          ],
          "scattermapbox": [
           {
            "marker": {
             "colorbar": {
              "outlinewidth": 0,
              "ticks": ""
             }
            },
            "type": "scattermapbox"
           }
          ],
          "scatterpolar": [
           {
            "marker": {
             "colorbar": {
              "outlinewidth": 0,
              "ticks": ""
             }
            },
            "type": "scatterpolar"
           }
          ],
          "scatterpolargl": [
           {
            "marker": {
             "colorbar": {
              "outlinewidth": 0,
              "ticks": ""
             }
            },
            "type": "scatterpolargl"
           }
          ],
          "scatterternary": [
           {
            "marker": {
             "colorbar": {
              "outlinewidth": 0,
              "ticks": ""
             }
            },
            "type": "scatterternary"
           }
          ],
          "surface": [
           {
            "colorbar": {
             "outlinewidth": 0,
             "ticks": ""
            },
            "colorscale": [
             [
              0,
              "#0d0887"
             ],
             [
              0.1111111111111111,
              "#46039f"
             ],
             [
              0.2222222222222222,
              "#7201a8"
             ],
             [
              0.3333333333333333,
              "#9c179e"
             ],
             [
              0.4444444444444444,
              "#bd3786"
             ],
             [
              0.5555555555555556,
              "#d8576b"
             ],
             [
              0.6666666666666666,
              "#ed7953"
             ],
             [
              0.7777777777777778,
              "#fb9f3a"
             ],
             [
              0.8888888888888888,
              "#fdca26"
             ],
             [
              1,
              "#f0f921"
             ]
            ],
            "type": "surface"
           }
          ],
          "table": [
           {
            "cells": {
             "fill": {
              "color": "#EBF0F8"
             },
             "line": {
              "color": "white"
             }
            },
            "header": {
             "fill": {
              "color": "#C8D4E3"
             },
             "line": {
              "color": "white"
             }
            },
            "type": "table"
           }
          ]
         },
         "layout": {
          "annotationdefaults": {
           "arrowcolor": "#2a3f5f",
           "arrowhead": 0,
           "arrowwidth": 1
          },
          "autotypenumbers": "strict",
          "coloraxis": {
           "colorbar": {
            "outlinewidth": 0,
            "ticks": ""
           }
          },
          "colorscale": {
           "diverging": [
            [
             0,
             "#8e0152"
            ],
            [
             0.1,
             "#c51b7d"
            ],
            [
             0.2,
             "#de77ae"
            ],
            [
             0.3,
             "#f1b6da"
            ],
            [
             0.4,
             "#fde0ef"
            ],
            [
             0.5,
             "#f7f7f7"
            ],
            [
             0.6,
             "#e6f5d0"
            ],
            [
             0.7,
             "#b8e186"
            ],
            [
             0.8,
             "#7fbc41"
            ],
            [
             0.9,
             "#4d9221"
            ],
            [
             1,
             "#276419"
            ]
           ],
           "sequential": [
            [
             0,
             "#0d0887"
            ],
            [
             0.1111111111111111,
             "#46039f"
            ],
            [
             0.2222222222222222,
             "#7201a8"
            ],
            [
             0.3333333333333333,
             "#9c179e"
            ],
            [
             0.4444444444444444,
             "#bd3786"
            ],
            [
             0.5555555555555556,
             "#d8576b"
            ],
            [
             0.6666666666666666,
             "#ed7953"
            ],
            [
             0.7777777777777778,
             "#fb9f3a"
            ],
            [
             0.8888888888888888,
             "#fdca26"
            ],
            [
             1,
             "#f0f921"
            ]
           ],
           "sequentialminus": [
            [
             0,
             "#0d0887"
            ],
            [
             0.1111111111111111,
             "#46039f"
            ],
            [
             0.2222222222222222,
             "#7201a8"
            ],
            [
             0.3333333333333333,
             "#9c179e"
            ],
            [
             0.4444444444444444,
             "#bd3786"
            ],
            [
             0.5555555555555556,
             "#d8576b"
            ],
            [
             0.6666666666666666,
             "#ed7953"
            ],
            [
             0.7777777777777778,
             "#fb9f3a"
            ],
            [
             0.8888888888888888,
             "#fdca26"
            ],
            [
             1,
             "#f0f921"
            ]
           ]
          },
          "colorway": [
           "#636efa",
           "#EF553B",
           "#00cc96",
           "#ab63fa",
           "#FFA15A",
           "#19d3f3",
           "#FF6692",
           "#B6E880",
           "#FF97FF",
           "#FECB52"
          ],
          "font": {
           "color": "#2a3f5f"
          },
          "geo": {
           "bgcolor": "white",
           "lakecolor": "white",
           "landcolor": "#E5ECF6",
           "showlakes": true,
           "showland": true,
           "subunitcolor": "white"
          },
          "hoverlabel": {
           "align": "left"
          },
          "hovermode": "closest",
          "mapbox": {
           "style": "light"
          },
          "paper_bgcolor": "white",
          "plot_bgcolor": "#E5ECF6",
          "polar": {
           "angularaxis": {
            "gridcolor": "white",
            "linecolor": "white",
            "ticks": ""
           },
           "bgcolor": "#E5ECF6",
           "radialaxis": {
            "gridcolor": "white",
            "linecolor": "white",
            "ticks": ""
           }
          },
          "scene": {
           "xaxis": {
            "backgroundcolor": "#E5ECF6",
            "gridcolor": "white",
            "gridwidth": 2,
            "linecolor": "white",
            "showbackground": true,
            "ticks": "",
            "zerolinecolor": "white"
           },
           "yaxis": {
            "backgroundcolor": "#E5ECF6",
            "gridcolor": "white",
            "gridwidth": 2,
            "linecolor": "white",
            "showbackground": true,
            "ticks": "",
            "zerolinecolor": "white"
           },
           "zaxis": {
            "backgroundcolor": "#E5ECF6",
            "gridcolor": "white",
            "gridwidth": 2,
            "linecolor": "white",
            "showbackground": true,
            "ticks": "",
            "zerolinecolor": "white"
           }
          },
          "shapedefaults": {
           "line": {
            "color": "#2a3f5f"
           }
          },
          "ternary": {
           "aaxis": {
            "gridcolor": "white",
            "linecolor": "white",
            "ticks": ""
           },
           "baxis": {
            "gridcolor": "white",
            "linecolor": "white",
            "ticks": ""
           },
           "bgcolor": "#E5ECF6",
           "caxis": {
            "gridcolor": "white",
            "linecolor": "white",
            "ticks": ""
           }
          },
          "title": {
           "x": 0.05
          },
          "xaxis": {
           "automargin": true,
           "gridcolor": "white",
           "linecolor": "white",
           "ticks": "",
           "title": {
            "standoff": 15
           },
           "zerolinecolor": "white",
           "zerolinewidth": 2
          },
          "yaxis": {
           "automargin": true,
           "gridcolor": "white",
           "linecolor": "white",
           "ticks": "",
           "title": {
            "standoff": 15
           },
           "zerolinecolor": "white",
           "zerolinewidth": 2
          }
         }
        },
        "xaxis": {
         "anchor": "y",
         "domain": [
          0,
          1
         ],
         "title": {
          "text": "Country"
         }
        },
        "yaxis": {
         "anchor": "x",
         "domain": [
          0,
          1
         ],
         "title": {
          "text": "value"
         }
        }
       }
      }
     },
     "metadata": {},
     "output_type": "display_data"
    }
   ],
   "source": [
    "country_df = data[['Country', 'InvoiceNo']]\n",
    "\n",
    "country_df = country_df.groupby('Country').count()\n",
    "country_df = country_df.sort_values('InvoiceNo', ascending=False)\n",
    "display(country_df.head())\n",
    "fig = px.bar(country_df.head())\n",
    "fig.show()"
   ]
  },
  {
   "cell_type": "markdown",
   "metadata": {},
   "source": [
    "### Задание 4.3\n",
    "Давайте добавим в датасет общую цену заказа, назовём её TotalPrice.\n",
    "\n",
    " **TotalPrice = UnitPrice * (количество товаров в заказе - количество возвращённых товаров).**\n"
   ]
  },
  {
   "cell_type": "code",
   "execution_count": 188,
   "metadata": {},
   "outputs": [
    {
     "name": "stdout",
     "output_type": "stream",
     "text": [
      "Средняя стоимость заказов = 21\n"
     ]
    }
   ],
   "source": [
    "data['TotalPrice'] = data['UnitPrice'] * (data['Quantity'] - data['QuantityCanceled'])\n",
    "print(f'Средняя стоимость заказов = {round(data['TotalPrice'].mean())}')"
   ]
  },
  {
   "cell_type": "markdown",
   "metadata": {},
   "source": [
    "### Задание 4.4\n",
    "\n",
    "Постройте визуализацию и выделите топ-3 стран, клиенты из которых приносят компании больше всего выручки:\n"
   ]
  },
  {
   "cell_type": "code",
   "execution_count": 189,
   "metadata": {},
   "outputs": [
    {
     "data": {
      "text/html": [
       "<div>\n",
       "<style scoped>\n",
       "    .dataframe tbody tr th:only-of-type {\n",
       "        vertical-align: middle;\n",
       "    }\n",
       "\n",
       "    .dataframe tbody tr th {\n",
       "        vertical-align: top;\n",
       "    }\n",
       "\n",
       "    .dataframe thead th {\n",
       "        text-align: right;\n",
       "    }\n",
       "</style>\n",
       "<table border=\"1\" class=\"dataframe\">\n",
       "  <thead>\n",
       "    <tr style=\"text-align: right;\">\n",
       "      <th></th>\n",
       "      <th>TotalPrice</th>\n",
       "    </tr>\n",
       "    <tr>\n",
       "      <th>Country</th>\n",
       "      <th></th>\n",
       "    </tr>\n",
       "  </thead>\n",
       "  <tbody>\n",
       "    <tr>\n",
       "      <th>United Kingdom</th>\n",
       "      <td>6787928.85</td>\n",
       "    </tr>\n",
       "    <tr>\n",
       "      <th>Netherlands</th>\n",
       "      <td>283443.54</td>\n",
       "    </tr>\n",
       "    <tr>\n",
       "      <th>EIRE</th>\n",
       "      <td>246894.08</td>\n",
       "    </tr>\n",
       "    <tr>\n",
       "      <th>Germany</th>\n",
       "      <td>201129.28</td>\n",
       "    </tr>\n",
       "    <tr>\n",
       "      <th>France</th>\n",
       "      <td>181572.84</td>\n",
       "    </tr>\n",
       "  </tbody>\n",
       "</table>\n",
       "</div>"
      ],
      "text/plain": [
       "                TotalPrice\n",
       "Country                   \n",
       "United Kingdom  6787928.85\n",
       "Netherlands      283443.54\n",
       "EIRE             246894.08\n",
       "Germany          201129.28\n",
       "France           181572.84"
      ]
     },
     "metadata": {},
     "output_type": "display_data"
    },
    {
     "data": {
      "application/vnd.plotly.v1+json": {
       "config": {
        "plotlyServerURL": "https://plot.ly"
       },
       "data": [
        {
         "alignmentgroup": "True",
         "hovertemplate": "variable=TotalPrice<br>Country=%{x}<br>value=%{y}<extra></extra>",
         "legendgroup": "TotalPrice",
         "marker": {
          "color": "#636efa",
          "pattern": {
           "shape": ""
          }
         },
         "name": "TotalPrice",
         "offsetgroup": "TotalPrice",
         "orientation": "v",
         "showlegend": true,
         "textposition": "auto",
         "type": "bar",
         "x": [
          "United Kingdom",
          "Netherlands",
          "EIRE",
          "Germany",
          "France"
         ],
         "xaxis": "x",
         "y": [
          6787928.85,
          283443.54,
          246894.08,
          201129.28,
          181572.84
         ],
         "yaxis": "y"
        }
       ],
       "layout": {
        "barmode": "relative",
        "legend": {
         "title": {
          "text": "variable"
         },
         "tracegroupgap": 0
        },
        "margin": {
         "t": 60
        },
        "template": {
         "data": {
          "bar": [
           {
            "error_x": {
             "color": "#2a3f5f"
            },
            "error_y": {
             "color": "#2a3f5f"
            },
            "marker": {
             "line": {
              "color": "#E5ECF6",
              "width": 0.5
             },
             "pattern": {
              "fillmode": "overlay",
              "size": 10,
              "solidity": 0.2
             }
            },
            "type": "bar"
           }
          ],
          "barpolar": [
           {
            "marker": {
             "line": {
              "color": "#E5ECF6",
              "width": 0.5
             },
             "pattern": {
              "fillmode": "overlay",
              "size": 10,
              "solidity": 0.2
             }
            },
            "type": "barpolar"
           }
          ],
          "carpet": [
           {
            "aaxis": {
             "endlinecolor": "#2a3f5f",
             "gridcolor": "white",
             "linecolor": "white",
             "minorgridcolor": "white",
             "startlinecolor": "#2a3f5f"
            },
            "baxis": {
             "endlinecolor": "#2a3f5f",
             "gridcolor": "white",
             "linecolor": "white",
             "minorgridcolor": "white",
             "startlinecolor": "#2a3f5f"
            },
            "type": "carpet"
           }
          ],
          "choropleth": [
           {
            "colorbar": {
             "outlinewidth": 0,
             "ticks": ""
            },
            "type": "choropleth"
           }
          ],
          "contour": [
           {
            "colorbar": {
             "outlinewidth": 0,
             "ticks": ""
            },
            "colorscale": [
             [
              0,
              "#0d0887"
             ],
             [
              0.1111111111111111,
              "#46039f"
             ],
             [
              0.2222222222222222,
              "#7201a8"
             ],
             [
              0.3333333333333333,
              "#9c179e"
             ],
             [
              0.4444444444444444,
              "#bd3786"
             ],
             [
              0.5555555555555556,
              "#d8576b"
             ],
             [
              0.6666666666666666,
              "#ed7953"
             ],
             [
              0.7777777777777778,
              "#fb9f3a"
             ],
             [
              0.8888888888888888,
              "#fdca26"
             ],
             [
              1,
              "#f0f921"
             ]
            ],
            "type": "contour"
           }
          ],
          "contourcarpet": [
           {
            "colorbar": {
             "outlinewidth": 0,
             "ticks": ""
            },
            "type": "contourcarpet"
           }
          ],
          "heatmap": [
           {
            "colorbar": {
             "outlinewidth": 0,
             "ticks": ""
            },
            "colorscale": [
             [
              0,
              "#0d0887"
             ],
             [
              0.1111111111111111,
              "#46039f"
             ],
             [
              0.2222222222222222,
              "#7201a8"
             ],
             [
              0.3333333333333333,
              "#9c179e"
             ],
             [
              0.4444444444444444,
              "#bd3786"
             ],
             [
              0.5555555555555556,
              "#d8576b"
             ],
             [
              0.6666666666666666,
              "#ed7953"
             ],
             [
              0.7777777777777778,
              "#fb9f3a"
             ],
             [
              0.8888888888888888,
              "#fdca26"
             ],
             [
              1,
              "#f0f921"
             ]
            ],
            "type": "heatmap"
           }
          ],
          "heatmapgl": [
           {
            "colorbar": {
             "outlinewidth": 0,
             "ticks": ""
            },
            "colorscale": [
             [
              0,
              "#0d0887"
             ],
             [
              0.1111111111111111,
              "#46039f"
             ],
             [
              0.2222222222222222,
              "#7201a8"
             ],
             [
              0.3333333333333333,
              "#9c179e"
             ],
             [
              0.4444444444444444,
              "#bd3786"
             ],
             [
              0.5555555555555556,
              "#d8576b"
             ],
             [
              0.6666666666666666,
              "#ed7953"
             ],
             [
              0.7777777777777778,
              "#fb9f3a"
             ],
             [
              0.8888888888888888,
              "#fdca26"
             ],
             [
              1,
              "#f0f921"
             ]
            ],
            "type": "heatmapgl"
           }
          ],
          "histogram": [
           {
            "marker": {
             "pattern": {
              "fillmode": "overlay",
              "size": 10,
              "solidity": 0.2
             }
            },
            "type": "histogram"
           }
          ],
          "histogram2d": [
           {
            "colorbar": {
             "outlinewidth": 0,
             "ticks": ""
            },
            "colorscale": [
             [
              0,
              "#0d0887"
             ],
             [
              0.1111111111111111,
              "#46039f"
             ],
             [
              0.2222222222222222,
              "#7201a8"
             ],
             [
              0.3333333333333333,
              "#9c179e"
             ],
             [
              0.4444444444444444,
              "#bd3786"
             ],
             [
              0.5555555555555556,
              "#d8576b"
             ],
             [
              0.6666666666666666,
              "#ed7953"
             ],
             [
              0.7777777777777778,
              "#fb9f3a"
             ],
             [
              0.8888888888888888,
              "#fdca26"
             ],
             [
              1,
              "#f0f921"
             ]
            ],
            "type": "histogram2d"
           }
          ],
          "histogram2dcontour": [
           {
            "colorbar": {
             "outlinewidth": 0,
             "ticks": ""
            },
            "colorscale": [
             [
              0,
              "#0d0887"
             ],
             [
              0.1111111111111111,
              "#46039f"
             ],
             [
              0.2222222222222222,
              "#7201a8"
             ],
             [
              0.3333333333333333,
              "#9c179e"
             ],
             [
              0.4444444444444444,
              "#bd3786"
             ],
             [
              0.5555555555555556,
              "#d8576b"
             ],
             [
              0.6666666666666666,
              "#ed7953"
             ],
             [
              0.7777777777777778,
              "#fb9f3a"
             ],
             [
              0.8888888888888888,
              "#fdca26"
             ],
             [
              1,
              "#f0f921"
             ]
            ],
            "type": "histogram2dcontour"
           }
          ],
          "mesh3d": [
           {
            "colorbar": {
             "outlinewidth": 0,
             "ticks": ""
            },
            "type": "mesh3d"
           }
          ],
          "parcoords": [
           {
            "line": {
             "colorbar": {
              "outlinewidth": 0,
              "ticks": ""
             }
            },
            "type": "parcoords"
           }
          ],
          "pie": [
           {
            "automargin": true,
            "type": "pie"
           }
          ],
          "scatter": [
           {
            "fillpattern": {
             "fillmode": "overlay",
             "size": 10,
             "solidity": 0.2
            },
            "type": "scatter"
           }
          ],
          "scatter3d": [
           {
            "line": {
             "colorbar": {
              "outlinewidth": 0,
              "ticks": ""
             }
            },
            "marker": {
             "colorbar": {
              "outlinewidth": 0,
              "ticks": ""
             }
            },
            "type": "scatter3d"
           }
          ],
          "scattercarpet": [
           {
            "marker": {
             "colorbar": {
              "outlinewidth": 0,
              "ticks": ""
             }
            },
            "type": "scattercarpet"
           }
          ],
          "scattergeo": [
           {
            "marker": {
             "colorbar": {
              "outlinewidth": 0,
              "ticks": ""
             }
            },
            "type": "scattergeo"
           }
          ],
          "scattergl": [
           {
            "marker": {
             "colorbar": {
              "outlinewidth": 0,
              "ticks": ""
             }
            },
            "type": "scattergl"
           }
          ],
          "scattermapbox": [
           {
            "marker": {
             "colorbar": {
              "outlinewidth": 0,
              "ticks": ""
             }
            },
            "type": "scattermapbox"
           }
          ],
          "scatterpolar": [
           {
            "marker": {
             "colorbar": {
              "outlinewidth": 0,
              "ticks": ""
             }
            },
            "type": "scatterpolar"
           }
          ],
          "scatterpolargl": [
           {
            "marker": {
             "colorbar": {
              "outlinewidth": 0,
              "ticks": ""
             }
            },
            "type": "scatterpolargl"
           }
          ],
          "scatterternary": [
           {
            "marker": {
             "colorbar": {
              "outlinewidth": 0,
              "ticks": ""
             }
            },
            "type": "scatterternary"
           }
          ],
          "surface": [
           {
            "colorbar": {
             "outlinewidth": 0,
             "ticks": ""
            },
            "colorscale": [
             [
              0,
              "#0d0887"
             ],
             [
              0.1111111111111111,
              "#46039f"
             ],
             [
              0.2222222222222222,
              "#7201a8"
             ],
             [
              0.3333333333333333,
              "#9c179e"
             ],
             [
              0.4444444444444444,
              "#bd3786"
             ],
             [
              0.5555555555555556,
              "#d8576b"
             ],
             [
              0.6666666666666666,
              "#ed7953"
             ],
             [
              0.7777777777777778,
              "#fb9f3a"
             ],
             [
              0.8888888888888888,
              "#fdca26"
             ],
             [
              1,
              "#f0f921"
             ]
            ],
            "type": "surface"
           }
          ],
          "table": [
           {
            "cells": {
             "fill": {
              "color": "#EBF0F8"
             },
             "line": {
              "color": "white"
             }
            },
            "header": {
             "fill": {
              "color": "#C8D4E3"
             },
             "line": {
              "color": "white"
             }
            },
            "type": "table"
           }
          ]
         },
         "layout": {
          "annotationdefaults": {
           "arrowcolor": "#2a3f5f",
           "arrowhead": 0,
           "arrowwidth": 1
          },
          "autotypenumbers": "strict",
          "coloraxis": {
           "colorbar": {
            "outlinewidth": 0,
            "ticks": ""
           }
          },
          "colorscale": {
           "diverging": [
            [
             0,
             "#8e0152"
            ],
            [
             0.1,
             "#c51b7d"
            ],
            [
             0.2,
             "#de77ae"
            ],
            [
             0.3,
             "#f1b6da"
            ],
            [
             0.4,
             "#fde0ef"
            ],
            [
             0.5,
             "#f7f7f7"
            ],
            [
             0.6,
             "#e6f5d0"
            ],
            [
             0.7,
             "#b8e186"
            ],
            [
             0.8,
             "#7fbc41"
            ],
            [
             0.9,
             "#4d9221"
            ],
            [
             1,
             "#276419"
            ]
           ],
           "sequential": [
            [
             0,
             "#0d0887"
            ],
            [
             0.1111111111111111,
             "#46039f"
            ],
            [
             0.2222222222222222,
             "#7201a8"
            ],
            [
             0.3333333333333333,
             "#9c179e"
            ],
            [
             0.4444444444444444,
             "#bd3786"
            ],
            [
             0.5555555555555556,
             "#d8576b"
            ],
            [
             0.6666666666666666,
             "#ed7953"
            ],
            [
             0.7777777777777778,
             "#fb9f3a"
            ],
            [
             0.8888888888888888,
             "#fdca26"
            ],
            [
             1,
             "#f0f921"
            ]
           ],
           "sequentialminus": [
            [
             0,
             "#0d0887"
            ],
            [
             0.1111111111111111,
             "#46039f"
            ],
            [
             0.2222222222222222,
             "#7201a8"
            ],
            [
             0.3333333333333333,
             "#9c179e"
            ],
            [
             0.4444444444444444,
             "#bd3786"
            ],
            [
             0.5555555555555556,
             "#d8576b"
            ],
            [
             0.6666666666666666,
             "#ed7953"
            ],
            [
             0.7777777777777778,
             "#fb9f3a"
            ],
            [
             0.8888888888888888,
             "#fdca26"
            ],
            [
             1,
             "#f0f921"
            ]
           ]
          },
          "colorway": [
           "#636efa",
           "#EF553B",
           "#00cc96",
           "#ab63fa",
           "#FFA15A",
           "#19d3f3",
           "#FF6692",
           "#B6E880",
           "#FF97FF",
           "#FECB52"
          ],
          "font": {
           "color": "#2a3f5f"
          },
          "geo": {
           "bgcolor": "white",
           "lakecolor": "white",
           "landcolor": "#E5ECF6",
           "showlakes": true,
           "showland": true,
           "subunitcolor": "white"
          },
          "hoverlabel": {
           "align": "left"
          },
          "hovermode": "closest",
          "mapbox": {
           "style": "light"
          },
          "paper_bgcolor": "white",
          "plot_bgcolor": "#E5ECF6",
          "polar": {
           "angularaxis": {
            "gridcolor": "white",
            "linecolor": "white",
            "ticks": ""
           },
           "bgcolor": "#E5ECF6",
           "radialaxis": {
            "gridcolor": "white",
            "linecolor": "white",
            "ticks": ""
           }
          },
          "scene": {
           "xaxis": {
            "backgroundcolor": "#E5ECF6",
            "gridcolor": "white",
            "gridwidth": 2,
            "linecolor": "white",
            "showbackground": true,
            "ticks": "",
            "zerolinecolor": "white"
           },
           "yaxis": {
            "backgroundcolor": "#E5ECF6",
            "gridcolor": "white",
            "gridwidth": 2,
            "linecolor": "white",
            "showbackground": true,
            "ticks": "",
            "zerolinecolor": "white"
           },
           "zaxis": {
            "backgroundcolor": "#E5ECF6",
            "gridcolor": "white",
            "gridwidth": 2,
            "linecolor": "white",
            "showbackground": true,
            "ticks": "",
            "zerolinecolor": "white"
           }
          },
          "shapedefaults": {
           "line": {
            "color": "#2a3f5f"
           }
          },
          "ternary": {
           "aaxis": {
            "gridcolor": "white",
            "linecolor": "white",
            "ticks": ""
           },
           "baxis": {
            "gridcolor": "white",
            "linecolor": "white",
            "ticks": ""
           },
           "bgcolor": "#E5ECF6",
           "caxis": {
            "gridcolor": "white",
            "linecolor": "white",
            "ticks": ""
           }
          },
          "title": {
           "x": 0.05
          },
          "xaxis": {
           "automargin": true,
           "gridcolor": "white",
           "linecolor": "white",
           "ticks": "",
           "title": {
            "standoff": 15
           },
           "zerolinecolor": "white",
           "zerolinewidth": 2
          },
          "yaxis": {
           "automargin": true,
           "gridcolor": "white",
           "linecolor": "white",
           "ticks": "",
           "title": {
            "standoff": 15
           },
           "zerolinecolor": "white",
           "zerolinewidth": 2
          }
         }
        },
        "xaxis": {
         "anchor": "y",
         "domain": [
          0,
          1
         ],
         "title": {
          "text": "Country"
         }
        },
        "yaxis": {
         "anchor": "x",
         "domain": [
          0,
          1
         ],
         "title": {
          "text": "value"
         }
        }
       }
      }
     },
     "metadata": {},
     "output_type": "display_data"
    }
   ],
   "source": [
    "country_df = data[['Country', 'TotalPrice']]\n",
    "\n",
    "country_df = country_df.groupby('Country').sum()\n",
    "country_df = country_df.sort_values('TotalPrice', ascending=False)\n",
    "display(country_df.head())\n",
    "fig = px.bar(country_df.head())\n",
    "fig.show()"
   ]
  },
  {
   "cell_type": "markdown",
   "metadata": {
    "tags": []
   },
   "source": [
    "### Задание 4.5\n",
    "Добавим временные признаки месяца, дня недели и часа совершения покупки.  \n",
    "Определим самые прибыльные месяца."
   ]
  },
  {
   "cell_type": "code",
   "execution_count": 192,
   "metadata": {},
   "outputs": [
    {
     "data": {
      "text/html": [
       "<div>\n",
       "<style scoped>\n",
       "    .dataframe tbody tr th:only-of-type {\n",
       "        vertical-align: middle;\n",
       "    }\n",
       "\n",
       "    .dataframe tbody tr th {\n",
       "        vertical-align: top;\n",
       "    }\n",
       "\n",
       "    .dataframe thead th {\n",
       "        text-align: right;\n",
       "    }\n",
       "</style>\n",
       "<table border=\"1\" class=\"dataframe\">\n",
       "  <thead>\n",
       "    <tr style=\"text-align: right;\">\n",
       "      <th></th>\n",
       "      <th>TotalPrice</th>\n",
       "    </tr>\n",
       "    <tr>\n",
       "      <th>Month</th>\n",
       "      <th></th>\n",
       "    </tr>\n",
       "  </thead>\n",
       "  <tbody>\n",
       "    <tr>\n",
       "      <th>11</th>\n",
       "      <td>1119205.84</td>\n",
       "    </tr>\n",
       "    <tr>\n",
       "      <th>10</th>\n",
       "      <td>965490.13</td>\n",
       "    </tr>\n",
       "    <tr>\n",
       "      <th>9</th>\n",
       "      <td>924567.01</td>\n",
       "    </tr>\n",
       "    <tr>\n",
       "      <th>12</th>\n",
       "      <td>893060.47</td>\n",
       "    </tr>\n",
       "    <tr>\n",
       "      <th>5</th>\n",
       "      <td>647161.65</td>\n",
       "    </tr>\n",
       "  </tbody>\n",
       "</table>\n",
       "</div>"
      ],
      "text/plain": [
       "       TotalPrice\n",
       "Month            \n",
       "11     1119205.84\n",
       "10      965490.13\n",
       "9       924567.01\n",
       "12      893060.47\n",
       "5       647161.65"
      ]
     },
     "metadata": {},
     "output_type": "display_data"
    },
    {
     "data": {
      "application/vnd.plotly.v1+json": {
       "config": {
        "plotlyServerURL": "https://plot.ly"
       },
       "data": [
        {
         "alignmentgroup": "True",
         "hovertemplate": "Month=%{x}<br>TotalPrice=%{y}<extra></extra>",
         "legendgroup": "",
         "marker": {
          "color": "#636efa",
          "pattern": {
           "shape": ""
          }
         },
         "name": "",
         "offsetgroup": "",
         "orientation": "v",
         "showlegend": false,
         "textposition": "auto",
         "type": "bar",
         "x": [
          11,
          10,
          9,
          12,
          5,
          8,
          6,
          7,
          3,
          1,
          4,
          2
         ],
         "xaxis": "x",
         "y": [
          1119205.84,
          965490.13,
          924567.01,
          893060.47,
          647161.65,
          614284.24,
          599898.5,
          580778.02,
          571435.09,
          453682.65,
          447843.74,
          435797.53
         ],
         "yaxis": "y"
        }
       ],
       "layout": {
        "barmode": "relative",
        "legend": {
         "tracegroupgap": 0
        },
        "margin": {
         "t": 60
        },
        "template": {
         "data": {
          "bar": [
           {
            "error_x": {
             "color": "#2a3f5f"
            },
            "error_y": {
             "color": "#2a3f5f"
            },
            "marker": {
             "line": {
              "color": "#E5ECF6",
              "width": 0.5
             },
             "pattern": {
              "fillmode": "overlay",
              "size": 10,
              "solidity": 0.2
             }
            },
            "type": "bar"
           }
          ],
          "barpolar": [
           {
            "marker": {
             "line": {
              "color": "#E5ECF6",
              "width": 0.5
             },
             "pattern": {
              "fillmode": "overlay",
              "size": 10,
              "solidity": 0.2
             }
            },
            "type": "barpolar"
           }
          ],
          "carpet": [
           {
            "aaxis": {
             "endlinecolor": "#2a3f5f",
             "gridcolor": "white",
             "linecolor": "white",
             "minorgridcolor": "white",
             "startlinecolor": "#2a3f5f"
            },
            "baxis": {
             "endlinecolor": "#2a3f5f",
             "gridcolor": "white",
             "linecolor": "white",
             "minorgridcolor": "white",
             "startlinecolor": "#2a3f5f"
            },
            "type": "carpet"
           }
          ],
          "choropleth": [
           {
            "colorbar": {
             "outlinewidth": 0,
             "ticks": ""
            },
            "type": "choropleth"
           }
          ],
          "contour": [
           {
            "colorbar": {
             "outlinewidth": 0,
             "ticks": ""
            },
            "colorscale": [
             [
              0,
              "#0d0887"
             ],
             [
              0.1111111111111111,
              "#46039f"
             ],
             [
              0.2222222222222222,
              "#7201a8"
             ],
             [
              0.3333333333333333,
              "#9c179e"
             ],
             [
              0.4444444444444444,
              "#bd3786"
             ],
             [
              0.5555555555555556,
              "#d8576b"
             ],
             [
              0.6666666666666666,
              "#ed7953"
             ],
             [
              0.7777777777777778,
              "#fb9f3a"
             ],
             [
              0.8888888888888888,
              "#fdca26"
             ],
             [
              1,
              "#f0f921"
             ]
            ],
            "type": "contour"
           }
          ],
          "contourcarpet": [
           {
            "colorbar": {
             "outlinewidth": 0,
             "ticks": ""
            },
            "type": "contourcarpet"
           }
          ],
          "heatmap": [
           {
            "colorbar": {
             "outlinewidth": 0,
             "ticks": ""
            },
            "colorscale": [
             [
              0,
              "#0d0887"
             ],
             [
              0.1111111111111111,
              "#46039f"
             ],
             [
              0.2222222222222222,
              "#7201a8"
             ],
             [
              0.3333333333333333,
              "#9c179e"
             ],
             [
              0.4444444444444444,
              "#bd3786"
             ],
             [
              0.5555555555555556,
              "#d8576b"
             ],
             [
              0.6666666666666666,
              "#ed7953"
             ],
             [
              0.7777777777777778,
              "#fb9f3a"
             ],
             [
              0.8888888888888888,
              "#fdca26"
             ],
             [
              1,
              "#f0f921"
             ]
            ],
            "type": "heatmap"
           }
          ],
          "heatmapgl": [
           {
            "colorbar": {
             "outlinewidth": 0,
             "ticks": ""
            },
            "colorscale": [
             [
              0,
              "#0d0887"
             ],
             [
              0.1111111111111111,
              "#46039f"
             ],
             [
              0.2222222222222222,
              "#7201a8"
             ],
             [
              0.3333333333333333,
              "#9c179e"
             ],
             [
              0.4444444444444444,
              "#bd3786"
             ],
             [
              0.5555555555555556,
              "#d8576b"
             ],
             [
              0.6666666666666666,
              "#ed7953"
             ],
             [
              0.7777777777777778,
              "#fb9f3a"
             ],
             [
              0.8888888888888888,
              "#fdca26"
             ],
             [
              1,
              "#f0f921"
             ]
            ],
            "type": "heatmapgl"
           }
          ],
          "histogram": [
           {
            "marker": {
             "pattern": {
              "fillmode": "overlay",
              "size": 10,
              "solidity": 0.2
             }
            },
            "type": "histogram"
           }
          ],
          "histogram2d": [
           {
            "colorbar": {
             "outlinewidth": 0,
             "ticks": ""
            },
            "colorscale": [
             [
              0,
              "#0d0887"
             ],
             [
              0.1111111111111111,
              "#46039f"
             ],
             [
              0.2222222222222222,
              "#7201a8"
             ],
             [
              0.3333333333333333,
              "#9c179e"
             ],
             [
              0.4444444444444444,
              "#bd3786"
             ],
             [
              0.5555555555555556,
              "#d8576b"
             ],
             [
              0.6666666666666666,
              "#ed7953"
             ],
             [
              0.7777777777777778,
              "#fb9f3a"
             ],
             [
              0.8888888888888888,
              "#fdca26"
             ],
             [
              1,
              "#f0f921"
             ]
            ],
            "type": "histogram2d"
           }
          ],
          "histogram2dcontour": [
           {
            "colorbar": {
             "outlinewidth": 0,
             "ticks": ""
            },
            "colorscale": [
             [
              0,
              "#0d0887"
             ],
             [
              0.1111111111111111,
              "#46039f"
             ],
             [
              0.2222222222222222,
              "#7201a8"
             ],
             [
              0.3333333333333333,
              "#9c179e"
             ],
             [
              0.4444444444444444,
              "#bd3786"
             ],
             [
              0.5555555555555556,
              "#d8576b"
             ],
             [
              0.6666666666666666,
              "#ed7953"
             ],
             [
              0.7777777777777778,
              "#fb9f3a"
             ],
             [
              0.8888888888888888,
              "#fdca26"
             ],
             [
              1,
              "#f0f921"
             ]
            ],
            "type": "histogram2dcontour"
           }
          ],
          "mesh3d": [
           {
            "colorbar": {
             "outlinewidth": 0,
             "ticks": ""
            },
            "type": "mesh3d"
           }
          ],
          "parcoords": [
           {
            "line": {
             "colorbar": {
              "outlinewidth": 0,
              "ticks": ""
             }
            },
            "type": "parcoords"
           }
          ],
          "pie": [
           {
            "automargin": true,
            "type": "pie"
           }
          ],
          "scatter": [
           {
            "fillpattern": {
             "fillmode": "overlay",
             "size": 10,
             "solidity": 0.2
            },
            "type": "scatter"
           }
          ],
          "scatter3d": [
           {
            "line": {
             "colorbar": {
              "outlinewidth": 0,
              "ticks": ""
             }
            },
            "marker": {
             "colorbar": {
              "outlinewidth": 0,
              "ticks": ""
             }
            },
            "type": "scatter3d"
           }
          ],
          "scattercarpet": [
           {
            "marker": {
             "colorbar": {
              "outlinewidth": 0,
              "ticks": ""
             }
            },
            "type": "scattercarpet"
           }
          ],
          "scattergeo": [
           {
            "marker": {
             "colorbar": {
              "outlinewidth": 0,
              "ticks": ""
             }
            },
            "type": "scattergeo"
           }
          ],
          "scattergl": [
           {
            "marker": {
             "colorbar": {
              "outlinewidth": 0,
              "ticks": ""
             }
            },
            "type": "scattergl"
           }
          ],
          "scattermapbox": [
           {
            "marker": {
             "colorbar": {
              "outlinewidth": 0,
              "ticks": ""
             }
            },
            "type": "scattermapbox"
           }
          ],
          "scatterpolar": [
           {
            "marker": {
             "colorbar": {
              "outlinewidth": 0,
              "ticks": ""
             }
            },
            "type": "scatterpolar"
           }
          ],
          "scatterpolargl": [
           {
            "marker": {
             "colorbar": {
              "outlinewidth": 0,
              "ticks": ""
             }
            },
            "type": "scatterpolargl"
           }
          ],
          "scatterternary": [
           {
            "marker": {
             "colorbar": {
              "outlinewidth": 0,
              "ticks": ""
             }
            },
            "type": "scatterternary"
           }
          ],
          "surface": [
           {
            "colorbar": {
             "outlinewidth": 0,
             "ticks": ""
            },
            "colorscale": [
             [
              0,
              "#0d0887"
             ],
             [
              0.1111111111111111,
              "#46039f"
             ],
             [
              0.2222222222222222,
              "#7201a8"
             ],
             [
              0.3333333333333333,
              "#9c179e"
             ],
             [
              0.4444444444444444,
              "#bd3786"
             ],
             [
              0.5555555555555556,
              "#d8576b"
             ],
             [
              0.6666666666666666,
              "#ed7953"
             ],
             [
              0.7777777777777778,
              "#fb9f3a"
             ],
             [
              0.8888888888888888,
              "#fdca26"
             ],
             [
              1,
              "#f0f921"
             ]
            ],
            "type": "surface"
           }
          ],
          "table": [
           {
            "cells": {
             "fill": {
              "color": "#EBF0F8"
             },
             "line": {
              "color": "white"
             }
            },
            "header": {
             "fill": {
              "color": "#C8D4E3"
             },
             "line": {
              "color": "white"
             }
            },
            "type": "table"
           }
          ]
         },
         "layout": {
          "annotationdefaults": {
           "arrowcolor": "#2a3f5f",
           "arrowhead": 0,
           "arrowwidth": 1
          },
          "autotypenumbers": "strict",
          "coloraxis": {
           "colorbar": {
            "outlinewidth": 0,
            "ticks": ""
           }
          },
          "colorscale": {
           "diverging": [
            [
             0,
             "#8e0152"
            ],
            [
             0.1,
             "#c51b7d"
            ],
            [
             0.2,
             "#de77ae"
            ],
            [
             0.3,
             "#f1b6da"
            ],
            [
             0.4,
             "#fde0ef"
            ],
            [
             0.5,
             "#f7f7f7"
            ],
            [
             0.6,
             "#e6f5d0"
            ],
            [
             0.7,
             "#b8e186"
            ],
            [
             0.8,
             "#7fbc41"
            ],
            [
             0.9,
             "#4d9221"
            ],
            [
             1,
             "#276419"
            ]
           ],
           "sequential": [
            [
             0,
             "#0d0887"
            ],
            [
             0.1111111111111111,
             "#46039f"
            ],
            [
             0.2222222222222222,
             "#7201a8"
            ],
            [
             0.3333333333333333,
             "#9c179e"
            ],
            [
             0.4444444444444444,
             "#bd3786"
            ],
            [
             0.5555555555555556,
             "#d8576b"
            ],
            [
             0.6666666666666666,
             "#ed7953"
            ],
            [
             0.7777777777777778,
             "#fb9f3a"
            ],
            [
             0.8888888888888888,
             "#fdca26"
            ],
            [
             1,
             "#f0f921"
            ]
           ],
           "sequentialminus": [
            [
             0,
             "#0d0887"
            ],
            [
             0.1111111111111111,
             "#46039f"
            ],
            [
             0.2222222222222222,
             "#7201a8"
            ],
            [
             0.3333333333333333,
             "#9c179e"
            ],
            [
             0.4444444444444444,
             "#bd3786"
            ],
            [
             0.5555555555555556,
             "#d8576b"
            ],
            [
             0.6666666666666666,
             "#ed7953"
            ],
            [
             0.7777777777777778,
             "#fb9f3a"
            ],
            [
             0.8888888888888888,
             "#fdca26"
            ],
            [
             1,
             "#f0f921"
            ]
           ]
          },
          "colorway": [
           "#636efa",
           "#EF553B",
           "#00cc96",
           "#ab63fa",
           "#FFA15A",
           "#19d3f3",
           "#FF6692",
           "#B6E880",
           "#FF97FF",
           "#FECB52"
          ],
          "font": {
           "color": "#2a3f5f"
          },
          "geo": {
           "bgcolor": "white",
           "lakecolor": "white",
           "landcolor": "#E5ECF6",
           "showlakes": true,
           "showland": true,
           "subunitcolor": "white"
          },
          "hoverlabel": {
           "align": "left"
          },
          "hovermode": "closest",
          "mapbox": {
           "style": "light"
          },
          "paper_bgcolor": "white",
          "plot_bgcolor": "#E5ECF6",
          "polar": {
           "angularaxis": {
            "gridcolor": "white",
            "linecolor": "white",
            "ticks": ""
           },
           "bgcolor": "#E5ECF6",
           "radialaxis": {
            "gridcolor": "white",
            "linecolor": "white",
            "ticks": ""
           }
          },
          "scene": {
           "xaxis": {
            "backgroundcolor": "#E5ECF6",
            "gridcolor": "white",
            "gridwidth": 2,
            "linecolor": "white",
            "showbackground": true,
            "ticks": "",
            "zerolinecolor": "white"
           },
           "yaxis": {
            "backgroundcolor": "#E5ECF6",
            "gridcolor": "white",
            "gridwidth": 2,
            "linecolor": "white",
            "showbackground": true,
            "ticks": "",
            "zerolinecolor": "white"
           },
           "zaxis": {
            "backgroundcolor": "#E5ECF6",
            "gridcolor": "white",
            "gridwidth": 2,
            "linecolor": "white",
            "showbackground": true,
            "ticks": "",
            "zerolinecolor": "white"
           }
          },
          "shapedefaults": {
           "line": {
            "color": "#2a3f5f"
           }
          },
          "ternary": {
           "aaxis": {
            "gridcolor": "white",
            "linecolor": "white",
            "ticks": ""
           },
           "baxis": {
            "gridcolor": "white",
            "linecolor": "white",
            "ticks": ""
           },
           "bgcolor": "#E5ECF6",
           "caxis": {
            "gridcolor": "white",
            "linecolor": "white",
            "ticks": ""
           }
          },
          "title": {
           "x": 0.05
          },
          "xaxis": {
           "automargin": true,
           "gridcolor": "white",
           "linecolor": "white",
           "ticks": "",
           "title": {
            "standoff": 15
           },
           "zerolinecolor": "white",
           "zerolinewidth": 2
          },
          "yaxis": {
           "automargin": true,
           "gridcolor": "white",
           "linecolor": "white",
           "ticks": "",
           "title": {
            "standoff": 15
           },
           "zerolinecolor": "white",
           "zerolinewidth": 2
          }
         }
        },
        "xaxis": {
         "anchor": "y",
         "domain": [
          0,
          1
         ],
         "title": {
          "text": "Month"
         }
        },
        "yaxis": {
         "anchor": "x",
         "domain": [
          0,
          1
         ],
         "title": {
          "text": "TotalPrice"
         }
        }
       }
      }
     },
     "metadata": {},
     "output_type": "display_data"
    }
   ],
   "source": [
    "data['InvoiceDate'] = pd.to_datetime(data['InvoiceDate'])\n",
    "data['Date'] = data['InvoiceDate'].dt.date\n",
    "data['Month'] = data['InvoiceDate'].dt.month\n",
    "data['Day_of_week'] = data['InvoiceDate'].dt.weekday\n",
    "data['Hour'] = data['InvoiceDate'].dt.hour\n",
    "\n",
    "month_df = data[['Month', 'TotalPrice']]\n",
    "month_df = month_df.groupby('Month').sum()\n",
    "month_df = month_df.sort_values('TotalPrice', ascending=False)\n",
    "display(month_df.head())\n",
    "fig = px.bar(month_df, x = month_df.index, y = 'TotalPrice')\n",
    "fig.show()"
   ]
  },
  {
   "cell_type": "markdown",
   "metadata": {},
   "source": [
    "### Задание 4.6\n",
    "Визуализируем количество заказов для каждого дня недели.\n"
   ]
  },
  {
   "cell_type": "code",
   "execution_count": null,
   "metadata": {},
   "outputs": [
    {
     "data": {
      "text/html": [
       "<div>\n",
       "<style scoped>\n",
       "    .dataframe tbody tr th:only-of-type {\n",
       "        vertical-align: middle;\n",
       "    }\n",
       "\n",
       "    .dataframe tbody tr th {\n",
       "        vertical-align: top;\n",
       "    }\n",
       "\n",
       "    .dataframe thead th {\n",
       "        text-align: right;\n",
       "    }\n",
       "</style>\n",
       "<table border=\"1\" class=\"dataframe\">\n",
       "  <thead>\n",
       "    <tr style=\"text-align: right;\">\n",
       "      <th></th>\n",
       "      <th>TotalPrice</th>\n",
       "    </tr>\n",
       "    <tr>\n",
       "      <th>Day_of_week</th>\n",
       "      <th></th>\n",
       "    </tr>\n",
       "  </thead>\n",
       "  <tbody>\n",
       "    <tr>\n",
       "      <th>0</th>\n",
       "      <td>1299543.41</td>\n",
       "    </tr>\n",
       "    <tr>\n",
       "      <th>1</th>\n",
       "      <td>1546809.47</td>\n",
       "    </tr>\n",
       "    <tr>\n",
       "      <th>2</th>\n",
       "      <td>1534556.01</td>\n",
       "    </tr>\n",
       "    <tr>\n",
       "      <th>3</th>\n",
       "      <td>1887161.31</td>\n",
       "    </tr>\n",
       "    <tr>\n",
       "      <th>4</th>\n",
       "      <td>1217519.33</td>\n",
       "    </tr>\n",
       "    <tr>\n",
       "      <th>6</th>\n",
       "      <td>767615.34</td>\n",
       "    </tr>\n",
       "  </tbody>\n",
       "</table>\n",
       "</div>"
      ],
      "text/plain": [
       "             TotalPrice\n",
       "Day_of_week            \n",
       "0            1299543.41\n",
       "1            1546809.47\n",
       "2            1534556.01\n",
       "3            1887161.31\n",
       "4            1217519.33\n",
       "6             767615.34"
      ]
     },
     "metadata": {},
     "output_type": "display_data"
    },
    {
     "data": {
      "application/vnd.plotly.v1+json": {
       "config": {
        "plotlyServerURL": "https://plot.ly"
       },
       "data": [
        {
         "alignmentgroup": "True",
         "hovertemplate": "variable=TotalPrice<br>Day_of_week=%{x}<br>value=%{y}<extra></extra>",
         "legendgroup": "TotalPrice",
         "marker": {
          "color": "#636efa",
          "pattern": {
           "shape": ""
          }
         },
         "name": "TotalPrice",
         "offsetgroup": "TotalPrice",
         "orientation": "v",
         "showlegend": true,
         "textposition": "auto",
         "type": "bar",
         "x": [
          0,
          1,
          2,
          3,
          4,
          6
         ],
         "xaxis": "x",
         "y": [
          1299543.41,
          1546809.47,
          1534556.01,
          1887161.31,
          1217519.33,
          767615.34
         ],
         "yaxis": "y"
        }
       ],
       "layout": {
        "barmode": "relative",
        "legend": {
         "title": {
          "text": "variable"
         },
         "tracegroupgap": 0
        },
        "margin": {
         "t": 60
        },
        "template": {
         "data": {
          "bar": [
           {
            "error_x": {
             "color": "#2a3f5f"
            },
            "error_y": {
             "color": "#2a3f5f"
            },
            "marker": {
             "line": {
              "color": "#E5ECF6",
              "width": 0.5
             },
             "pattern": {
              "fillmode": "overlay",
              "size": 10,
              "solidity": 0.2
             }
            },
            "type": "bar"
           }
          ],
          "barpolar": [
           {
            "marker": {
             "line": {
              "color": "#E5ECF6",
              "width": 0.5
             },
             "pattern": {
              "fillmode": "overlay",
              "size": 10,
              "solidity": 0.2
             }
            },
            "type": "barpolar"
           }
          ],
          "carpet": [
           {
            "aaxis": {
             "endlinecolor": "#2a3f5f",
             "gridcolor": "white",
             "linecolor": "white",
             "minorgridcolor": "white",
             "startlinecolor": "#2a3f5f"
            },
            "baxis": {
             "endlinecolor": "#2a3f5f",
             "gridcolor": "white",
             "linecolor": "white",
             "minorgridcolor": "white",
             "startlinecolor": "#2a3f5f"
            },
            "type": "carpet"
           }
          ],
          "choropleth": [
           {
            "colorbar": {
             "outlinewidth": 0,
             "ticks": ""
            },
            "type": "choropleth"
           }
          ],
          "contour": [
           {
            "colorbar": {
             "outlinewidth": 0,
             "ticks": ""
            },
            "colorscale": [
             [
              0,
              "#0d0887"
             ],
             [
              0.1111111111111111,
              "#46039f"
             ],
             [
              0.2222222222222222,
              "#7201a8"
             ],
             [
              0.3333333333333333,
              "#9c179e"
             ],
             [
              0.4444444444444444,
              "#bd3786"
             ],
             [
              0.5555555555555556,
              "#d8576b"
             ],
             [
              0.6666666666666666,
              "#ed7953"
             ],
             [
              0.7777777777777778,
              "#fb9f3a"
             ],
             [
              0.8888888888888888,
              "#fdca26"
             ],
             [
              1,
              "#f0f921"
             ]
            ],
            "type": "contour"
           }
          ],
          "contourcarpet": [
           {
            "colorbar": {
             "outlinewidth": 0,
             "ticks": ""
            },
            "type": "contourcarpet"
           }
          ],
          "heatmap": [
           {
            "colorbar": {
             "outlinewidth": 0,
             "ticks": ""
            },
            "colorscale": [
             [
              0,
              "#0d0887"
             ],
             [
              0.1111111111111111,
              "#46039f"
             ],
             [
              0.2222222222222222,
              "#7201a8"
             ],
             [
              0.3333333333333333,
              "#9c179e"
             ],
             [
              0.4444444444444444,
              "#bd3786"
             ],
             [
              0.5555555555555556,
              "#d8576b"
             ],
             [
              0.6666666666666666,
              "#ed7953"
             ],
             [
              0.7777777777777778,
              "#fb9f3a"
             ],
             [
              0.8888888888888888,
              "#fdca26"
             ],
             [
              1,
              "#f0f921"
             ]
            ],
            "type": "heatmap"
           }
          ],
          "heatmapgl": [
           {
            "colorbar": {
             "outlinewidth": 0,
             "ticks": ""
            },
            "colorscale": [
             [
              0,
              "#0d0887"
             ],
             [
              0.1111111111111111,
              "#46039f"
             ],
             [
              0.2222222222222222,
              "#7201a8"
             ],
             [
              0.3333333333333333,
              "#9c179e"
             ],
             [
              0.4444444444444444,
              "#bd3786"
             ],
             [
              0.5555555555555556,
              "#d8576b"
             ],
             [
              0.6666666666666666,
              "#ed7953"
             ],
             [
              0.7777777777777778,
              "#fb9f3a"
             ],
             [
              0.8888888888888888,
              "#fdca26"
             ],
             [
              1,
              "#f0f921"
             ]
            ],
            "type": "heatmapgl"
           }
          ],
          "histogram": [
           {
            "marker": {
             "pattern": {
              "fillmode": "overlay",
              "size": 10,
              "solidity": 0.2
             }
            },
            "type": "histogram"
           }
          ],
          "histogram2d": [
           {
            "colorbar": {
             "outlinewidth": 0,
             "ticks": ""
            },
            "colorscale": [
             [
              0,
              "#0d0887"
             ],
             [
              0.1111111111111111,
              "#46039f"
             ],
             [
              0.2222222222222222,
              "#7201a8"
             ],
             [
              0.3333333333333333,
              "#9c179e"
             ],
             [
              0.4444444444444444,
              "#bd3786"
             ],
             [
              0.5555555555555556,
              "#d8576b"
             ],
             [
              0.6666666666666666,
              "#ed7953"
             ],
             [
              0.7777777777777778,
              "#fb9f3a"
             ],
             [
              0.8888888888888888,
              "#fdca26"
             ],
             [
              1,
              "#f0f921"
             ]
            ],
            "type": "histogram2d"
           }
          ],
          "histogram2dcontour": [
           {
            "colorbar": {
             "outlinewidth": 0,
             "ticks": ""
            },
            "colorscale": [
             [
              0,
              "#0d0887"
             ],
             [
              0.1111111111111111,
              "#46039f"
             ],
             [
              0.2222222222222222,
              "#7201a8"
             ],
             [
              0.3333333333333333,
              "#9c179e"
             ],
             [
              0.4444444444444444,
              "#bd3786"
             ],
             [
              0.5555555555555556,
              "#d8576b"
             ],
             [
              0.6666666666666666,
              "#ed7953"
             ],
             [
              0.7777777777777778,
              "#fb9f3a"
             ],
             [
              0.8888888888888888,
              "#fdca26"
             ],
             [
              1,
              "#f0f921"
             ]
            ],
            "type": "histogram2dcontour"
           }
          ],
          "mesh3d": [
           {
            "colorbar": {
             "outlinewidth": 0,
             "ticks": ""
            },
            "type": "mesh3d"
           }
          ],
          "parcoords": [
           {
            "line": {
             "colorbar": {
              "outlinewidth": 0,
              "ticks": ""
             }
            },
            "type": "parcoords"
           }
          ],
          "pie": [
           {
            "automargin": true,
            "type": "pie"
           }
          ],
          "scatter": [
           {
            "fillpattern": {
             "fillmode": "overlay",
             "size": 10,
             "solidity": 0.2
            },
            "type": "scatter"
           }
          ],
          "scatter3d": [
           {
            "line": {
             "colorbar": {
              "outlinewidth": 0,
              "ticks": ""
             }
            },
            "marker": {
             "colorbar": {
              "outlinewidth": 0,
              "ticks": ""
             }
            },
            "type": "scatter3d"
           }
          ],
          "scattercarpet": [
           {
            "marker": {
             "colorbar": {
              "outlinewidth": 0,
              "ticks": ""
             }
            },
            "type": "scattercarpet"
           }
          ],
          "scattergeo": [
           {
            "marker": {
             "colorbar": {
              "outlinewidth": 0,
              "ticks": ""
             }
            },
            "type": "scattergeo"
           }
          ],
          "scattergl": [
           {
            "marker": {
             "colorbar": {
              "outlinewidth": 0,
              "ticks": ""
             }
            },
            "type": "scattergl"
           }
          ],
          "scattermapbox": [
           {
            "marker": {
             "colorbar": {
              "outlinewidth": 0,
              "ticks": ""
             }
            },
            "type": "scattermapbox"
           }
          ],
          "scatterpolar": [
           {
            "marker": {
             "colorbar": {
              "outlinewidth": 0,
              "ticks": ""
             }
            },
            "type": "scatterpolar"
           }
          ],
          "scatterpolargl": [
           {
            "marker": {
             "colorbar": {
              "outlinewidth": 0,
              "ticks": ""
             }
            },
            "type": "scatterpolargl"
           }
          ],
          "scatterternary": [
           {
            "marker": {
             "colorbar": {
              "outlinewidth": 0,
              "ticks": ""
             }
            },
            "type": "scatterternary"
           }
          ],
          "surface": [
           {
            "colorbar": {
             "outlinewidth": 0,
             "ticks": ""
            },
            "colorscale": [
             [
              0,
              "#0d0887"
             ],
             [
              0.1111111111111111,
              "#46039f"
             ],
             [
              0.2222222222222222,
              "#7201a8"
             ],
             [
              0.3333333333333333,
              "#9c179e"
             ],
             [
              0.4444444444444444,
              "#bd3786"
             ],
             [
              0.5555555555555556,
              "#d8576b"
             ],
             [
              0.6666666666666666,
              "#ed7953"
             ],
             [
              0.7777777777777778,
              "#fb9f3a"
             ],
             [
              0.8888888888888888,
              "#fdca26"
             ],
             [
              1,
              "#f0f921"
             ]
            ],
            "type": "surface"
           }
          ],
          "table": [
           {
            "cells": {
             "fill": {
              "color": "#EBF0F8"
             },
             "line": {
              "color": "white"
             }
            },
            "header": {
             "fill": {
              "color": "#C8D4E3"
             },
             "line": {
              "color": "white"
             }
            },
            "type": "table"
           }
          ]
         },
         "layout": {
          "annotationdefaults": {
           "arrowcolor": "#2a3f5f",
           "arrowhead": 0,
           "arrowwidth": 1
          },
          "autotypenumbers": "strict",
          "coloraxis": {
           "colorbar": {
            "outlinewidth": 0,
            "ticks": ""
           }
          },
          "colorscale": {
           "diverging": [
            [
             0,
             "#8e0152"
            ],
            [
             0.1,
             "#c51b7d"
            ],
            [
             0.2,
             "#de77ae"
            ],
            [
             0.3,
             "#f1b6da"
            ],
            [
             0.4,
             "#fde0ef"
            ],
            [
             0.5,
             "#f7f7f7"
            ],
            [
             0.6,
             "#e6f5d0"
            ],
            [
             0.7,
             "#b8e186"
            ],
            [
             0.8,
             "#7fbc41"
            ],
            [
             0.9,
             "#4d9221"
            ],
            [
             1,
             "#276419"
            ]
           ],
           "sequential": [
            [
             0,
             "#0d0887"
            ],
            [
             0.1111111111111111,
             "#46039f"
            ],
            [
             0.2222222222222222,
             "#7201a8"
            ],
            [
             0.3333333333333333,
             "#9c179e"
            ],
            [
             0.4444444444444444,
             "#bd3786"
            ],
            [
             0.5555555555555556,
             "#d8576b"
            ],
            [
             0.6666666666666666,
             "#ed7953"
            ],
            [
             0.7777777777777778,
             "#fb9f3a"
            ],
            [
             0.8888888888888888,
             "#fdca26"
            ],
            [
             1,
             "#f0f921"
            ]
           ],
           "sequentialminus": [
            [
             0,
             "#0d0887"
            ],
            [
             0.1111111111111111,
             "#46039f"
            ],
            [
             0.2222222222222222,
             "#7201a8"
            ],
            [
             0.3333333333333333,
             "#9c179e"
            ],
            [
             0.4444444444444444,
             "#bd3786"
            ],
            [
             0.5555555555555556,
             "#d8576b"
            ],
            [
             0.6666666666666666,
             "#ed7953"
            ],
            [
             0.7777777777777778,
             "#fb9f3a"
            ],
            [
             0.8888888888888888,
             "#fdca26"
            ],
            [
             1,
             "#f0f921"
            ]
           ]
          },
          "colorway": [
           "#636efa",
           "#EF553B",
           "#00cc96",
           "#ab63fa",
           "#FFA15A",
           "#19d3f3",
           "#FF6692",
           "#B6E880",
           "#FF97FF",
           "#FECB52"
          ],
          "font": {
           "color": "#2a3f5f"
          },
          "geo": {
           "bgcolor": "white",
           "lakecolor": "white",
           "landcolor": "#E5ECF6",
           "showlakes": true,
           "showland": true,
           "subunitcolor": "white"
          },
          "hoverlabel": {
           "align": "left"
          },
          "hovermode": "closest",
          "mapbox": {
           "style": "light"
          },
          "paper_bgcolor": "white",
          "plot_bgcolor": "#E5ECF6",
          "polar": {
           "angularaxis": {
            "gridcolor": "white",
            "linecolor": "white",
            "ticks": ""
           },
           "bgcolor": "#E5ECF6",
           "radialaxis": {
            "gridcolor": "white",
            "linecolor": "white",
            "ticks": ""
           }
          },
          "scene": {
           "xaxis": {
            "backgroundcolor": "#E5ECF6",
            "gridcolor": "white",
            "gridwidth": 2,
            "linecolor": "white",
            "showbackground": true,
            "ticks": "",
            "zerolinecolor": "white"
           },
           "yaxis": {
            "backgroundcolor": "#E5ECF6",
            "gridcolor": "white",
            "gridwidth": 2,
            "linecolor": "white",
            "showbackground": true,
            "ticks": "",
            "zerolinecolor": "white"
           },
           "zaxis": {
            "backgroundcolor": "#E5ECF6",
            "gridcolor": "white",
            "gridwidth": 2,
            "linecolor": "white",
            "showbackground": true,
            "ticks": "",
            "zerolinecolor": "white"
           }
          },
          "shapedefaults": {
           "line": {
            "color": "#2a3f5f"
           }
          },
          "ternary": {
           "aaxis": {
            "gridcolor": "white",
            "linecolor": "white",
            "ticks": ""
           },
           "baxis": {
            "gridcolor": "white",
            "linecolor": "white",
            "ticks": ""
           },
           "bgcolor": "#E5ECF6",
           "caxis": {
            "gridcolor": "white",
            "linecolor": "white",
            "ticks": ""
           }
          },
          "title": {
           "x": 0.05
          },
          "xaxis": {
           "automargin": true,
           "gridcolor": "white",
           "linecolor": "white",
           "ticks": "",
           "title": {
            "standoff": 15
           },
           "zerolinecolor": "white",
           "zerolinewidth": 2
          },
          "yaxis": {
           "automargin": true,
           "gridcolor": "white",
           "linecolor": "white",
           "ticks": "",
           "title": {
            "standoff": 15
           },
           "zerolinecolor": "white",
           "zerolinewidth": 2
          }
         }
        },
        "xaxis": {
         "anchor": "y",
         "domain": [
          0,
          1
         ],
         "title": {
          "text": "Day_of_week"
         }
        },
        "yaxis": {
         "anchor": "x",
         "domain": [
          0,
          1
         ],
         "title": {
          "text": "value"
         }
        }
       }
      }
     },
     "metadata": {},
     "output_type": "display_data"
    }
   ],
   "source": [
    "day_df = data[['Day_of_week', 'TotalPrice']]\n",
    "day_df = day_df.groupby('Day_of_week').sum()\n",
    "display(day_df)\n",
    "fig = px.bar(day_df)\n",
    "fig.show()"
   ]
  },
  {
   "cell_type": "markdown",
   "metadata": {},
   "source": [
    "### Задание 4.7\n",
    "=\n",
    "Сгруппируйте данные по датам и часам совершения транзакции и найдите количество заказов на каждый день-час. Затем найдите среднее количество ежедневно поступающих заказов в каждый из часов.\n",
    "\n",
    "Постройте визуализацию, отражающую распределение среднего количества ежедневно поступающих заказов по времени суток (часу совершения транзакции).\n",
    "\n",
    "Выберите верные утверждения:\n",
    "* Больше всего заказов совершается в дневное время в интервале от 18 до 20 часов\n",
    "* Больше всего заказов совершается в вечернее время в интервале от 10 до 15 часов\n",
    "* Начиная с 21 часа вечера и до 6 утра (не включительно) заказы не поступают \n",
    "* Заказы поступают во все периоды дня\n"
   ]
  },
  {
   "cell_type": "code",
   "execution_count": 200,
   "metadata": {},
   "outputs": [
    {
     "data": {
      "text/html": [
       "<div>\n",
       "<style scoped>\n",
       "    .dataframe tbody tr th:only-of-type {\n",
       "        vertical-align: middle;\n",
       "    }\n",
       "\n",
       "    .dataframe tbody tr th {\n",
       "        vertical-align: top;\n",
       "    }\n",
       "\n",
       "    .dataframe thead th {\n",
       "        text-align: right;\n",
       "    }\n",
       "</style>\n",
       "<table border=\"1\" class=\"dataframe\">\n",
       "  <thead>\n",
       "    <tr style=\"text-align: right;\">\n",
       "      <th></th>\n",
       "      <th>Date</th>\n",
       "      <th>Hour</th>\n",
       "      <th>Quantity</th>\n",
       "    </tr>\n",
       "  </thead>\n",
       "  <tbody>\n",
       "    <tr>\n",
       "      <th>0</th>\n",
       "      <td>2010-12-01</td>\n",
       "      <td>8</td>\n",
       "      <td>13.311111</td>\n",
       "    </tr>\n",
       "    <tr>\n",
       "      <th>1</th>\n",
       "      <td>2010-12-01</td>\n",
       "      <td>9</td>\n",
       "      <td>21.885906</td>\n",
       "    </tr>\n",
       "    <tr>\n",
       "      <th>2</th>\n",
       "      <td>2010-12-01</td>\n",
       "      <td>10</td>\n",
       "      <td>25.666667</td>\n",
       "    </tr>\n",
       "    <tr>\n",
       "      <th>3</th>\n",
       "      <td>2010-12-01</td>\n",
       "      <td>11</td>\n",
       "      <td>6.472934</td>\n",
       "    </tr>\n",
       "    <tr>\n",
       "      <th>4</th>\n",
       "      <td>2010-12-01</td>\n",
       "      <td>12</td>\n",
       "      <td>10.070388</td>\n",
       "    </tr>\n",
       "    <tr>\n",
       "      <th>...</th>\n",
       "      <td>...</td>\n",
       "      <td>...</td>\n",
       "      <td>...</td>\n",
       "    </tr>\n",
       "    <tr>\n",
       "      <th>2848</th>\n",
       "      <td>2011-12-09</td>\n",
       "      <td>8</td>\n",
       "      <td>26.223214</td>\n",
       "    </tr>\n",
       "    <tr>\n",
       "      <th>2849</th>\n",
       "      <td>2011-12-09</td>\n",
       "      <td>9</td>\n",
       "      <td>1416.051724</td>\n",
       "    </tr>\n",
       "    <tr>\n",
       "      <th>2850</th>\n",
       "      <td>2011-12-09</td>\n",
       "      <td>10</td>\n",
       "      <td>15.875000</td>\n",
       "    </tr>\n",
       "    <tr>\n",
       "      <th>2851</th>\n",
       "      <td>2011-12-09</td>\n",
       "      <td>11</td>\n",
       "      <td>9.763359</td>\n",
       "    </tr>\n",
       "    <tr>\n",
       "      <th>2852</th>\n",
       "      <td>2011-12-09</td>\n",
       "      <td>12</td>\n",
       "      <td>12.295455</td>\n",
       "    </tr>\n",
       "  </tbody>\n",
       "</table>\n",
       "<p>2853 rows × 3 columns</p>\n",
       "</div>"
      ],
      "text/plain": [
       "            Date  Hour     Quantity\n",
       "0     2010-12-01     8    13.311111\n",
       "1     2010-12-01     9    21.885906\n",
       "2     2010-12-01    10    25.666667\n",
       "3     2010-12-01    11     6.472934\n",
       "4     2010-12-01    12    10.070388\n",
       "...          ...   ...          ...\n",
       "2848  2011-12-09     8    26.223214\n",
       "2849  2011-12-09     9  1416.051724\n",
       "2850  2011-12-09    10    15.875000\n",
       "2851  2011-12-09    11     9.763359\n",
       "2852  2011-12-09    12    12.295455\n",
       "\n",
       "[2853 rows x 3 columns]"
      ]
     },
     "metadata": {},
     "output_type": "display_data"
    },
    {
     "data": {
      "application/vnd.plotly.v1+json": {
       "config": {
        "plotlyServerURL": "https://plot.ly"
       },
       "data": [
        {
         "alignmentgroup": "True",
         "hovertemplate": "Hour=%{x}<br>Quantity=%{y}<extra></extra>",
         "legendgroup": "",
         "marker": {
          "color": "#636efa",
          "pattern": {
           "shape": ""
          }
         },
         "name": "",
         "offsetgroup": "",
         "orientation": "v",
         "showlegend": false,
         "textposition": "auto",
         "type": "bar",
         "x": [
          8,
          9,
          10,
          11,
          12,
          13,
          14,
          15,
          16,
          17,
          7,
          8,
          9,
          10,
          11,
          12,
          13,
          14,
          15,
          16,
          17,
          18,
          19,
          9,
          10,
          11,
          12,
          13,
          14,
          15,
          16,
          17,
          10,
          11,
          12,
          13,
          14,
          15,
          16,
          8,
          9,
          10,
          11,
          12,
          13,
          14,
          15,
          16,
          17,
          9,
          10,
          11,
          12,
          13,
          14,
          15,
          16,
          17,
          8,
          9,
          10,
          11,
          12,
          13,
          14,
          15,
          16,
          17,
          8,
          9,
          10,
          11,
          12,
          13,
          14,
          15,
          16,
          17,
          18,
          19,
          20,
          9,
          10,
          11,
          12,
          13,
          14,
          15,
          16,
          17,
          10,
          11,
          12,
          13,
          14,
          16,
          9,
          10,
          11,
          12,
          13,
          14,
          15,
          16,
          17,
          9,
          10,
          11,
          12,
          13,
          14,
          15,
          16,
          17,
          9,
          10,
          11,
          12,
          13,
          14,
          15,
          16,
          17,
          8,
          9,
          10,
          11,
          12,
          13,
          14,
          15,
          16,
          17,
          18,
          19,
          8,
          9,
          10,
          11,
          12,
          13,
          14,
          15,
          16,
          17,
          18,
          10,
          11,
          12,
          13,
          14,
          15,
          9,
          10,
          11,
          12,
          13,
          14,
          15,
          16,
          17,
          9,
          10,
          12,
          13,
          14,
          15,
          16,
          17,
          10,
          11,
          12,
          13,
          14,
          16,
          9,
          10,
          11,
          12,
          14,
          15,
          16,
          10,
          11,
          12,
          13,
          14,
          15,
          16,
          9,
          10,
          11,
          12,
          13,
          14,
          15,
          16,
          17,
          8,
          9,
          10,
          11,
          12,
          13,
          14,
          15,
          16,
          17,
          18,
          9,
          10,
          11,
          12,
          13,
          14,
          15,
          16,
          17,
          10,
          11,
          12,
          13,
          14,
          15,
          16,
          9,
          10,
          11,
          12,
          13,
          14,
          15,
          16,
          17,
          7,
          8,
          9,
          10,
          11,
          12,
          13,
          14,
          15,
          16,
          9,
          10,
          11,
          12,
          13,
          14,
          15,
          16,
          9,
          10,
          11,
          12,
          13,
          14,
          15,
          8,
          9,
          10,
          11,
          12,
          13,
          14,
          15,
          16,
          17,
          10,
          11,
          12,
          13,
          14,
          15,
          16,
          10,
          11,
          12,
          13,
          14,
          15,
          16,
          17,
          8,
          9,
          10,
          11,
          12,
          13,
          14,
          15,
          16,
          8,
          9,
          10,
          11,
          12,
          13,
          14,
          15,
          16,
          17,
          9,
          10,
          11,
          12,
          13,
          14,
          15,
          16,
          19,
          9,
          10,
          11,
          12,
          13,
          14,
          15,
          17,
          10,
          11,
          12,
          13,
          14,
          15,
          16,
          8,
          9,
          10,
          11,
          12,
          13,
          14,
          15,
          16,
          8,
          9,
          10,
          11,
          12,
          13,
          14,
          15,
          16,
          8,
          9,
          10,
          11,
          12,
          13,
          14,
          15,
          16,
          17,
          8,
          9,
          10,
          11,
          12,
          13,
          14,
          15,
          16,
          17,
          18,
          19,
          9,
          10,
          11,
          12,
          13,
          14,
          15,
          16,
          10,
          11,
          12,
          13,
          14,
          15,
          8,
          9,
          10,
          11,
          12,
          13,
          14,
          15,
          16,
          8,
          9,
          10,
          11,
          12,
          13,
          14,
          15,
          16,
          7,
          9,
          10,
          11,
          12,
          13,
          14,
          15,
          16,
          17,
          8,
          9,
          10,
          11,
          12,
          13,
          14,
          15,
          17,
          18,
          19,
          8,
          9,
          10,
          11,
          12,
          13,
          14,
          15,
          16,
          11,
          12,
          13,
          14,
          15,
          16,
          9,
          10,
          11,
          12,
          13,
          14,
          15,
          16,
          9,
          10,
          11,
          12,
          13,
          14,
          15,
          16,
          17,
          9,
          10,
          11,
          12,
          13,
          14,
          15,
          16,
          9,
          10,
          11,
          12,
          13,
          14,
          15,
          16,
          17,
          19,
          8,
          9,
          10,
          11,
          12,
          13,
          14,
          15,
          16,
          17,
          10,
          11,
          12,
          13,
          14,
          15,
          16,
          9,
          10,
          11,
          12,
          13,
          14,
          15,
          8,
          9,
          10,
          11,
          12,
          13,
          14,
          15,
          16,
          17,
          8,
          9,
          10,
          11,
          12,
          13,
          14,
          15,
          16,
          8,
          9,
          10,
          11,
          12,
          13,
          14,
          15,
          16,
          17,
          19,
          8,
          9,
          10,
          11,
          12,
          13,
          14,
          15,
          10,
          11,
          12,
          13,
          14,
          15,
          8,
          9,
          10,
          11,
          12,
          13,
          14,
          15,
          17,
          8,
          9,
          10,
          11,
          12,
          13,
          14,
          15,
          16,
          17,
          8,
          9,
          10,
          11,
          12,
          13,
          14,
          15,
          16,
          17,
          9,
          10,
          11,
          12,
          13,
          14,
          15,
          16,
          17,
          18,
          8,
          9,
          10,
          11,
          12,
          13,
          14,
          15,
          16,
          17,
          10,
          11,
          12,
          13,
          14,
          15,
          8,
          9,
          10,
          11,
          12,
          13,
          14,
          15,
          16,
          17,
          8,
          9,
          10,
          11,
          12,
          13,
          14,
          15,
          16,
          17,
          8,
          9,
          10,
          11,
          12,
          13,
          14,
          15,
          16,
          17,
          8,
          9,
          10,
          11,
          12,
          13,
          14,
          15,
          16,
          18,
          19,
          8,
          9,
          10,
          11,
          12,
          13,
          14,
          15,
          17,
          10,
          11,
          12,
          14,
          15,
          8,
          9,
          10,
          11,
          12,
          13,
          14,
          15,
          16,
          17,
          8,
          9,
          10,
          11,
          12,
          13,
          14,
          15,
          16,
          17,
          8,
          9,
          10,
          11,
          12,
          13,
          14,
          15,
          7,
          8,
          9,
          10,
          11,
          12,
          13,
          14,
          15,
          16,
          19,
          8,
          9,
          10,
          11,
          12,
          13,
          14,
          15,
          16,
          10,
          11,
          12,
          13,
          14,
          15,
          8,
          9,
          10,
          11,
          12,
          13,
          14,
          15,
          16,
          8,
          9,
          10,
          11,
          12,
          13,
          14,
          15,
          16,
          8,
          9,
          10,
          11,
          12,
          13,
          14,
          15,
          16,
          7,
          9,
          10,
          11,
          12,
          13,
          14,
          15,
          16,
          17,
          18,
          19,
          20,
          8,
          9,
          10,
          11,
          12,
          13,
          14,
          15,
          17,
          10,
          11,
          12,
          13,
          14,
          15,
          16,
          8,
          9,
          10,
          11,
          12,
          13,
          14,
          15,
          16,
          17,
          8,
          9,
          10,
          11,
          12,
          13,
          14,
          15,
          16,
          17,
          8,
          9,
          10,
          11,
          12,
          13,
          14,
          15,
          16,
          17,
          8,
          9,
          10,
          11,
          12,
          13,
          14,
          15,
          16,
          17,
          18,
          19,
          8,
          9,
          10,
          11,
          12,
          13,
          14,
          15,
          16,
          17,
          10,
          11,
          12,
          13,
          14,
          15,
          16,
          7,
          8,
          9,
          10,
          11,
          12,
          13,
          14,
          15,
          16,
          8,
          9,
          10,
          11,
          12,
          13,
          14,
          15,
          16,
          17,
          9,
          10,
          11,
          12,
          13,
          14,
          15,
          16,
          17,
          9,
          10,
          11,
          12,
          13,
          14,
          15,
          16,
          17,
          18,
          19,
          8,
          9,
          10,
          11,
          12,
          13,
          14,
          15,
          16,
          10,
          11,
          12,
          13,
          14,
          15,
          8,
          9,
          10,
          11,
          12,
          13,
          14,
          15,
          16,
          8,
          9,
          10,
          11,
          12,
          13,
          14,
          15,
          16,
          17,
          9,
          10,
          11,
          12,
          13,
          14,
          15,
          16,
          17,
          9,
          10,
          11,
          12,
          13,
          18,
          19,
          7,
          8,
          9,
          10,
          11,
          12,
          13,
          14,
          15,
          17,
          10,
          11,
          12,
          13,
          14,
          15,
          16,
          8,
          9,
          10,
          11,
          12,
          13,
          14,
          15,
          16,
          17,
          8,
          9,
          10,
          11,
          12,
          13,
          14,
          15,
          16,
          17,
          8,
          9,
          10,
          11,
          12,
          13,
          14,
          15,
          16,
          17,
          8,
          9,
          10,
          11,
          12,
          13,
          14,
          15,
          16,
          17,
          18,
          19,
          8,
          9,
          10,
          11,
          12,
          13,
          14,
          15,
          16,
          10,
          11,
          12,
          13,
          14,
          15,
          9,
          10,
          11,
          12,
          13,
          14,
          15,
          16,
          17,
          8,
          9,
          10,
          11,
          12,
          13,
          14,
          15,
          16,
          17,
          8,
          9,
          10,
          11,
          12,
          13,
          14,
          15,
          16,
          17,
          8,
          9,
          10,
          11,
          12,
          13,
          14,
          15,
          16,
          17,
          18,
          19,
          8,
          9,
          10,
          11,
          12,
          13,
          14,
          15,
          16,
          8,
          9,
          10,
          11,
          12,
          13,
          14,
          15,
          16,
          17,
          7,
          8,
          9,
          10,
          11,
          12,
          13,
          14,
          15,
          16,
          18,
          19,
          10,
          11,
          12,
          13,
          14,
          15,
          8,
          9,
          10,
          11,
          12,
          13,
          14,
          15,
          16,
          17,
          8,
          9,
          10,
          11,
          12,
          13,
          14,
          15,
          16,
          17,
          7,
          8,
          9,
          10,
          11,
          12,
          13,
          14,
          15,
          16,
          17,
          18,
          19,
          8,
          9,
          10,
          11,
          12,
          13,
          14,
          15,
          16,
          17,
          19,
          20,
          10,
          11,
          12,
          13,
          14,
          15,
          16,
          8,
          9,
          10,
          11,
          12,
          13,
          14,
          15,
          16,
          17,
          8,
          9,
          10,
          11,
          12,
          13,
          14,
          15,
          16,
          7,
          8,
          9,
          10,
          11,
          12,
          13,
          14,
          15,
          16,
          17,
          8,
          9,
          10,
          11,
          12,
          13,
          14,
          15,
          16,
          17,
          18,
          19,
          20,
          8,
          9,
          10,
          11,
          12,
          13,
          14,
          15,
          16,
          17,
          11,
          12,
          13,
          14,
          15,
          16,
          8,
          9,
          10,
          11,
          12,
          13,
          14,
          15,
          16,
          17,
          8,
          9,
          10,
          11,
          12,
          13,
          14,
          15,
          16,
          9,
          10,
          11,
          12,
          13,
          14,
          15,
          16,
          7,
          8,
          9,
          10,
          11,
          12,
          13,
          14,
          15,
          16,
          17,
          18,
          19,
          8,
          9,
          10,
          11,
          12,
          13,
          14,
          15,
          16,
          10,
          11,
          12,
          13,
          14,
          15,
          8,
          9,
          10,
          11,
          12,
          13,
          14,
          15,
          16,
          17,
          8,
          9,
          10,
          11,
          12,
          13,
          14,
          15,
          16,
          17,
          8,
          9,
          10,
          11,
          12,
          13,
          14,
          15,
          16,
          17,
          8,
          9,
          10,
          11,
          12,
          13,
          14,
          15,
          16,
          17,
          18,
          19,
          9,
          10,
          11,
          12,
          13,
          14,
          15,
          16,
          17,
          10,
          11,
          12,
          13,
          14,
          15,
          8,
          9,
          10,
          11,
          12,
          13,
          14,
          15,
          7,
          8,
          9,
          10,
          11,
          12,
          13,
          14,
          15,
          16,
          17,
          9,
          10,
          11,
          12,
          13,
          14,
          15,
          16,
          17,
          18,
          19,
          7,
          8,
          9,
          10,
          11,
          12,
          13,
          14,
          15,
          16,
          17,
          10,
          11,
          12,
          13,
          14,
          15,
          16,
          8,
          9,
          10,
          11,
          12,
          13,
          14,
          15,
          16,
          7,
          8,
          9,
          10,
          11,
          12,
          13,
          14,
          15,
          16,
          8,
          9,
          10,
          11,
          12,
          13,
          14,
          15,
          16,
          17,
          7,
          8,
          9,
          10,
          11,
          12,
          13,
          14,
          15,
          16,
          17,
          18,
          19,
          20,
          8,
          9,
          10,
          11,
          12,
          13,
          14,
          15,
          16,
          9,
          10,
          11,
          12,
          13,
          14,
          15,
          7,
          8,
          9,
          10,
          11,
          12,
          13,
          14,
          15,
          16,
          17,
          8,
          9,
          10,
          11,
          12,
          13,
          14,
          15,
          16,
          8,
          9,
          10,
          11,
          12,
          13,
          14,
          15,
          16,
          8,
          9,
          10,
          11,
          12,
          13,
          14,
          15,
          16,
          17,
          18,
          19,
          8,
          9,
          10,
          11,
          12,
          13,
          14,
          15,
          16,
          10,
          11,
          12,
          13,
          14,
          15,
          16,
          8,
          9,
          10,
          11,
          12,
          13,
          14,
          15,
          16,
          17,
          8,
          9,
          10,
          11,
          12,
          13,
          14,
          15,
          16,
          17,
          8,
          9,
          10,
          11,
          12,
          13,
          14,
          15,
          16,
          17,
          9,
          10,
          11,
          12,
          13,
          14,
          15,
          16,
          17,
          18,
          19,
          8,
          9,
          10,
          11,
          12,
          13,
          14,
          15,
          16,
          17,
          10,
          11,
          12,
          13,
          14,
          15,
          16,
          8,
          9,
          10,
          11,
          12,
          13,
          14,
          15,
          16,
          8,
          9,
          10,
          11,
          12,
          13,
          14,
          15,
          16,
          17,
          8,
          9,
          10,
          11,
          12,
          13,
          14,
          15,
          16,
          8,
          9,
          10,
          11,
          12,
          13,
          14,
          15,
          16,
          17,
          18,
          19,
          20,
          8,
          9,
          10,
          11,
          12,
          13,
          14,
          15,
          17,
          10,
          11,
          12,
          13,
          14,
          15,
          16,
          10,
          11,
          12,
          13,
          14,
          15,
          16,
          9,
          10,
          11,
          12,
          13,
          14,
          15,
          16,
          9,
          10,
          11,
          12,
          13,
          14,
          15,
          16,
          17,
          8,
          10,
          11,
          12,
          13,
          14,
          15,
          16,
          17,
          18,
          19,
          20,
          8,
          9,
          10,
          11,
          12,
          13,
          15,
          16,
          17,
          10,
          11,
          12,
          13,
          14,
          15,
          16,
          9,
          10,
          11,
          12,
          13,
          14,
          15,
          16,
          17,
          8,
          9,
          10,
          11,
          12,
          13,
          14,
          15,
          16,
          17,
          8,
          9,
          10,
          11,
          12,
          13,
          14,
          15,
          16,
          17,
          8,
          9,
          10,
          11,
          12,
          13,
          14,
          15,
          16,
          17,
          18,
          19,
          20,
          8,
          9,
          10,
          11,
          12,
          13,
          14,
          15,
          16,
          17,
          10,
          11,
          12,
          13,
          14,
          15,
          8,
          9,
          10,
          11,
          12,
          13,
          14,
          15,
          16,
          17,
          9,
          10,
          11,
          12,
          13,
          14,
          15,
          16,
          17,
          8,
          9,
          10,
          11,
          12,
          13,
          14,
          15,
          8,
          9,
          10,
          11,
          12,
          13,
          14,
          15,
          16,
          17,
          18,
          19,
          9,
          10,
          11,
          12,
          13,
          14,
          15,
          16,
          17,
          10,
          11,
          12,
          13,
          14,
          15,
          16,
          8,
          9,
          10,
          11,
          12,
          13,
          14,
          15,
          16,
          8,
          9,
          10,
          11,
          12,
          13,
          14,
          15,
          16,
          17,
          8,
          9,
          10,
          11,
          12,
          13,
          14,
          15,
          17,
          8,
          9,
          10,
          11,
          12,
          13,
          14,
          15,
          16,
          17,
          18,
          19,
          8,
          9,
          10,
          11,
          12,
          13,
          14,
          15,
          16,
          17,
          10,
          11,
          12,
          13,
          14,
          15,
          16,
          8,
          9,
          10,
          11,
          12,
          13,
          14,
          15,
          16,
          17,
          8,
          9,
          10,
          11,
          12,
          13,
          14,
          15,
          17,
          8,
          9,
          10,
          11,
          12,
          13,
          14,
          15,
          16,
          17,
          8,
          9,
          10,
          11,
          12,
          13,
          14,
          15,
          16,
          17,
          18,
          19,
          20,
          8,
          9,
          10,
          11,
          12,
          13,
          14,
          15,
          16,
          17,
          10,
          11,
          12,
          13,
          14,
          15,
          9,
          10,
          11,
          12,
          13,
          14,
          15,
          16,
          9,
          10,
          11,
          12,
          13,
          14,
          15,
          16,
          8,
          9,
          10,
          11,
          12,
          13,
          14,
          15,
          16,
          17,
          8,
          9,
          10,
          11,
          12,
          13,
          14,
          15,
          16,
          17,
          9,
          10,
          11,
          12,
          13,
          14,
          15,
          16,
          10,
          11,
          12,
          13,
          15,
          8,
          9,
          10,
          11,
          12,
          13,
          14,
          15,
          16,
          8,
          9,
          10,
          11,
          12,
          13,
          14,
          15,
          16,
          17,
          8,
          9,
          10,
          11,
          12,
          13,
          14,
          15,
          16,
          17,
          19,
          20,
          6,
          8,
          9,
          10,
          11,
          12,
          13,
          14,
          15,
          16,
          17,
          18,
          19,
          20,
          8,
          9,
          10,
          11,
          12,
          13,
          14,
          15,
          16,
          17,
          10,
          11,
          12,
          13,
          14,
          15,
          16,
          9,
          10,
          11,
          12,
          13,
          14,
          15,
          8,
          9,
          10,
          11,
          12,
          13,
          14,
          15,
          16,
          17,
          8,
          9,
          10,
          11,
          12,
          13,
          14,
          15,
          16,
          8,
          9,
          10,
          11,
          12,
          13,
          14,
          15,
          17,
          18,
          19,
          8,
          9,
          10,
          11,
          12,
          13,
          14,
          15,
          10,
          11,
          12,
          13,
          14,
          15,
          16,
          8,
          9,
          10,
          11,
          12,
          13,
          14,
          15,
          16,
          17,
          8,
          9,
          10,
          11,
          12,
          13,
          14,
          15,
          16,
          17,
          8,
          9,
          10,
          11,
          12,
          13,
          14,
          15,
          16,
          17,
          18,
          19,
          8,
          9,
          10,
          11,
          12,
          13,
          14,
          15,
          16,
          17,
          10,
          11,
          12,
          13,
          14,
          15,
          16,
          9,
          10,
          11,
          12,
          13,
          14,
          15,
          16,
          17,
          8,
          9,
          10,
          11,
          12,
          13,
          14,
          15,
          16,
          8,
          9,
          10,
          11,
          12,
          13,
          14,
          15,
          16,
          8,
          9,
          10,
          11,
          12,
          13,
          14,
          15,
          19,
          8,
          9,
          10,
          11,
          12,
          13,
          14,
          15,
          10,
          11,
          12,
          13,
          14,
          15,
          16,
          8,
          9,
          10,
          11,
          12,
          13,
          14,
          15,
          16,
          17,
          9,
          10,
          11,
          12,
          13,
          14,
          15,
          16,
          17,
          8,
          9,
          10,
          11,
          12,
          13,
          14,
          15,
          16,
          8,
          9,
          10,
          11,
          12,
          13,
          14,
          15,
          16,
          17,
          18,
          19,
          9,
          10,
          11,
          12,
          13,
          14,
          15,
          16,
          17,
          10,
          11,
          12,
          13,
          14,
          15,
          16,
          9,
          10,
          11,
          12,
          13,
          14,
          15,
          16,
          8,
          9,
          10,
          11,
          12,
          13,
          14,
          15,
          16,
          8,
          9,
          10,
          11,
          12,
          13,
          14,
          15,
          16,
          17,
          8,
          9,
          10,
          11,
          12,
          13,
          14,
          15,
          16,
          17,
          18,
          19,
          8,
          9,
          10,
          11,
          12,
          13,
          14,
          15,
          16,
          10,
          11,
          12,
          13,
          14,
          15,
          16,
          7,
          8,
          9,
          10,
          11,
          12,
          13,
          14,
          15,
          16,
          17,
          8,
          9,
          10,
          11,
          12,
          13,
          14,
          15,
          16,
          17,
          8,
          9,
          10,
          11,
          12,
          13,
          14,
          15,
          16,
          8,
          9,
          10,
          11,
          12,
          13,
          14,
          15,
          16,
          17,
          18,
          19,
          7,
          8,
          9,
          10,
          11,
          12,
          13,
          14,
          15,
          10,
          11,
          12,
          13,
          14,
          15,
          8,
          9,
          10,
          11,
          12,
          13,
          14,
          15,
          16,
          17,
          8,
          9,
          10,
          11,
          12,
          13,
          14,
          15,
          16,
          17,
          8,
          9,
          10,
          11,
          12,
          13,
          14,
          15,
          16,
          17,
          8,
          9,
          10,
          11,
          12,
          13,
          14,
          15,
          16,
          17,
          18,
          19,
          8,
          9,
          10,
          11,
          12,
          13,
          14,
          15,
          16,
          10,
          11,
          12,
          13,
          14,
          15,
          16,
          8,
          9,
          10,
          11,
          12,
          13,
          14,
          15,
          16,
          17,
          8,
          9,
          10,
          11,
          12,
          13,
          14,
          15,
          16,
          8,
          9,
          10,
          11,
          12,
          13,
          14,
          15,
          17,
          8,
          9,
          10,
          11,
          12,
          13,
          14,
          15,
          16,
          17,
          8,
          9,
          10,
          11,
          12,
          13,
          14,
          15,
          16,
          17,
          10,
          11,
          12,
          13,
          14,
          15,
          16,
          8,
          9,
          10,
          11,
          12,
          13,
          14,
          15,
          16,
          17,
          7,
          8,
          9,
          10,
          11,
          12,
          13,
          14,
          15,
          16,
          17,
          8,
          9,
          10,
          11,
          12,
          13,
          14,
          15,
          16,
          8,
          9,
          10,
          11,
          12,
          13,
          14,
          15,
          16,
          17,
          18,
          19,
          8,
          9,
          10,
          11,
          12,
          13,
          14,
          15,
          16,
          10,
          11,
          12,
          13,
          14,
          15,
          16,
          8,
          9,
          10,
          11,
          12,
          13,
          14,
          15,
          16,
          17,
          8,
          9,
          10,
          11,
          12,
          13,
          14,
          15,
          16,
          17,
          8,
          9,
          10,
          11,
          12,
          13,
          14,
          15,
          16,
          17,
          8,
          9,
          10,
          11,
          12,
          13,
          14,
          15,
          16,
          17,
          18,
          19,
          20,
          7,
          8,
          9,
          10,
          11,
          12,
          13,
          14,
          15,
          16,
          17,
          18,
          10,
          11,
          12,
          13,
          14,
          15,
          16,
          8,
          9,
          10,
          11,
          12,
          13,
          14,
          15,
          16,
          17,
          8,
          9,
          10,
          11,
          12,
          13,
          14,
          15,
          17,
          8,
          9,
          10,
          11,
          12,
          13,
          14,
          15,
          16,
          17,
          8,
          9,
          10,
          11,
          12,
          13,
          14,
          15,
          16,
          17,
          18,
          19,
          7,
          8,
          9,
          10,
          11,
          12,
          13,
          14,
          15,
          16,
          17,
          9,
          10,
          11,
          12,
          13,
          14,
          15,
          16,
          7,
          8,
          9,
          10,
          11,
          12,
          13,
          14,
          15,
          16,
          17,
          7,
          8,
          9,
          10,
          11,
          12,
          13,
          14,
          15,
          16,
          17,
          8,
          9,
          10,
          11,
          12,
          13,
          14,
          15,
          16,
          17,
          8,
          9,
          10,
          11,
          12,
          13,
          14,
          15,
          16,
          17,
          18,
          19,
          20,
          8,
          9,
          10,
          11,
          12,
          13,
          14,
          15,
          16,
          17,
          10,
          11,
          12,
          13,
          14,
          15,
          16,
          8,
          9,
          10,
          11,
          12,
          13,
          14,
          15,
          16,
          17,
          8,
          9,
          10,
          11,
          12,
          13,
          14,
          15,
          16,
          17,
          8,
          9,
          10,
          11,
          12,
          13,
          14,
          15,
          16,
          17,
          8,
          9,
          10,
          11,
          12,
          13,
          14,
          15,
          16,
          17,
          18,
          19,
          8,
          9,
          10,
          11,
          12,
          13,
          14,
          15,
          16,
          17,
          10,
          11,
          12,
          13,
          14,
          15,
          16,
          8,
          9,
          10,
          11,
          12,
          13,
          14,
          15,
          16,
          17,
          8,
          9,
          10,
          11,
          12,
          13,
          14,
          15,
          16,
          17,
          8,
          9,
          10,
          11,
          12,
          13,
          14,
          15,
          16,
          17,
          8,
          9,
          10,
          11,
          12,
          13,
          14,
          15,
          16,
          17,
          18,
          19,
          8,
          9,
          10,
          11,
          12,
          13,
          14,
          15,
          16,
          17,
          10,
          11,
          12,
          13,
          14,
          15,
          16,
          8,
          9,
          10,
          11,
          12,
          13,
          14,
          15,
          16,
          17,
          8,
          9,
          10,
          11,
          12,
          13,
          14,
          15,
          16,
          17,
          18,
          8,
          9,
          10,
          11,
          12,
          13,
          14,
          15,
          16,
          17,
          8,
          9,
          10,
          11,
          12,
          13,
          14,
          15,
          16,
          17,
          18,
          19,
          8,
          9,
          10,
          11,
          12,
          13,
          14,
          15,
          16,
          17,
          10,
          11,
          12,
          13,
          14,
          15,
          16,
          8,
          9,
          10,
          11,
          12,
          13,
          14,
          15,
          16,
          17,
          8,
          9,
          10,
          11,
          12,
          13,
          14,
          15,
          16,
          17,
          8,
          9,
          10,
          11,
          12,
          13,
          14,
          15,
          16,
          17,
          8,
          9,
          10,
          11,
          12,
          13,
          14,
          15,
          16,
          17,
          18,
          19,
          20,
          8,
          9,
          10,
          11,
          12
         ],
         "xaxis": "x",
         "y": [
          13.311111111111112,
          21.885906040268456,
          25.666666666666668,
          6.472934472934473,
          10.070388349514563,
          12.5078125,
          7.264367816091954,
          10.218579234972678,
          27.238993710691823,
          4.73469387755102,
          15.6,
          7.019230769230769,
          7.666666666666667,
          18.27363184079602,
          6.970833333333333,
          18.724489795918366,
          4.810344827586207,
          8.279569892473118,
          22.889240506329113,
          29.359375,
          59.85227272727273,
          14.639344262295081,
          1.7272727272727273,
          29.833333333333332,
          8.413461538461538,
          15.423423423423424,
          11.681818181818182,
          15.847222222222221,
          6.9227642276422765,
          3.5039370078740157,
          15.272727272727273,
          13.533333333333333,
          4.575,
          6.515463917525773,
          5.260355029585799,
          5.084380610412927,
          7.336170212765958,
          11.333333333333334,
          4.375,
          26.129032258064516,
          43.214285714285715,
          12.356521739130434,
          9.072,
          6.061538461538461,
          10.11864406779661,
          3.708029197080292,
          7.508928571428571,
          13.294117647058824,
          5.75,
          26.765432098765434,
          11.033783783783784,
          21.418181818181818,
          11.645833333333334,
          11.8375,
          7.5083798882681565,
          5.614634146341463,
          266.24,
          17.857142857142858,
          21.083333333333332,
          14.2,
          13.935344827586206,
          9.638297872340425,
          7.834205933682373,
          8.425087108013937,
          11.467836257309942,
          16.8,
          15.270114942528735,
          4.92,
          7,
          11.666666666666666,
          20.198979591836736,
          27.666666666666668,
          9.847161572052402,
          6.932907348242812,
          7.75792507204611,
          9.92436974789916,
          5.366412213740458,
          5.510204081632653,
          4.097560975609756,
          4.895522388059701,
          2.9846153846153847,
          21.705128205128204,
          18.363095238095237,
          6.063781321184511,
          9.558375634517766,
          7.711229946524064,
          8.076086956521738,
          32.213740458015266,
          2.269230769230769,
          2.945945945945946,
          6.288888888888889,
          9.32992327365729,
          9.491909385113269,
          5.195488721804511,
          10.816326530612244,
          3.6519337016574585,
          29.265060240963855,
          11.3,
          22.585714285714285,
          10.133802816901408,
          6.979591836734694,
          11.552631578947368,
          11.68545994065282,
          18,
          11.741935483870968,
          16.285714285714285,
          6.679389312977099,
          7.7,
          15.574175824175825,
          12.011627906976743,
          9.048913043478262,
          16.754716981132077,
          7.597938144329897,
          3.48,
          14.149253731343284,
          7.853503184713376,
          28.524509803921568,
          16.71323529411765,
          16.329479768786126,
          11.804347826086957,
          12.282296650717702,
          6.123376623376624,
          2.7567567567567566,
          23.38235294117647,
          21.559139784946236,
          60.37777777777778,
          13.986394557823129,
          8.137566137566138,
          12.984962406015038,
          17.232954545454547,
          10.028846153846153,
          6.4324324324324325,
          27.636942675159236,
          9.833333333333334,
          11.267379679144385,
          11.08695652173913,
          19.418181818181818,
          89.02325581395348,
          10.205882352941176,
          14.392857142857142,
          8.578947368421053,
          10.58904109589041,
          14,
          6.382978723404255,
          6.977528089887641,
          20,
          6.846153846153846,
          17.653333333333332,
          14.478260869565217,
          5.466666666666667,
          4.729357798165138,
          6.795180722891566,
          14.636363636363637,
          8.772151898734178,
          13.16161616161616,
          45.354838709677416,
          23.75609756097561,
          11.206896551724139,
          7.871559633027523,
          5.285714285714286,
          15.78,
          10.017241379310345,
          8.294117647058824,
          10.4,
          30.630769230769232,
          11.720588235294118,
          97.17142857142858,
          1.2272727272727273,
          6.756756756756757,
          28.666666666666668,
          18.157894736842106,
          7.194444444444445,
          4.7,
          20.86111111111111,
          33.5,
          39.75,
          13.285714285714286,
          7,
          13.19718309859155,
          13.323529411764707,
          25.866666666666667,
          1.8160919540229885,
          14.382352941176471,
          7.006993006993007,
          7.762820512820513,
          11.965116279069768,
          12.405405405405405,
          7.89922480620155,
          7.853658536585366,
          18.857142857142858,
          33.37190082644628,
          21.717791411042946,
          16.842553191489362,
          16.337748344370862,
          9.461538461538462,
          9.229885057471265,
          35.208333333333336,
          5.769230769230769,
          70.66666666666667,
          16.613333333333333,
          44.21739130434783,
          49.992248062015506,
          14.529644268774703,
          6.46969696969697,
          7.126829268292683,
          23.76271186440678,
          12.019607843137255,
          10.075757575757576,
          8.26865671641791,
          41.10769230769231,
          10.910828025477707,
          22.526315789473685,
          13.203463203463203,
          17.359550561797754,
          12.730407523510971,
          7.462365591397849,
          5.87037037037037,
          9.35,
          16.70212765957447,
          6.871080139372823,
          7.070093457943925,
          8.096385542168674,
          5.5495049504950495,
          6.7823529411764705,
          5.619047619047619,
          9.318518518518518,
          9.258823529411766,
          12.165354330708661,
          14.285714285714286,
          11.28125,
          15.790123456790123,
          11.048780487804878,
          12.560975609756097,
          6.555555555555555,
          56,
          89.9,
          25.383333333333333,
          21.35593220338983,
          46.595238095238095,
          37.02173913043478,
          13.16,
          13.01,
          6.434782608695652,
          17.2,
          6.666666666666667,
          8.55045871559633,
          17.455357142857142,
          9.763440860215054,
          3.9570815450643777,
          14.064516129032258,
          9.235294117647058,
          7.022471910112359,
          11.35135135135135,
          16.923728813559322,
          6.303571428571429,
          9.765432098765432,
          9.439024390243903,
          24.357142857142858,
          8.8875,
          12.666666666666666,
          10.169811320754716,
          14.475247524752476,
          12.805555555555555,
          50.33695652173913,
          9.155778894472363,
          46.363013698630134,
          10.545454545454545,
          18,
          1,
          12.666666666666666,
          3.3015873015873014,
          21.027027027027028,
          6.120481927710843,
          8.675,
          2.8525641025641026,
          6.761363636363637,
          7.622641509433962,
          8.897435897435898,
          9.857142857142858,
          11.117647058823529,
          9.05940594059406,
          11.735294117647058,
          6.0576923076923075,
          2,
          16.3125,
          27.333333333333332,
          2079.3055555555557,
          81.47368421052632,
          8.931818181818182,
          6.3979591836734695,
          10.392857142857142,
          6.6,
          2.7349397590361444,
          18,
          19.179856115107913,
          7.622448979591836,
          13.055555555555555,
          65.16190476190476,
          10.517857142857142,
          9.16504854368932,
          7.836065573770492,
          9.15625,
          3.207317073170732,
          40.4,
          11.75,
          6.931818181818182,
          11.285714285714286,
          9.090909090909092,
          19.365591397849464,
          10.77245508982036,
          6.666666666666667,
          4.055555555555555,
          20.31578947368421,
          66.8,
          32.15942028985507,
          6.714285714285714,
          13.412844036697248,
          9.488372093023257,
          11.2,
          3.8181818181818183,
          8.433333333333334,
          6.222222222222222,
          5.383419689119171,
          3.0294117647058822,
          2.7861635220125787,
          9.300970873786408,
          29,
          100,
          6.670454545454546,
          24.52747252747253,
          12.515625,
          10.06060606060606,
          17.738853503184714,
          9.8625,
          7.426666666666667,
          3.893939393939394,
          22.464285714285715,
          12.520833333333334,
          22.603053435114504,
          15.404109589041095,
          11.591549295774648,
          7.769230769230769,
          11.663636363636364,
          15.976744186046512,
          11.8,
          64,
          15.705882352941176,
          11.710843373493976,
          25.1294964028777,
          9.813333333333333,
          8.53191489361702,
          5.085106382978723,
          7.5,
          13.3,
          3.8133333333333335,
          11.666666666666666,
          9.985915492957746,
          10.802469135802468,
          5.764285714285714,
          7.609756097560975,
          15.858156028368795,
          7.252873563218391,
          7.235074626865671,
          7.364406779661017,
          2.9545454545454546,
          3.207547169811321,
          2.8333333333333335,
          21.03125,
          38.75757575757576,
          12.098039215686274,
          9.706521739130435,
          8.14423076923077,
          7.986666666666666,
          8.658536585365853,
          7.818181818181818,
          3.1392405063291138,
          3.5925925925925926,
          5.015873015873016,
          3.3846153846153846,
          7.7592592592592595,
          4.487179487179487,
          10.736842105263158,
          17.68421052631579,
          18.25531914893617,
          6.663551401869159,
          23,
          14.482014388489208,
          5.022598870056497,
          8.138157894736842,
          8.408163265306122,
          13.033898305084746,
          10.981481481481481,
          25.06382978723404,
          7.564705882352941,
          12.627118644067796,
          12.413793103448276,
          4.155688622754491,
          14.51063829787234,
          15.176470588235293,
          85.71428571428571,
          8.83673469387755,
          13.48993288590604,
          13.795918367346939,
          8.043478260869565,
          17.060606060606062,
          8.214285714285714,
          8.397727272727273,
          11.380952380952381,
          2.816,
          8.823529411764707,
          28.678571428571427,
          48.54666666666667,
          5.451923076923077,
          38.10982658959538,
          8.64516129032258,
          10.415730337078651,
          9.909090909090908,
          8.10344827586207,
          5.3478260869565215,
          4.297872340425532,
          43.38636363636363,
          12.907407407407407,
          4.297297297297297,
          25.622857142857143,
          9.930693069306932,
          6.891891891891892,
          12.97972972972973,
          8.26923076923077,
          7.75,
          5.032786885245901,
          3.675675675675676,
          35.833333333333336,
          9.42608695652174,
          1.5517241379310345,
          1.7894736842105263,
          11.946428571428571,
          18.083333333333332,
          5.16887417218543,
          5.627450980392157,
          6.845588235294118,
          5.083700440528634,
          51.16949152542373,
          5.769230769230769,
          36.65625,
          21.233766233766232,
          8.662337662337663,
          16.282828282828284,
          7.169491525423729,
          13.70807453416149,
          10.4375,
          3.5789473684210527,
          4,
          7.2,
          8.486238532110091,
          48.405797101449274,
          7.869565217391305,
          7.872549019607843,
          7.482758620689655,
          7.020408163265306,
          2.6470588235294117,
          166.36666666666667,
          10.891891891891891,
          21.39189189189189,
          17.11111111111111,
          6.37037037037037,
          11.53225806451613,
          23.03030303030303,
          4.333333333333333,
          3.576923076923077,
          4.285714285714286,
          10.529411764705882,
          35,
          9.43918918918919,
          78.71428571428571,
          13.709219858156029,
          11.659090909090908,
          6.043478260869565,
          22.928571428571427,
          3.0232558139534884,
          1,
          6.222222222222222,
          7.192660550458716,
          3.5317073170731708,
          3.8813559322033897,
          2.302325581395349,
          5.797752808988764,
          5.684210526315789,
          29.322751322751323,
          12.652173913043478,
          139.23076923076923,
          13.210526315789474,
          9.64,
          8.642857142857142,
          8.434579439252337,
          9.842105263157896,
          64.59027777777777,
          40.85436893203884,
          6.7421383647798745,
          11.494736842105263,
          7.601941747572815,
          16.627450980392158,
          12.833333333333334,
          8,
          2.8970588235294117,
          11.142857142857142,
          20.96,
          9.233160621761659,
          11.63265306122449,
          25.151832460732983,
          16.054347826086957,
          12.471698113207546,
          40.89473684210526,
          12.44927536231884,
          14.185185185185185,
          14.909090909090908,
          9.23728813559322,
          11.096153846153847,
          15.289532293986637,
          3.9159663865546217,
          10.056122448979592,
          33.21739130434783,
          7.448275862068965,
          17,
          3.8333333333333335,
          9.795454545454545,
          18.285714285714285,
          17.132653061224488,
          15.032051282051283,
          23.92105263157895,
          6.769911504424779,
          11.484848484848484,
          10.733333333333333,
          11.865168539325843,
          9.529411764705882,
          4.658227848101266,
          8.718120805369127,
          5.549828178694158,
          2.9322033898305087,
          10.612244897959183,
          6.4423076923076925,
          90.94701986754967,
          10.69,
          7.805369127516778,
          13.738805970149254,
          14.466666666666667,
          5.825,
          2.9859154929577465,
          8.5,
          20.745098039215687,
          112.7948717948718,
          12.885135135135135,
          28.82,
          7.920634920634921,
          7.7875,
          29.5625,
          3.9520958083832336,
          9.631578947368421,
          24.5,
          16.014285714285716,
          11.78125,
          19.944444444444443,
          12.69204152249135,
          10.511627906976743,
          7.192982456140351,
          8.785714285714286,
          14.181818181818182,
          2.5454545454545454,
          8.537234042553191,
          8.792592592592593,
          6.113475177304965,
          10.111940298507463,
          6.1568627450980395,
          22.35593220338983,
          10.515151515151516,
          13.941747572815533,
          11.357142857142858,
          7.556603773584905,
          16.522727272727273,
          13.481481481481481,
          11.153846153846153,
          7.644927536231884,
          18.76,
          15.264957264957266,
          12.16326530612245,
          16.583333333333332,
          21.666666666666668,
          5.239130434782608,
          6.967741935483871,
          6.554878048780488,
          7.898876404494382,
          5.571428571428571,
          3.1315789473684212,
          10.304347826086957,
          23.066666666666666,
          10.89873417721519,
          7.881118881118881,
          12.642857142857142,
          9.486725663716815,
          9.26388888888889,
          8.382978723404255,
          4.71689497716895,
          10.666666666666666,
          11.071428571428571,
          7.836363636363636,
          11.28436018957346,
          11.837606837606838,
          17.35514018691589,
          7.995348837209303,
          6.233333333333333,
          20,
          11.185185185185185,
          5.446808510638298,
          3.2857142857142856,
          11.522727272727273,
          8.95890410958904,
          31.8,
          10.416666666666666,
          16.573643410852714,
          9.414634146341463,
          7.456692913385827,
          9.166666666666666,
          7.426229508196721,
          3.10989010989011,
          11.555555555555555,
          17.289473684210527,
          72.81935483870967,
          9.06,
          10.215686274509803,
          12.669642857142858,
          12.317307692307692,
          6.887323943661972,
          9.893617021276595,
          7.46875,
          6.454545454545454,
          11.904761904761905,
          23.07079646017699,
          8.56115107913669,
          6.375,
          42.75221238938053,
          7.027027027027027,
          8.294820717131474,
          7.233333333333333,
          30.1,
          13.952380952380953,
          4.631578947368421,
          3.8758620689655174,
          8.541062801932368,
          10.270588235294118,
          3.8333333333333335,
          14.723684210526315,
          7.178294573643411,
          57.979166666666664,
          7.017857142857143,
          5.765873015873016,
          14.511904761904763,
          6.764705882352941,
          34.6,
          3.30188679245283,
          11.380952380952381,
          12.279411764705882,
          38.48780487804878,
          20.69158878504673,
          7.623052959501558,
          11.344262295081966,
          8.603092783505154,
          6.171875,
          24,
          6.9743589743589745,
          9.133333333333333,
          11.392156862745098,
          26.933333333333334,
          16.30851063829787,
          6.057522123893805,
          7.32,
          8.555555555555555,
          14.294117647058824,
          75,
          10.357142857142858,
          36.90163934426229,
          14.354330708661417,
          50.47945205479452,
          12.796875,
          8.9,
          16.125,
          7.217391304347826,
          5.333333333333333,
          6.105263157894737,
          7.379310344827586,
          22.34375,
          33.77777777777778,
          11.120689655172415,
          10.64,
          16.517241379310345,
          8.865671641791044,
          18.615384615384617,
          51.93333333333333,
          8.11111111111111,
          5.053571428571429,
          2.142857142857143,
          7.378787878787879,
          5.1521739130434785,
          3.8660714285714284,
          12.489795918367347,
          32.46511627906977,
          16.337078651685392,
          2.8076923076923075,
          12.113475177304965,
          60.34126984126984,
          6.544117647058823,
          6.143564356435643,
          3.022727272727273,
          12.038461538461538,
          12.104166666666666,
          10.487603305785123,
          8.278350515463918,
          7.877551020408164,
          11.386666666666667,
          10.68421052631579,
          8.25748502994012,
          9.209876543209877,
          8.857142857142858,
          12.40566037735849,
          18.692307692307693,
          30.763636363636362,
          25.88888888888889,
          15.902912621359222,
          10.433070866141732,
          5.323529411764706,
          5.7924528301886795,
          46.26315789473684,
          11.826086956521738,
          86.29268292682927,
          12,
          15.378151260504202,
          8.27027027027027,
          17.192307692307693,
          23.03030303030303,
          10.59,
          8.863636363636363,
          15.546666666666667,
          6.701492537313433,
          4.911504424778761,
          9.689655172413794,
          11.613861386138614,
          23.535714285714285,
          4.613333333333333,
          7.75,
          29.185185185185187,
          8.9,
          32.395348837209305,
          4.8,
          43.05882352941177,
          12.970149253731343,
          8.44378698224852,
          6.494642857142857,
          11.203703703703704,
          7.878048780487805,
          7.6,
          13.090909090909092,
          10.215686274509803,
          12.959183673469388,
          7.5793103448275865,
          9.106870229007633,
          7.884057971014493,
          13.569230769230769,
          8.89655172413793,
          4.177570093457944,
          14.4,
          20.666666666666668,
          14.590909090909092,
          5.535714285714286,
          7.481927710843373,
          18.455445544554454,
          4.948717948717949,
          11.43939393939394,
          7.435,
          6.674157303370786,
          4.148148148148148,
          15.2,
          13.555555555555555,
          17.71875,
          3.9212121212121214,
          10.679069767441861,
          18.75496688741722,
          34.56578947368421,
          10.26056338028169,
          6.833333333333333,
          58.333333333333336,
          19.5609756097561,
          12.467153284671532,
          12.494949494949495,
          16.147727272727273,
          4.863874345549738,
          6.833723653395785,
          9.50413223140496,
          15.2,
          8.823529411764707,
          15.272727272727273,
          84,
          2.607142857142857,
          12.352941176470589,
          24,
          13.353741496598639,
          4.117647058823529,
          12.759656652360515,
          7.283783783783784,
          23.5390625,
          11.827586206896552,
          108.13636363636364,
          6.6,
          17.132075471698112,
          9.633802816901408,
          5.064516129032258,
          5.092307692307692,
          2.6018518518518516,
          7.373493975903615,
          5.445945945945946,
          19.57894736842105,
          10.823529411764707,
          10.307086614173228,
          11.969465648854962,
          4.987577639751553,
          4.337874659400545,
          13.294642857142858,
          8.096551724137932,
          17.04424778761062,
          9.683544303797468,
          9.482758620689655,
          12.043478260869565,
          9.835443037974683,
          71.19125683060109,
          7.067226890756302,
          25.46875,
          8.675,
          7.79646017699115,
          8.950617283950617,
          6.137931034482759,
          19.342657342657343,
          28.653333333333332,
          13.542483660130719,
          5.976588628762542,
          21.911458333333332,
          27.37037037037037,
          24.5,
          10.706521739130435,
          5.053571428571429,
          10.27536231884058,
          22.753246753246753,
          11.935897435897436,
          5.422680412371134,
          24.80851063829787,
          2.4,
          5.493827160493828,
          15.166666666666666,
          11.1875,
          16.19047619047619,
          15.405405405405405,
          8.966666666666667,
          28.08955223880597,
          8.644927536231885,
          6.5886075949367084,
          74.34065934065934,
          14.968944099378882,
          10.265,
          3.2711864406779663,
          35.425,
          7.571428571428571,
          23.078740157480315,
          7.382113821138211,
          11.058823529411764,
          3.0714285714285716,
          3.5084745762711864,
          83,
          12.417721518987342,
          8.603305785123966,
          9.207207207207206,
          12.718346253229974,
          9.982248520710058,
          3.7213930348258706,
          10.74468085106383,
          14.444444444444445,
          43.93333333333333,
          8.823529411764707,
          16.116071428571427,
          27.45054945054945,
          6.387832699619772,
          18.905172413793103,
          20.272727272727273,
          8.758064516129032,
          8.11111111111111,
          400,
          7.857142857142857,
          7.507462686567164,
          11.21359223300971,
          22.845238095238095,
          9.141732283464567,
          8.762430939226519,
          8.008849557522124,
          4.631578947368421,
          2.1666666666666665,
          15.235294117647058,
          13.037878787878787,
          6.9037037037037035,
          8.236781609195402,
          7.661835748792271,
          4.733333333333333,
          2.3059701492537314,
          8.384615384615385,
          9.588235294117647,
          10.06060606060606,
          9.216417910447761,
          13.988826815642458,
          15.28476821192053,
          25.03846153846154,
          10.265625,
          14.51578947368421,
          2.875,
          80,
          5.394833948339484,
          4.659259259259259,
          5.309523809523809,
          3.30188679245283,
          8.358333333333333,
          4.604395604395604,
          13.52020202020202,
          10.742424242424242,
          25.441176470588236,
          22.541666666666668,
          11.08108108108108,
          8.219895287958115,
          7.684782608695652,
          5.5,
          6.515923566878981,
          5.714285714285714,
          14.428571428571429,
          13.604166666666666,
          25.958579881656803,
          11.508474576271187,
          8.150943396226415,
          18.078651685393258,
          12.376068376068377,
          9.69,
          7.104895104895105,
          1.2857142857142858,
          22.40909090909091,
          11.90625,
          121.58333333333333,
          35.620253164556964,
          6.6879432624113475,
          9.219653179190752,
          14.1301775147929,
          8.537313432835822,
          5.654545454545454,
          4.6,
          24.529411764705884,
          13.91578947368421,
          10.31055900621118,
          11.160493827160494,
          14.220338983050848,
          12.187817258883248,
          6.129729729729729,
          29.55952380952381,
          13.290322580645162,
          11.601503759398497,
          8.661016949152541,
          4.16,
          17.333333333333332,
          11.5,
          7.503597122302159,
          11.612903225806452,
          42.95283018867924,
          9.383720930232558,
          10.147058823529411,
          5.175675675675675,
          14.540983606557377,
          15.852941176470589,
          13.751412429378531,
          6.147982062780269,
          5.293706293706293,
          7.72463768115942,
          8.512820512820513,
          105.46268656716418,
          5.3497267759562845,
          14.64655172413793,
          6.958762886597938,
          40.99628252788104,
          9.07876712328767,
          9.047619047619047,
          4.642857142857143,
          2.4545454545454546,
          9.56,
          10.573333333333334,
          12.788819875776397,
          8.531645569620252,
          16.45945945945946,
          8.945652173913043,
          17.166666666666668,
          7.978260869565218,
          3.260869565217391,
          2.6666666666666665,
          22.51851851851852,
          60.81981981981982,
          15.465116279069768,
          27.144144144144143,
          11.042553191489361,
          14.396694214876034,
          10.546666666666667,
          10.454545454545455,
          15.6,
          3.82,
          3.024390243902439,
          44.09756097560975,
          5.214022140221402,
          6.237288135593221,
          22.927777777777777,
          20.217391304347824,
          9.346153846153847,
          13.432203389830509,
          6.805687203791469,
          12.08974358974359,
          12.166666666666666,
          7.548780487804878,
          23.44,
          13.130841121495328,
          8.071428571428571,
          9.97953216374269,
          13.097014925373134,
          10.134715025906736,
          14.056,
          15.6,
          9.25,
          21.4,
          41,
          35.53488372093023,
          12.42361111111111,
          9.464285714285714,
          6.291005291005291,
          21.568027210884352,
          154.4,
          7.696969696969697,
          1.5,
          37.166666666666664,
          9.692307692307692,
          18.362068965517242,
          27.262295081967213,
          9.16,
          9.583333333333334,
          9.595918367346938,
          12.028571428571428,
          6.992537313432836,
          8.235849056603774,
          12.545454545454545,
          6.666666666666667,
          14.857142857142858,
          5.333333333333333,
          10.563218390804598,
          11.10989010989011,
          10.097222222222221,
          13.8,
          18.4,
          10.130841121495328,
          13.217391304347826,
          14.465648854961833,
          10.631372549019607,
          22.929411764705883,
          9,
          5.5504587155963305,
          3.388888888888889,
          2.5,
          17.16949152542373,
          10.472222222222221,
          12.384615384615385,
          21.228643216080403,
          8.436893203883495,
          15.342857142857143,
          9.654545454545454,
          9.651515151515152,
          16.54022988505747,
          12.4,
          55.5,
          22.5,
          20.53543307086614,
          19.128205128205128,
          25.085365853658537,
          10.242424242424242,
          9.153061224489797,
          7.040650406504065,
          10.817391304347826,
          12.214285714285714,
          13.175824175824175,
          20.166666666666668,
          7.9,
          23.546296296296298,
          12.495145631067961,
          13.738095238095237,
          6.949367088607595,
          10.626262626262626,
          24.59550561797753,
          9.95959595959596,
          10.149253731343284,
          9.705882352941176,
          7.166666666666667,
          1.25,
          1.8571428571428572,
          13.588235294117647,
          6.220588235294118,
          8.596938775510203,
          6.008,
          5.497267759562842,
          6.813559322033898,
          8.369318181818182,
          9.117647058823529,
          12.578947368421053,
          8.380952380952381,
          10.693877551020408,
          10.60546875,
          12.100671140939598,
          12.335766423357665,
          11.575916230366492,
          10.959183673469388,
          13,
          11.454545454545455,
          12.446808510638299,
          18.421965317919074,
          15.036842105263158,
          22.11637931034483,
          8.352601156069364,
          4.320197044334975,
          9.540106951871659,
          4.535714285714286,
          24.166666666666668,
          6.757575757575758,
          9.092592592592593,
          17.16,
          5.5131578947368425,
          11.022613065326633,
          9.15234375,
          18.130890052356023,
          15.669421487603305,
          13.08695652173913,
          7.603448275862069,
          10.577464788732394,
          16.952095808383234,
          66.40259740259741,
          15.9,
          22.12751677852349,
          11.852112676056338,
          53.71951219512195,
          6.614583333333333,
          8.943877551020408,
          7.095238095238095,
          4.570247933884297,
          5.546511627906977,
          5.211920529801325,
          28.925,
          28.734375,
          12.867724867724867,
          11.881889763779528,
          8.18918918918919,
          7.232142857142857,
          9.791044776119403,
          9.058823529411764,
          12.56,
          4.705882352941177,
          7.082474226804123,
          8.542372881355933,
          5.053921568627451,
          5.037037037037037,
          4.549295774647887,
          4.578947368421052,
          17.674418604651162,
          16.11891891891892,
          8.007874015748031,
          16.115384615384617,
          16.706521739130434,
          10.028571428571428,
          18.733668341708544,
          7.93984962406015,
          5.840764331210191,
          6.2,
          13.145833333333334,
          11.303030303030303,
          10.551724137931034,
          37.41139240506329,
          8.885057471264368,
          5.944444444444445,
          5.206185567010309,
          57.31658291457286,
          8.970297029702971,
          21.14406779661017,
          45.63565891472868,
          10.962732919254659,
          10.658031088082902,
          14.26063829787234,
          8.991452991452991,
          11.525547445255475,
          11.543478260869565,
          73.42857142857143,
          11.156626506024097,
          12.414414414414415,
          12.5625,
          9.565714285714286,
          16.538961038961038,
          4.359375,
          15.914285714285715,
          13.744186046511627,
          15.307692307692308,
          9.395833333333334,
          11.222222222222221,
          8.862385321100918,
          13.523076923076923,
          33.266666666666666,
          11.106382978723405,
          37.07017543859649,
          15.65,
          11.025531914893618,
          19.150793650793652,
          49.214285714285715,
          10.968253968253968,
          12.099173553719009,
          8.317142857142857,
          9.67579908675799,
          6.702764976958525,
          6.530685920577618,
          10.82442748091603,
          6.298701298701299,
          12.796992481203008,
          8.57391304347826,
          8.24927536231884,
          10.008264462809917,
          27.809716599190285,
          19.317757009345794,
          15.838709677419354,
          5.2926829268292686,
          7.833333333333333,
          10.38655462184874,
          45.76923076923077,
          33.802919708029194,
          6.472527472527473,
          7.753623188405797,
          7.428571428571429,
          9.129251700680273,
          10.602150537634408,
          6,
          3.78,
          13.68421052631579,
          34.265306122448976,
          13.09016393442623,
          7.565656565656566,
          23.795774647887324,
          11.4,
          10.010752688172044,
          11.254716981132075,
          5.75,
          3.981132075471698,
          18.09090909090909,
          9.183333333333334,
          23.39325842696629,
          7.714285714285714,
          20,
          5.932584269662922,
          9.441666666666666,
          73.42028985507247,
          7.28,
          8.870967741935484,
          7.382352941176471,
          102.14814814814815,
          22.853658536585368,
          49.96,
          9.461538461538462,
          12.201754385964913,
          14.087719298245615,
          11.157894736842104,
          5.035087719298246,
          4.266666666666667,
          12.961538461538462,
          15.84375,
          4.880434782608695,
          6.526315789473684,
          23.967741935483872,
          3.904109589041096,
          6.011627906976744,
          11,
          62.541666666666664,
          12.894736842105264,
          6.927536231884058,
          8.734375,
          25,
          6.098360655737705,
          6.972850678733032,
          7,
          8.263157894736842,
          45.5,
          51.391304347826086,
          23.166666666666668,
          8.529411764705882,
          8.24,
          4.95,
          14.635593220338983,
          8.75,
          2.357142857142857,
          25.91907514450867,
          10.625,
          10.954545454545455,
          16.306569343065693,
          13.375,
          10.861788617886178,
          3.533333333333333,
          14.25,
          13.825396825396826,
          13.25,
          5.8088235294117645,
          23.428571428571427,
          6.181818181818182,
          8.71111111111111,
          11.50943396226415,
          13.30232558139535,
          10.12087912087912,
          11.324324324324325,
          15.342857142857143,
          5.347222222222222,
          8.772727272727273,
          19.523809523809526,
          9.885135135135135,
          18.186046511627907,
          6.934343434343434,
          9.552123552123552,
          4.742537313432836,
          8,
          19.833333333333332,
          5.8,
          13.6953125,
          8.685714285714285,
          11.080808080808081,
          9.026737967914439,
          8.096,
          6.121739130434783,
          11.22,
          3.3486238532110093,
          7.315789473684211,
          18.926829268292682,
          15.778761061946902,
          9.2,
          18.454545454545453,
          8.379912663755459,
          8.49031007751938,
          9.706666666666667,
          22.020833333333332,
          29.863636363636363,
          15.991150442477876,
          13.469696969696969,
          20.637755102040817,
          32.120879120879124,
          7.893175074183977,
          7.7560975609756095,
          15.806451612903226,
          12.395348837209303,
          9.423913043478262,
          2.8771929824561404,
          5.583333333333333,
          53.333333333333336,
          12.00925925925926,
          15.215686274509803,
          11.328671328671328,
          11.256756756756756,
          9.263565891472869,
          10.892086330935252,
          9.488888888888889,
          7.252136752136752,
          43.009009009009006,
          5.153846153846154,
          174.05263157894737,
          3.625,
          11.340909090909092,
          12.67142857142857,
          22.83783783783784,
          5.867403314917127,
          22.493506493506494,
          9.161290322580646,
          13.032786885245901,
          9.363636363636363,
          31.45,
          12.333333333333334,
          31.444444444444443,
          8.566037735849056,
          6.961240310077519,
          9.16,
          7.4822695035460995,
          4.5,
          5.333333333333333,
          9.863636363636363,
          20.523809523809526,
          10.345794392523365,
          6.993377483443709,
          10.167832167832168,
          8.243478260869566,
          9.889908256880734,
          4.441860465116279,
          7.9222222222222225,
          6.521739130434782,
          9.428571428571429,
          11.86111111111111,
          20.347826086956523,
          19.023026315789473,
          9.070381231671554,
          6.352331606217617,
          15.814814814814815,
          20.807692307692307,
          13.133333333333333,
          11.147058823529411,
          82.76923076923077,
          9.485436893203884,
          22.827338129496404,
          7.586206896551724,
          30.8207381370826,
          39.92307692307692,
          14.962962962962964,
          13.853932584269662,
          9.1875,
          22.086021505376344,
          23.38888888888889,
          12.713333333333333,
          7.246987951807229,
          12.2,
          25.813725490196077,
          12.677570093457945,
          12.902439024390244,
          14.5,
          170.68421052631578,
          3.757575757575758,
          22.6,
          39.905660377358494,
          12.861702127659575,
          5.75886524822695,
          15.477611940298507,
          11.214723926380367,
          6.25,
          12.26923076923077,
          20.125,
          12.695121951219512,
          23.044871794871796,
          11.790697674418604,
          10.613333333333333,
          5.32,
          7.394285714285714,
          5.485294117647059,
          12.462962962962964,
          10.639455782312925,
          12.98913043478261,
          7.111888111888112,
          12.197452229299364,
          11.721126760563381,
          19.076271186440678,
          21.94,
          32.45454545454545,
          14.941176470588236,
          30,
          14.21111111111111,
          29.231884057971016,
          5.342342342342342,
          14.5,
          13.090909090909092,
          12.751908396946565,
          6.179856115107913,
          7.634146341463414,
          1.3333333333333333,
          15.166666666666666,
          14.7,
          53.44954128440367,
          17.875,
          9.5625,
          12.628378378378379,
          13.727810650887575,
          11.74390243902439,
          4.452554744525547,
          4.78125,
          21.9672131147541,
          11.543589743589743,
          6.822916666666667,
          11.814814814814815,
          6.795321637426901,
          10.127962085308058,
          11.738095238095237,
          9.4375,
          8.34,
          5.227722772277228,
          3.6192893401015227,
          9.2,
          13.361702127659575,
          10.825688073394495,
          15.525,
          7.288135593220339,
          13.273684210526316,
          10,
          14.314516129032258,
          30,
          6.444444444444445,
          28.7,
          8.290598290598291,
          7.986486486486487,
          4.509009009009009,
          2.4358974358974357,
          7.2631578947368425,
          1.1666666666666667,
          9.875,
          13.652173913043478,
          24.842105263157894,
          5,
          13.821428571428571,
          8.338461538461539,
          5.6824324324324325,
          10.160919540229886,
          20.142857142857142,
          93.82692307692308,
          10,
          17.238095238095237,
          30.270833333333332,
          18.548387096774192,
          17.257575757575758,
          13.365217391304348,
          11.798245614035087,
          13.444444444444445,
          15.352941176470589,
          9.8,
          28.761904761904763,
          31.84269662921348,
          10.08,
          6.04,
          13.654320987654321,
          6.189655172413793,
          11.574468085106384,
          3.35,
          7,
          7.290322580645161,
          37.44444444444444,
          53.32727272727273,
          14.671586715867159,
          6.641414141414141,
          14.495145631067961,
          30.91304347826087,
          11.057692307692308,
          11.273972602739725,
          10.714285714285714,
          5.147540983606557,
          11.558823529411764,
          11.113636363636363,
          10.984615384615385,
          9.793103448275861,
          14.423529411764706,
          6.116838487972508,
          8.063829787234043,
          13.785714285714286,
          10.125,
          7.944444444444445,
          7.884615384615385,
          3.489795918367347,
          5.27363184079602,
          6.526315789473684,
          5.483870967741935,
          5.051282051282051,
          4.318181818181818,
          70.38297872340425,
          10.23611111111111,
          9.696969696969697,
          12.8,
          13.4375,
          7.012738853503185,
          7.9689922480620154,
          20.393939393939394,
          17.932692307692307,
          8.836363636363636,
          12.95945945945946,
          21.795454545454547,
          24.903846153846153,
          71.06666666666666,
          160,
          15.628205128205128,
          15.47136563876652,
          8.238095238095237,
          11.81860465116279,
          10.55078125,
          36.820754716981135,
          10.843373493975903,
          19.017241379310345,
          13.029850746268657,
          8.625,
          13.607142857142858,
          39.71875,
          14.017123287671232,
          13.217647058823529,
          17.287769784172664,
          17.34285714285714,
          12.227272727272727,
          8.78688524590164,
          8.985611510791367,
          14.162790697674419,
          32.666666666666664,
          10.851851851851851,
          9.408163265306122,
          8.048076923076923,
          11.716417910447761,
          12.838028169014084,
          25.93984962406015,
          6.965116279069767,
          110,
          2,
          6.2727272727272725,
          3.868131868131868,
          4.8930232558139535,
          3.8656716417910446,
          10.404255319148936,
          7.570652173913044,
          1.96875,
          9.722222222222221,
          24.07017543859649,
          6.696629213483146,
          19.505681818181817,
          13.542372881355933,
          8.985915492957746,
          14.807339449541285,
          3.3125,
          7,
          7.6,
          57.34782608695652,
          23.098039215686274,
          8.213483146067416,
          23.152173913043477,
          15.120689655172415,
          4.944444444444445,
          17.065573770491802,
          31.375,
          4.625,
          6.75,
          20.76,
          13.134328358208956,
          9.12781954887218,
          5.625429553264605,
          9.729032258064516,
          11.054054054054054,
          29.67914438502674,
          14.454545454545455,
          52,
          16.0188679245283,
          10.846153846153847,
          22.84536082474227,
          8.801369863013699,
          11.6875,
          8.959854014598541,
          11.07843137254902,
          10.457627118644067,
          28.451923076923077,
          12.525641025641026,
          4.318840579710145,
          5.1568627450980395,
          14.94,
          10.25,
          9,
          6.802395209580839,
          19.204819277108435,
          16.08,
          10.396825396825397,
          4.87962962962963,
          4.875,
          5.511111111111111,
          23.06451612903226,
          12.571428571428571,
          12.461206896551724,
          6.774436090225564,
          10.648484848484848,
          4.511904761904762,
          9.993288590604028,
          7.142857142857143,
          12.619047619047619,
          16.089285714285715,
          13.154867256637168,
          6.608540925266904,
          11.42608695652174,
          12.467625899280575,
          10.76923076923077,
          4.571428571428571,
          6.72,
          36.33609958506224,
          6.745454545454545,
          14.964285714285714,
          11.579166666666667,
          5.5,
          9.106870229007633,
          20.472868217054263,
          112.61538461538461,
          38.4367816091954,
          10.128205128205128,
          106.66666666666667,
          14.76,
          9.57847533632287,
          9.060126582278482,
          8.94949494949495,
          23.459893048128343,
          19.642857142857142,
          12.178571428571429,
          19.375,
          12.710743801652892,
          25.121739130434783,
          14.355371900826446,
          9.39655172413793,
          13.602941176470589,
          8.583941605839415,
          51.5,
          13.457286432160805,
          13.0625,
          13.909090909090908,
          28.857142857142858,
          8.780303030303031,
          7.987654320987654,
          21.612903225806452,
          8.03265306122449,
          10.26923076923077,
          12.656716417910447,
          23.785714285714285,
          3.7435897435897436,
          9.621621621621621,
          8.003496503496503,
          28.8984375,
          54.15,
          9.459770114942529,
          12.262195121951219,
          5.261363636363637,
          13.380952380952381,
          11.184782608695652,
          12.255172413793103,
          14.386666666666667,
          10.799107142857142,
          9.812,
          6.4324324324324325,
          10.726190476190476,
          57.55769230769231,
          16.52173913043478,
          17.80851063829787,
          14.894736842105264,
          23.844660194174757,
          17.871794871794872,
          16.304761904761904,
          8.984848484848484,
          10.615384615384615,
          13.25,
          2.5526315789473686,
          11.857142857142858,
          28.14018691588785,
          25.301724137931036,
          19.53846153846154,
          6.447368421052632,
          18.181286549707604,
          9.833333333333334,
          10.243697478991596,
          2.6037735849056602,
          15.235294117647058,
          22.04123711340206,
          14.666666666666666,
          6.940789473684211,
          9.02836879432624,
          12.78125,
          34.38495575221239,
          29.096069868995635,
          23.39766081871345,
          88,
          15.108695652173912,
          10.142857142857142,
          11.692307692307692,
          12.126436781609195,
          13.088888888888889,
          8.25,
          9.70807453416149,
          11.972413793103449,
          13.93421052631579,
          15.419354838709678,
          18.076923076923077,
          20.38235294117647,
          14.463414634146341,
          17.564102564102566,
          11.44954128440367,
          7.213414634146342,
          4.35,
          22.08520179372197,
          10.352941176470589,
          126,
          11.8,
          13.028985507246377,
          6.831081081081081,
          10.862944162436548,
          8.951612903225806,
          29.71698113207547,
          10.26923076923077,
          72.84210526315789,
          5.817518248175182,
          11.75,
          8.650485436893204,
          16.89710610932476,
          16.333333333333332,
          22.647058823529413,
          12.017543859649123,
          11.734806629834255,
          16.857142857142858,
          39.53846153846154,
          22.6,
          10.753246753246753,
          21.566929133858267,
          14.169491525423728,
          9.560897435897436,
          8.358024691358025,
          16.427835051546392,
          7.374045801526718,
          7.405405405405405,
          9.166666666666666,
          13.5,
          4.866666666666666,
          24.945273631840795,
          14.144927536231885,
          32.80616740088106,
          23.083333333333332,
          26.220858895705522,
          11.108949416342412,
          13.09433962264151,
          14.850340136054422,
          118.83018867924528,
          47.31818181818182,
          5.096774193548387,
          11.428571428571429,
          10,
          13.029411764705882,
          22.106666666666666,
          5.497041420118343,
          12.645833333333334,
          18.45,
          8.15884476534296,
          6.234741784037559,
          5.875,
          12.872340425531915,
          10.526315789473685,
          7.287581699346405,
          11.269662921348315,
          16.805555555555557,
          7.382978723404255,
          15.368421052631579,
          11.364963503649635,
          22.63005780346821,
          10.442477876106194,
          6.555858310626703,
          5.094594594594595,
          16.48611111111111,
          23.142857142857142,
          7.021739130434782,
          15.31858407079646,
          16.09090909090909,
          5.644859813084112,
          42.86976744186047,
          12.675862068965516,
          10.857142857142858,
          6.369230769230769,
          4.357142857142857,
          10.975609756097562,
          29.906432748538013,
          10.652173913043478,
          11.991935483870968,
          21.49206349206349,
          19.785714285714285,
          12.191489361702128,
          6.941747572815534,
          18.61904761904762,
          12.644444444444444,
          12.009708737864077,
          17.616,
          13.68131868131868,
          12.53953488372093,
          4.866666666666666,
          9.847457627118644,
          48.08743169398907,
          92.62424242424242,
          12.4875,
          10.810126582278482,
          8.758620689655173,
          13.594827586206897,
          28.916129032258066,
          19.37142857142857,
          12.966386554621849,
          9.25,
          9.452830188679245,
          5.414634146341464,
          12.615384615384615,
          5.191489361702128,
          4,
          10.126582278481013,
          18.05263157894737,
          21.27777777777778,
          16.057971014492754,
          5.388888888888889,
          12.757281553398059,
          8.061538461538461,
          8.568627450980392,
          7.907407407407407,
          17.466666666666665,
          8.571428571428571,
          13.081967213114755,
          8.412162162162161,
          15.86784140969163,
          13.365853658536585,
          7.2894736842105265,
          12.34920634920635,
          5.32258064516129,
          8,
          11.627906976744185,
          13.793103448275861,
          18.949152542372882,
          12.329545454545455,
          17.06145251396648,
          8.758389261744966,
          10.180515759312321,
          19.388316151202748,
          19.360544217687075,
          8.416666666666666,
          2.1129032258064515,
          32.57142857142857,
          271,
          1,
          56.80597014925373,
          95.52173913043478,
          14.4375,
          20.903614457831324,
          16.73103448275862,
          5.950354609929078,
          10.871428571428572,
          8.149659863945578,
          10.264462809917354,
          16.252100840336134,
          9.946666666666667,
          1.6428571428571428,
          16.033333333333335,
          9.052631578947368,
          17.67058823529412,
          14.686746987951807,
          11.589928057553957,
          17.730337078651687,
          8.457627118644067,
          12.663793103448276,
          13.60759493670886,
          8.4375,
          1.5,
          16.806451612903224,
          22.166666666666668,
          8.048780487804878,
          10.55,
          5.083333333333333,
          5.038910505836576,
          3.6301369863013697,
          14.478991596638656,
          13.378260869565217,
          16.385714285714286,
          17.24503311258278,
          16.12565445026178,
          6.087837837837838,
          10.578680203045685,
          7.75,
          14.779220779220779,
          23.651162790697676,
          8.389285714285714,
          15.806201550387597,
          12.676328502415458,
          8.301775147928995,
          5.991803278688525,
          5.5046728971962615,
          4.612676056338028,
          17.884615384615383,
          26.08695652173913,
          26.71875,
          10.505376344086022,
          30.271356783919597,
          30.5,
          9.869674185463658,
          9.37885462555066,
          8.202020202020202,
          8,
          11.702702702702704,
          15.627118644067796,
          15.355555555555556,
          10.054054054054054,
          11.508620689655173,
          13.32768361581921,
          9.074418604651163,
          12.153846153846153,
          3.466666666666667,
          3.4210526315789473,
          8.473684210526315,
          24.0625,
          19.08695652173913,
          14.475,
          10.479591836734693,
          11.579710144927537,
          35.585470085470085,
          15.807017543859649,
          12.658536585365853,
          5.061538461538461,
          4.853960396039604,
          7.444067796610169,
          5.166666666666667,
          3.4754098360655736,
          7.224489795918367,
          6.55,
          7.678571428571429,
          13.266666666666667,
          28.5,
          8.795454545454545,
          16.363636363636363,
          2.883720930232558,
          9.81081081081081,
          9.326086956521738,
          5.875,
          13.272727272727273,
          15.934579439252337,
          26.091954022988507,
          37.87755102040816,
          15.08108108108108,
          12.247191011235955,
          5.114583333333333,
          14.974137931034482,
          19.10169491525424,
          5.880434782608695,
          16,
          52.904761904761905,
          14.287671232876713,
          20.72265625,
          10.77304964539007,
          31.974137931034484,
          18.90282131661442,
          46.12820512820513,
          9.324675324675324,
          39.956043956043956,
          21.816326530612244,
          6.183673469387755,
          14.421052631578947,
          22.375,
          20.365714285714287,
          48.208955223880594,
          13.7125,
          7.995884773662551,
          9.63953488372093,
          5.578947368421052,
          8.025641025641026,
          3.0980392156862746,
          10.285714285714286,
          12.548387096774194,
          6.054744525547445,
          6.92722371967655,
          8.583756345177665,
          11.398230088495575,
          7.7439024390243905,
          26.668478260869566,
          39.046783625730995,
          12.382513661202186,
          6.65,
          18.35632183908046,
          11.524137931034483,
          17.237704918032787,
          3.008695652173913,
          11.855072463768115,
          11.333333333333334,
          15.703125,
          14.16,
          12.713286713286713,
          13.93840579710145,
          15.186440677966102,
          14.23963133640553,
          14.632911392405063,
          5.473684210526316,
          14.363636363636363,
          25.408163265306122,
          11.316326530612244,
          26.840425531914892,
          8.475524475524475,
          13.545454545454545,
          14.03448275862069,
          14.55688622754491,
          5.122448979591836,
          13.181818181818182,
          11.741935483870968,
          19.978494623655912,
          8.698630136986301,
          11.427927927927929,
          9.652582159624414,
          9.62962962962963,
          10.691666666666666,
          3.4814814814814814,
          6.5,
          13.444444444444445,
          10.467811158798284,
          7.917241379310345,
          12.275862068965518,
          11.335384615384616,
          6.155555555555556,
          24.99047619047619,
          20.48936170212766,
          9.741935483870968,
          22.04850746268657,
          7.5657568238213395,
          11.527220630372494,
          6.199664429530201,
          4.605263157894737,
          10.625,
          14.866666666666667,
          13.121212121212121,
          13.779661016949152,
          13.247787610619469,
          10.587078651685394,
          14.085889570552148,
          10.716981132075471,
          5.190954773869347,
          1,
          14.44047619047619,
          15.442622950819672,
          26.74056603773585,
          9.15704387990762,
          18.76923076923077,
          12.919753086419753,
          45.065,
          4.76,
          6.457142857142857,
          8.875,
          16.693877551020407,
          29.25862068965517,
          14.693333333333333,
          7.00531914893617,
          6.267326732673268,
          10.417989417989418,
          13.042857142857143,
          11.741935483870968,
          10.444444444444445,
          11.801801801801801,
          21.66122448979592,
          8.741007194244604,
          17.681159420289855,
          10.952830188679245,
          8.198630136986301,
          51.402061855670105,
          10.5,
          5.012820512820513,
          7.7272727272727275,
          14,
          13.342412451361868,
          11.253164556962025,
          9.868131868131869,
          10.061538461538461,
          14.07488986784141,
          8.355029585798816,
          16.611940298507463,
          5.6,
          7.113636363636363,
          19.25,
          7.680672268907563,
          6.5073891625615765,
          13.5,
          4.191666666666666,
          6.302250803858521,
          3.6481481481481484,
          13.263157894736842,
          12.386934673366834,
          35.09969788519638,
          14.858757062146893,
          28.830434782608695,
          11.635714285714286,
          16.069767441860463,
          13.375,
          9.052631578947368,
          24.64814814814815,
          70.8019801980198,
          94.22972972972973,
          14.618357487922705,
          8.407738095238095,
          13.198473282442748,
          12.377358490566039,
          17.142857142857142,
          7.645161290322581,
          21.1875,
          14.22429906542056,
          25.31360946745562,
          13.031847133757962,
          18.41726618705036,
          5.073083778966132,
          9.645533141210375,
          5.3,
          11.533333333333333,
          11.807692307692308,
          14.324561403508772,
          26.98639455782313,
          16.176795580110497,
          10.540723981900452,
          12.978125,
          8.131840796019901,
          14.86829268292683,
          13.54913294797688,
          17.503846153846155,
          17.148936170212767,
          3.888888888888889,
          13.935483870967742,
          27.114285714285714,
          15.740157480314961,
          7.763888888888889,
          7.380357142857143,
          7.1975903614457835,
          11.604938271604938,
          10.420765027322405,
          13.923076923076923,
          12.701754385964913,
          10.661538461538461,
          9.885906040268456,
          10.977941176470589,
          8.46483704974271,
          15.23963133640553,
          3.067415730337079,
          70,
          17.23076923076923,
          10.8,
          8.98314606741573,
          13.761904761904763,
          7.835164835164835,
          17.625570776255707,
          11.09375,
          5.6160919540229886,
          6.913043478260869,
          34.5,
          28.8,
          21.217391304347824,
          13.409302325581395,
          13.336170212765957,
          14.895081967213114,
          14.49402390438247,
          19.227272727272727,
          15.284210526315789,
          3.789473684210526,
          3.388888888888889,
          23.785714285714285,
          20.61842105263158,
          12.597222222222221,
          12.415584415584416,
          10.461139896373057,
          11.381656804733728,
          13.380566801619434,
          7.284369114877589,
          17.91509433962264,
          20.938053097345133,
          8.875,
          19.825806451612902,
          12.044444444444444,
          12.388646288209607,
          9.485113835376533,
          11.873684210526315,
          9.861607142857142,
          11.209944751381215,
          13.388489208633093,
          13.741935483870968,
          48.666666666666664,
          100.74074074074075,
          17.321428571428573,
          13.740963855421686,
          12.629737609329446,
          66.54,
          11.718978102189782,
          9.048,
          9.638190954773869,
          10.428571428571429,
          8.371428571428572,
          8.884615384615385,
          11.89558232931727,
          4.61218836565097,
          3.5387096774193547,
          4.058461538461539,
          10.666666666666666,
          5.359801488833747,
          12.063953488372093,
          24.74122807017544,
          9.578947368421053,
          15,
          26.435233160621763,
          11.336283185840708,
          21.926315789473684,
          5.7272727272727275,
          26,
          21.41176470588235,
          14.539007092198581,
          11.128318584070797,
          8.192682926829269,
          21.363295880149813,
          3.8092105263157894,
          6.760869565217392,
          1.2448979591836735,
          10,
          10.896907216494846,
          15.72,
          141.9268292682927,
          12.835820895522389,
          29.056947608200456,
          5.112107623318385,
          9.389162561576354,
          11.407407407407407,
          7.535714285714286,
          14.81132075471698,
          12.695652173913043,
          11.48868778280543,
          20.575539568345324,
          41.17412935323383,
          7.903225806451613,
          12.149901380670611,
          12.537662337662338,
          13.626582278481013,
          8.39667458432304,
          12.68041237113402,
          4.434210526315789,
          3.242424242424242,
          20.363636363636363,
          11.51592356687898,
          10.450479233226837,
          24.05992509363296,
          24.334224598930483,
          10.174418604651162,
          11.823529411764707,
          9.70722433460076,
          4.40625,
          2.48,
          7.991869918699187,
          10.415254237288135,
          3.947845804988662,
          2.3773584905660377,
          12.578616352201259,
          6.7254901960784315,
          9.36986301369863,
          13.54368932038835,
          23.627329192546583,
          8.285714285714286,
          15.937046004842616,
          6.889848812095033,
          11.68918918918919,
          5.438775510204081,
          6.776470588235294,
          2.5809935205183585,
          9.744186046511627,
          12,
          17.27860696517413,
          27.573643410852714,
          10.267123287671232,
          9.384615384615385,
          16.827450980392157,
          7,
          4.076086956521739,
          12.736842105263158,
          16.557971014492754,
          15.489690721649485,
          9.764285714285714,
          9.149425287356323,
          9.227777777777778,
          11.771739130434783,
          11.077922077922079,
          9.20754716981132,
          13.263157894736842,
          11.153846153846153,
          18.186528497409327,
          13.009174311926605,
          8.012718600953894,
          5.837920489296636,
          11.107142857142858,
          9.566037735849056,
          3.169230769230769,
          10.6,
          11.5,
          17.295454545454547,
          10.418803418803419,
          9.56711409395973,
          10.281879194630873,
          9.017021276595745,
          10.927272727272728,
          18.015037593984964,
          12.463414634146341,
          35.758620689655174,
          78.9,
          3.6842105263157894,
          5.796875,
          7.916955017301038,
          3,
          9.928888888888888,
          4.282051282051282,
          77.83333333333333,
          20.52857142857143,
          40.14977973568282,
          12.976635514018692,
          9.736040609137056,
          7.009186351706036,
          8.78343949044586,
          9.65234375,
          5.217391304347826,
          6.9,
          25.545454545454547,
          21.95744680851064,
          15.732142857142858,
          16.018633540372672,
          9.409090909090908,
          21.641592920353983,
          8.374757281553398,
          11.295918367346939,
          11.306818181818182,
          4.5,
          3.1414141414141414,
          8.86046511627907,
          20,
          12.403636363636364,
          10.166023166023166,
          8.015765765765765,
          8.507042253521126,
          12.231884057971014,
          8.244094488188976,
          10.985915492957746,
          13.448275862068966,
          35.3,
          14.263473053892216,
          9.942477876106194,
          34.438741721854306,
          10.125766871165645,
          11.584905660377359,
          3.282051282051282,
          3.125,
          7.48,
          18.071428571428573,
          10.916666666666666,
          57.26829268292683,
          10.473684210526315,
          14.304635761589404,
          34.88421052631579,
          22.96551724137931,
          12.170305676855895,
          11.886075949367088,
          12.477477477477477,
          6.055555555555555,
          4.212765957446808,
          3.4696969696969697,
          4.58303886925795,
          4.466019417475728,
          2.7559808612440193,
          5.392561983471074,
          2.7172131147540983,
          14.758620689655173,
          76.15384615384616,
          25.02510460251046,
          13.122448979591837,
          10.987124463519313,
          6.032967032967033,
          7.0469208211143695,
          13.663551401869158,
          17.3,
          2.4943181818181817,
          14.695238095238095,
          10.804347826086957,
          15.184971098265896,
          10.047619047619047,
          9.066361556064074,
          12.225882352941177,
          9.953703703703704,
          19.171511627906977,
          7.6173913043478265,
          9.166666666666666,
          8.4,
          14.023255813953488,
          35.216981132075475,
          10.121951219512194,
          10.75,
          13.535398230088495,
          13.141304347826088,
          10.484276729559749,
          4.506134969325154,
          8.466666666666667,
          11.104166666666666,
          8.393939393939394,
          12.092827004219409,
          16.92156862745098,
          67.58638743455498,
          6.757174392935982,
          7.669856459330144,
          16.526881720430108,
          11.302238805970148,
          11.387978142076502,
          36.61538461538461,
          3.5357142857142856,
          5.3901098901098905,
          86.7,
          18.45,
          16.432835820895523,
          11.04,
          14.216216216216216,
          27.875,
          9.243386243386244,
          9.517482517482517,
          21.77777777777778,
          2.6555555555555554,
          4.506172839506172,
          5,
          12.655172413793103,
          5.789735099337748,
          4.730837789661319,
          7.967117988394584,
          8.592592592592593,
          9.190804597701149,
          3.948051948051948,
          13.157894736842104,
          19.42105263157895,
          21.26923076923077,
          5.532319391634981,
          11.506172839506172,
          7.571823204419889,
          5.294952681388013,
          14.81081081081081,
          9.07865168539326,
          5.363636363636363,
          12.575,
          13.669291338582678,
          24.233870967741936,
          11.111587982832617,
          7.225721784776903,
          10.03883495145631,
          6.763473053892215,
          6.372881355932203,
          5.611111111111111,
          10.285714285714286,
          6.447761194029851,
          21.47826086956522,
          33.98067632850242,
          11.295165394402035,
          10.569721115537849,
          16.91304347826087,
          3.6515151515151514,
          4.980392156862745,
          11.909090909090908,
          10.852941176470589,
          35.902857142857144,
          10.00900900900901,
          12.346534653465346,
          10.08411214953271,
          5.177884615384615,
          15.261682242990654,
          47.85116279069767,
          8.98913043478261,
          8.39240506329114,
          23.029411764705884,
          15.538461538461538,
          360,
          21.366666666666667,
          20.42283950617284,
          39.03249097472924,
          12.44186046511628,
          6.279569892473118,
          8.969811320754717,
          12.142553191489363,
          4.643564356435643,
          1.7179487179487178,
          6.716981132075472,
          216,
          8.072992700729927,
          5.598014888337469,
          6.356435643564357,
          5.398039215686275,
          6.6048484848484845,
          9.042735042735043,
          10.754777070063694,
          7.466666666666667,
          14.842105263157896,
          12.66,
          7.754237288135593,
          11.178807947019868,
          7.637724550898204,
          10.341772151898734,
          8.192513368983958,
          8.519417475728156,
          8.934343434343434,
          16.224137931034484,
          25.333333333333332,
          12.956521739130435,
          13.939130434782609,
          10.37448559670782,
          8.293233082706767,
          7.3494208494208495,
          8.673972602739726,
          7.507645259938838,
          18.13065326633166,
          6.842592592592593,
          13.159420289855072,
          14.973333333333333,
          16.652694610778443,
          19.480446927374302,
          37.751131221719454,
          13.579646017699115,
          22.277044854881268,
          7.506329113924051,
          12.54581673306773,
          10.535294117647059,
          7.582236842105263,
          15.952380952380953,
          16.818181818181817,
          28.654205607476637,
          12.823529411764707,
          6.079404466501241,
          9.178571428571429,
          7.94620253164557,
          17.051502145922747,
          13.528052805280527,
          8.433566433566433,
          17.50602409638554,
          5.751295336787565,
          2.2162162162162162,
          9.954545454545455,
          11.2,
          6.9527777777777775,
          6.646643109540636,
          8.273103448275862,
          10.945121951219512,
          12.157142857142857,
          11.983333333333333,
          13.253623188405797,
          23.598726114649683,
          19.866666666666667,
          11.427710843373495,
          5.815189873417721,
          7.414141414141414,
          5.1431095406360425,
          7.210727969348659,
          5.9313929313929314,
          27.971223021582734,
          21.79,
          17.324022346368714,
          16.85126582278481,
          13.252396166134185,
          8.384422110552764,
          7.828235294117647,
          4.958441558441558,
          25.6,
          5.348214285714286,
          55.35443037974684,
          13.541666666666666,
          33.06201550387597,
          7.23444976076555,
          8.261829652996845,
          9.326315789473684,
          8.3,
          15.706382978723404,
          4.128888888888889,
          13.852173913043478,
          16.586206896551722,
          17.46031746031746,
          21.47222222222222,
          8.573529411764707,
          6.607445008460237,
          11.392251815980629,
          22.666666666666668,
          8.952651515151516,
          9.25,
          8.523809523809524,
          11.816326530612244,
          13.859154929577464,
          20.463917525773194,
          8.783536585365853,
          11.286764705882353,
          9.883826879271071,
          7.48479427549195,
          10.205479452054794,
          9.666666666666666,
          5.7125,
          16.764705882352942,
          12.19626168224299,
          37,
          13.754716981132075,
          7.459016393442623,
          12.8125,
          6.329842931937173,
          9.735632183908047,
          10.741758241758241,
          12.03125,
          5.444444444444445,
          20.90625,
          12.979020979020978,
          6.650834403080873,
          4.51036866359447,
          7.526960784313726,
          5.904444444444445,
          4.9125874125874125,
          5.65625,
          14.448529411764707,
          11.777777777777779,
          11.884816753926701,
          4.940366972477064,
          9.680693069306932,
          8.216867469879517,
          19.91269841269841,
          7.218009478672986,
          9.76388888888889,
          13.544303797468354,
          28.532467532467532,
          30.525547445255473,
          15.83969465648855,
          9.997326203208557,
          9.258181818181818,
          7.7407407407407405,
          7.0318627450980395,
          16.103139013452914,
          7.081497797356828,
          11.51063829787234,
          10.80952380952381,
          22.678571428571427,
          54.36915887850467,
          11.055690072639225,
          7.810679611650485,
          5.74364406779661,
          8.509375,
          12.428030303030303,
          15.99390243902439,
          3.7549019607843137,
          30.142857142857142,
          21.291666666666668,
          27.62162162162162,
          5.527027027027027,
          10.46808510638298,
          6.423868312757202,
          5.1611721611721615,
          7.6256830601092895,
          9.072368421052632,
          11.920353982300885,
          10.974358974358974,
          4.006944444444445,
          19.078125,
          12.352380952380953,
          12.120689655172415,
          4.415730337078652,
          12.472222222222221,
          9.358024691358025,
          4.911290322580645,
          214.2295081967213,
          1.7272727272727273,
          6.1020408163265305,
          4.54,
          4.80338266384778,
          4.352083333333334,
          4.351239669421488,
          4.238578680203045,
          4.684745762711865,
          3.767123287671233,
          16.6,
          19.52,
          12.836990595611285,
          7.083333333333333,
          11.75820895522388,
          8.448336252189142,
          7.463806970509383,
          8.482003129890455,
          119.22727272727273,
          9.090909090909092,
          14,
          20.137931034482758,
          15.453658536585365,
          8.910204081632653,
          8.670146137787057,
          12.508710801393729,
          6.326704545454546,
          9.021739130434783,
          14.442748091603054,
          4.154255319148936,
          1.9104477611940298,
          18.787610619469028,
          12.275590551181102,
          16.05327868852459,
          4.824451410658307,
          11.78494623655914,
          12.048780487804878,
          9.272517321016167,
          21.189393939393938,
          16.322751322751323,
          6.2298850574712645,
          10.137931034482758,
          24.615384615384617,
          15.91747572815534,
          16.795652173913044,
          6.679127725856698,
          13.081168831168831,
          10.751091703056769,
          14.269662921348315,
          16.58267716535433,
          11.344086021505376,
          10.584269662921349,
          3.515021459227468,
          20,
          11.106060606060606,
          12.92,
          40.44444444444444,
          10.968824940047961,
          11.568134171907756,
          6.2534246575342465,
          13.292857142857143,
          23.520833333333332,
          12.79245283018868,
          9.25,
          4.372727272727273,
          6.286082474226804,
          5.211416490486258,
          5.717741935483871,
          7.345195729537367,
          9.461538461538462,
          11.645833333333334,
          10.891666666666667,
          14.35897435897436,
          8.309090909090909,
          7.214488636363637,
          23.929155313351497,
          17.52575488454707,
          13.378531073446327,
          7.458791208791209,
          5.199066874027994,
          11.284090909090908,
          25.394160583941606,
          12.644171779141104,
          9.972292191435768,
          9.571856287425149,
          11.010204081632653,
          6.153465346534653,
          19.708661417322833,
          19.418439716312058,
          5.473684210526316,
          12.960893854748603,
          19.63157894736842,
          32.41843971631206,
          14.4,
          27.058252427184467,
          11.602888086642599,
          5.452012383900929,
          40.53007518796993,
          12.871428571428572,
          8.46218487394958,
          22.4,
          20.73913043478261,
          9.074534161490684,
          9.168776371308017,
          8.428909952606634,
          4.865461847389558,
          9.93927125506073,
          10.809968847352025,
          19.73611111111111,
          4.505263157894737,
          56.415929203539825,
          3.745222929936306,
          1,
          26.223214285714285,
          1416.051724137931,
          15.875,
          9.763358778625955,
          12.295454545454545
         ],
         "yaxis": "y"
        }
       ],
       "layout": {
        "barmode": "relative",
        "legend": {
         "tracegroupgap": 0
        },
        "margin": {
         "t": 60
        },
        "template": {
         "data": {
          "bar": [
           {
            "error_x": {
             "color": "#2a3f5f"
            },
            "error_y": {
             "color": "#2a3f5f"
            },
            "marker": {
             "line": {
              "color": "#E5ECF6",
              "width": 0.5
             },
             "pattern": {
              "fillmode": "overlay",
              "size": 10,
              "solidity": 0.2
             }
            },
            "type": "bar"
           }
          ],
          "barpolar": [
           {
            "marker": {
             "line": {
              "color": "#E5ECF6",
              "width": 0.5
             },
             "pattern": {
              "fillmode": "overlay",
              "size": 10,
              "solidity": 0.2
             }
            },
            "type": "barpolar"
           }
          ],
          "carpet": [
           {
            "aaxis": {
             "endlinecolor": "#2a3f5f",
             "gridcolor": "white",
             "linecolor": "white",
             "minorgridcolor": "white",
             "startlinecolor": "#2a3f5f"
            },
            "baxis": {
             "endlinecolor": "#2a3f5f",
             "gridcolor": "white",
             "linecolor": "white",
             "minorgridcolor": "white",
             "startlinecolor": "#2a3f5f"
            },
            "type": "carpet"
           }
          ],
          "choropleth": [
           {
            "colorbar": {
             "outlinewidth": 0,
             "ticks": ""
            },
            "type": "choropleth"
           }
          ],
          "contour": [
           {
            "colorbar": {
             "outlinewidth": 0,
             "ticks": ""
            },
            "colorscale": [
             [
              0,
              "#0d0887"
             ],
             [
              0.1111111111111111,
              "#46039f"
             ],
             [
              0.2222222222222222,
              "#7201a8"
             ],
             [
              0.3333333333333333,
              "#9c179e"
             ],
             [
              0.4444444444444444,
              "#bd3786"
             ],
             [
              0.5555555555555556,
              "#d8576b"
             ],
             [
              0.6666666666666666,
              "#ed7953"
             ],
             [
              0.7777777777777778,
              "#fb9f3a"
             ],
             [
              0.8888888888888888,
              "#fdca26"
             ],
             [
              1,
              "#f0f921"
             ]
            ],
            "type": "contour"
           }
          ],
          "contourcarpet": [
           {
            "colorbar": {
             "outlinewidth": 0,
             "ticks": ""
            },
            "type": "contourcarpet"
           }
          ],
          "heatmap": [
           {
            "colorbar": {
             "outlinewidth": 0,
             "ticks": ""
            },
            "colorscale": [
             [
              0,
              "#0d0887"
             ],
             [
              0.1111111111111111,
              "#46039f"
             ],
             [
              0.2222222222222222,
              "#7201a8"
             ],
             [
              0.3333333333333333,
              "#9c179e"
             ],
             [
              0.4444444444444444,
              "#bd3786"
             ],
             [
              0.5555555555555556,
              "#d8576b"
             ],
             [
              0.6666666666666666,
              "#ed7953"
             ],
             [
              0.7777777777777778,
              "#fb9f3a"
             ],
             [
              0.8888888888888888,
              "#fdca26"
             ],
             [
              1,
              "#f0f921"
             ]
            ],
            "type": "heatmap"
           }
          ],
          "heatmapgl": [
           {
            "colorbar": {
             "outlinewidth": 0,
             "ticks": ""
            },
            "colorscale": [
             [
              0,
              "#0d0887"
             ],
             [
              0.1111111111111111,
              "#46039f"
             ],
             [
              0.2222222222222222,
              "#7201a8"
             ],
             [
              0.3333333333333333,
              "#9c179e"
             ],
             [
              0.4444444444444444,
              "#bd3786"
             ],
             [
              0.5555555555555556,
              "#d8576b"
             ],
             [
              0.6666666666666666,
              "#ed7953"
             ],
             [
              0.7777777777777778,
              "#fb9f3a"
             ],
             [
              0.8888888888888888,
              "#fdca26"
             ],
             [
              1,
              "#f0f921"
             ]
            ],
            "type": "heatmapgl"
           }
          ],
          "histogram": [
           {
            "marker": {
             "pattern": {
              "fillmode": "overlay",
              "size": 10,
              "solidity": 0.2
             }
            },
            "type": "histogram"
           }
          ],
          "histogram2d": [
           {
            "colorbar": {
             "outlinewidth": 0,
             "ticks": ""
            },
            "colorscale": [
             [
              0,
              "#0d0887"
             ],
             [
              0.1111111111111111,
              "#46039f"
             ],
             [
              0.2222222222222222,
              "#7201a8"
             ],
             [
              0.3333333333333333,
              "#9c179e"
             ],
             [
              0.4444444444444444,
              "#bd3786"
             ],
             [
              0.5555555555555556,
              "#d8576b"
             ],
             [
              0.6666666666666666,
              "#ed7953"
             ],
             [
              0.7777777777777778,
              "#fb9f3a"
             ],
             [
              0.8888888888888888,
              "#fdca26"
             ],
             [
              1,
              "#f0f921"
             ]
            ],
            "type": "histogram2d"
           }
          ],
          "histogram2dcontour": [
           {
            "colorbar": {
             "outlinewidth": 0,
             "ticks": ""
            },
            "colorscale": [
             [
              0,
              "#0d0887"
             ],
             [
              0.1111111111111111,
              "#46039f"
             ],
             [
              0.2222222222222222,
              "#7201a8"
             ],
             [
              0.3333333333333333,
              "#9c179e"
             ],
             [
              0.4444444444444444,
              "#bd3786"
             ],
             [
              0.5555555555555556,
              "#d8576b"
             ],
             [
              0.6666666666666666,
              "#ed7953"
             ],
             [
              0.7777777777777778,
              "#fb9f3a"
             ],
             [
              0.8888888888888888,
              "#fdca26"
             ],
             [
              1,
              "#f0f921"
             ]
            ],
            "type": "histogram2dcontour"
           }
          ],
          "mesh3d": [
           {
            "colorbar": {
             "outlinewidth": 0,
             "ticks": ""
            },
            "type": "mesh3d"
           }
          ],
          "parcoords": [
           {
            "line": {
             "colorbar": {
              "outlinewidth": 0,
              "ticks": ""
             }
            },
            "type": "parcoords"
           }
          ],
          "pie": [
           {
            "automargin": true,
            "type": "pie"
           }
          ],
          "scatter": [
           {
            "fillpattern": {
             "fillmode": "overlay",
             "size": 10,
             "solidity": 0.2
            },
            "type": "scatter"
           }
          ],
          "scatter3d": [
           {
            "line": {
             "colorbar": {
              "outlinewidth": 0,
              "ticks": ""
             }
            },
            "marker": {
             "colorbar": {
              "outlinewidth": 0,
              "ticks": ""
             }
            },
            "type": "scatter3d"
           }
          ],
          "scattercarpet": [
           {
            "marker": {
             "colorbar": {
              "outlinewidth": 0,
              "ticks": ""
             }
            },
            "type": "scattercarpet"
           }
          ],
          "scattergeo": [
           {
            "marker": {
             "colorbar": {
              "outlinewidth": 0,
              "ticks": ""
             }
            },
            "type": "scattergeo"
           }
          ],
          "scattergl": [
           {
            "marker": {
             "colorbar": {
              "outlinewidth": 0,
              "ticks": ""
             }
            },
            "type": "scattergl"
           }
          ],
          "scattermapbox": [
           {
            "marker": {
             "colorbar": {
              "outlinewidth": 0,
              "ticks": ""
             }
            },
            "type": "scattermapbox"
           }
          ],
          "scatterpolar": [
           {
            "marker": {
             "colorbar": {
              "outlinewidth": 0,
              "ticks": ""
             }
            },
            "type": "scatterpolar"
           }
          ],
          "scatterpolargl": [
           {
            "marker": {
             "colorbar": {
              "outlinewidth": 0,
              "ticks": ""
             }
            },
            "type": "scatterpolargl"
           }
          ],
          "scatterternary": [
           {
            "marker": {
             "colorbar": {
              "outlinewidth": 0,
              "ticks": ""
             }
            },
            "type": "scatterternary"
           }
          ],
          "surface": [
           {
            "colorbar": {
             "outlinewidth": 0,
             "ticks": ""
            },
            "colorscale": [
             [
              0,
              "#0d0887"
             ],
             [
              0.1111111111111111,
              "#46039f"
             ],
             [
              0.2222222222222222,
              "#7201a8"
             ],
             [
              0.3333333333333333,
              "#9c179e"
             ],
             [
              0.4444444444444444,
              "#bd3786"
             ],
             [
              0.5555555555555556,
              "#d8576b"
             ],
             [
              0.6666666666666666,
              "#ed7953"
             ],
             [
              0.7777777777777778,
              "#fb9f3a"
             ],
             [
              0.8888888888888888,
              "#fdca26"
             ],
             [
              1,
              "#f0f921"
             ]
            ],
            "type": "surface"
           }
          ],
          "table": [
           {
            "cells": {
             "fill": {
              "color": "#EBF0F8"
             },
             "line": {
              "color": "white"
             }
            },
            "header": {
             "fill": {
              "color": "#C8D4E3"
             },
             "line": {
              "color": "white"
             }
            },
            "type": "table"
           }
          ]
         },
         "layout": {
          "annotationdefaults": {
           "arrowcolor": "#2a3f5f",
           "arrowhead": 0,
           "arrowwidth": 1
          },
          "autotypenumbers": "strict",
          "coloraxis": {
           "colorbar": {
            "outlinewidth": 0,
            "ticks": ""
           }
          },
          "colorscale": {
           "diverging": [
            [
             0,
             "#8e0152"
            ],
            [
             0.1,
             "#c51b7d"
            ],
            [
             0.2,
             "#de77ae"
            ],
            [
             0.3,
             "#f1b6da"
            ],
            [
             0.4,
             "#fde0ef"
            ],
            [
             0.5,
             "#f7f7f7"
            ],
            [
             0.6,
             "#e6f5d0"
            ],
            [
             0.7,
             "#b8e186"
            ],
            [
             0.8,
             "#7fbc41"
            ],
            [
             0.9,
             "#4d9221"
            ],
            [
             1,
             "#276419"
            ]
           ],
           "sequential": [
            [
             0,
             "#0d0887"
            ],
            [
             0.1111111111111111,
             "#46039f"
            ],
            [
             0.2222222222222222,
             "#7201a8"
            ],
            [
             0.3333333333333333,
             "#9c179e"
            ],
            [
             0.4444444444444444,
             "#bd3786"
            ],
            [
             0.5555555555555556,
             "#d8576b"
            ],
            [
             0.6666666666666666,
             "#ed7953"
            ],
            [
             0.7777777777777778,
             "#fb9f3a"
            ],
            [
             0.8888888888888888,
             "#fdca26"
            ],
            [
             1,
             "#f0f921"
            ]
           ],
           "sequentialminus": [
            [
             0,
             "#0d0887"
            ],
            [
             0.1111111111111111,
             "#46039f"
            ],
            [
             0.2222222222222222,
             "#7201a8"
            ],
            [
             0.3333333333333333,
             "#9c179e"
            ],
            [
             0.4444444444444444,
             "#bd3786"
            ],
            [
             0.5555555555555556,
             "#d8576b"
            ],
            [
             0.6666666666666666,
             "#ed7953"
            ],
            [
             0.7777777777777778,
             "#fb9f3a"
            ],
            [
             0.8888888888888888,
             "#fdca26"
            ],
            [
             1,
             "#f0f921"
            ]
           ]
          },
          "colorway": [
           "#636efa",
           "#EF553B",
           "#00cc96",
           "#ab63fa",
           "#FFA15A",
           "#19d3f3",
           "#FF6692",
           "#B6E880",
           "#FF97FF",
           "#FECB52"
          ],
          "font": {
           "color": "#2a3f5f"
          },
          "geo": {
           "bgcolor": "white",
           "lakecolor": "white",
           "landcolor": "#E5ECF6",
           "showlakes": true,
           "showland": true,
           "subunitcolor": "white"
          },
          "hoverlabel": {
           "align": "left"
          },
          "hovermode": "closest",
          "mapbox": {
           "style": "light"
          },
          "paper_bgcolor": "white",
          "plot_bgcolor": "#E5ECF6",
          "polar": {
           "angularaxis": {
            "gridcolor": "white",
            "linecolor": "white",
            "ticks": ""
           },
           "bgcolor": "#E5ECF6",
           "radialaxis": {
            "gridcolor": "white",
            "linecolor": "white",
            "ticks": ""
           }
          },
          "scene": {
           "xaxis": {
            "backgroundcolor": "#E5ECF6",
            "gridcolor": "white",
            "gridwidth": 2,
            "linecolor": "white",
            "showbackground": true,
            "ticks": "",
            "zerolinecolor": "white"
           },
           "yaxis": {
            "backgroundcolor": "#E5ECF6",
            "gridcolor": "white",
            "gridwidth": 2,
            "linecolor": "white",
            "showbackground": true,
            "ticks": "",
            "zerolinecolor": "white"
           },
           "zaxis": {
            "backgroundcolor": "#E5ECF6",
            "gridcolor": "white",
            "gridwidth": 2,
            "linecolor": "white",
            "showbackground": true,
            "ticks": "",
            "zerolinecolor": "white"
           }
          },
          "shapedefaults": {
           "line": {
            "color": "#2a3f5f"
           }
          },
          "ternary": {
           "aaxis": {
            "gridcolor": "white",
            "linecolor": "white",
            "ticks": ""
           },
           "baxis": {
            "gridcolor": "white",
            "linecolor": "white",
            "ticks": ""
           },
           "bgcolor": "#E5ECF6",
           "caxis": {
            "gridcolor": "white",
            "linecolor": "white",
            "ticks": ""
           }
          },
          "title": {
           "x": 0.05
          },
          "xaxis": {
           "automargin": true,
           "gridcolor": "white",
           "linecolor": "white",
           "ticks": "",
           "title": {
            "standoff": 15
           },
           "zerolinecolor": "white",
           "zerolinewidth": 2
          },
          "yaxis": {
           "automargin": true,
           "gridcolor": "white",
           "linecolor": "white",
           "ticks": "",
           "title": {
            "standoff": 15
           },
           "zerolinecolor": "white",
           "zerolinewidth": 2
          }
         }
        },
        "xaxis": {
         "anchor": "y",
         "domain": [
          0,
          1
         ],
         "title": {
          "text": "Hour"
         }
        },
        "yaxis": {
         "anchor": "x",
         "domain": [
          0,
          1
         ],
         "title": {
          "text": "Quantity"
         }
        }
       }
      }
     },
     "metadata": {},
     "output_type": "display_data"
    }
   ],
   "source": [
    "date_hour_df = data[['Date', 'Hour', 'Quantity']]\n",
    "date_hour_df = date_hour_df.groupby(['Date', 'Hour']).mean().reset_index()\n",
    "display(date_hour_df)\n",
    "fig = px.bar(date_hour_df, x = 'Hour', y = 'Quantity')\n",
    "fig.show()"
   ]
  },
  {
   "cell_type": "markdown",
   "metadata": {
    "_uuid": "fe334ef9f8165328fc14400be829499b0b2c46f1"
   },
   "source": [
    "## 5. RFM-сегментация клиентов: часть 1"
   ]
  },
  {
   "cell_type": "markdown",
   "metadata": {},
   "source": [
    "Сформируем признаки, на основе которых будем производить сегментацию клиентов.\n",
    "\n",
    "Воспользуемся методом RFM.\n",
    "\n",
    "Нужно рассчитать RFM-характеристики для каждого из клиентов в датасете, и на их основе с помощью методов кластеризации построить подобные сегменты клиентов."
   ]
  },
  {
   "cell_type": "markdown",
   "metadata": {
    "tags": []
   },
   "source": [
    "### Задание 5.1\n",
    "\n",
    "Cгруппируем данные по идентификаторам клиента и рассчитаем следующие  агрегированные характеристики:\n",
    "\n",
    "* Recency для i-го клиента рассчитывается как разница между датой и временем последнего заказа и точкой отсчёта, переведённая в дни:\n",
    "    $$t_0-max(t_{i1}, t_{i2},..., t_{iM})$$\n",
    "\n",
    "    где $t_{ij}$ — дата и время совершения i-ым клиентом своей j-ой покупки.\n",
    "\n",
    "    В качестве точки отсчёта $t_0$ берём дату на один день «старше», чем все наши данные. Это будет 10 декабря 2011 года (в формате datetime — '2011-12-10 00:00:00').\n",
    "\n",
    "* Frequency рассчитывается как общее количество уникальных заказов, которые совершил i-ый клиент.\n",
    "* Monetary Value рассчитывается как общая сумма денег, которую i-ый клиент потратил на наши товары (с учетом возвратов).\n",
    "\n",
    "Когда вы рассчитаете все характеристики, не забудьте дать столбцам результирующей таблицы соответствующие названия."
   ]
  },
  {
   "cell_type": "code",
   "execution_count": null,
   "metadata": {},
   "outputs": [],
   "source": []
  },
  {
   "cell_type": "markdown",
   "metadata": {},
   "source": [
    "1) Сколько клиентов совершили покупку более 200 дней назад?\n",
    "\n",
    "2) Сколько заказов в среднем делает клиент (за представленный годовой период)? Ответ округлите до целого числа.\n",
    "\n",
    "3) Чему равна общая сумма денег, которую потратил клиент с идентификатором 12360? Ответ приведите в фунтах стерлингов и округлите до целого числа.\n",
    "\n"
   ]
  },
  {
   "cell_type": "code",
   "execution_count": null,
   "metadata": {},
   "outputs": [],
   "source": []
  },
  {
   "cell_type": "markdown",
   "metadata": {},
   "source": [
    "Теперь давайте взглянем на коробчатые диаграммы для каждого из признаков:"
   ]
  },
  {
   "cell_type": "code",
   "execution_count": null,
   "metadata": {},
   "outputs": [],
   "source": [
    "boxes = [px.box(rfm_table, x=column) for column in rfm_table.columns]\n",
    "fig = make_subplots(\n",
    "    rows=1, cols=3, \n",
    "    subplot_titles=(\n",
    "        \"Recency\",\"Frequency\", \"Monetary\"\n",
    "    )\n",
    ")\n",
    "\n",
    "for i, box in enumerate(boxes):\n",
    "    fig.add_trace(boxes[i]['data'][0], row=1, col=i+1)\n",
    "\n",
    "fig.update_layout(showlegend=True)\n",
    "fig.write_html('plotly/boxplot_1.html')\n",
    "fig.show()"
   ]
  },
  {
   "cell_type": "markdown",
   "metadata": {},
   "source": [
    "Что интересного здесь можно увидеть? Есть клиенты с аномально большим количеством сделанных заказов (более 100 штук), а также клиенты, общая стоимость заказов которых превышает 190 тысяч фунтов стерлингов.\n",
    "\n",
    "Чем это плохо? Выбросы могут отрицательно сказаться на результатах работы методов кластеризации, неустойчивых к ним, например алгоритма KMeans, поэтому хотелось бы от них избавиться. Однако терять много ценных данных о клиентах тоже не хочется, поэтому ограничимся верхней границей соответствующей квантили уровня 0.95. Таким образом, мы удалим данные тех клиентов, для которых значение параметра Frequency или параметра Monetary выше, чем у 95 % клиентов.\n"
   ]
  },
  {
   "cell_type": "markdown",
   "metadata": {},
   "source": [
    "### Задание 5.2\n",
    "Удалите из RFM-таблицы записи о клиентах, для которых выполняется хотя бы одно из условий:\n",
    "\n",
    "$$frequency >frequency_{0.95}$$\n",
    "$$monetary >monetary_{0.95}$$ \n",
    "\n",
    "где $frequency_{0.95}$ и $monetary_{0.95}$ - квантили уровня 0.95 для соответствующих признаков. \n",
    "\n",
    "Данные о скольких клиентах у вас остались в RFM-таблице?\n"
   ]
  },
  {
   "cell_type": "code",
   "execution_count": null,
   "metadata": {},
   "outputs": [],
   "source": []
  },
  {
   "cell_type": "markdown",
   "metadata": {},
   "source": [
    "После удаления выбросов у вас должны получиться следующие коробчатые диаграммы:\n"
   ]
  },
  {
   "cell_type": "code",
   "execution_count": null,
   "metadata": {},
   "outputs": [],
   "source": [
    "boxes = [px.box(rfm_table_cleaned, x=column) for column in rfm_table_cleaned.columns]\n",
    "fig = make_subplots(\n",
    "    rows=1, cols=3, \n",
    "    subplot_titles=(\n",
    "        \"Recency\", \"Frequency\", \"Monetary\"\n",
    "    )\n",
    ")\n",
    "\n",
    "for i, box in enumerate(boxes):\n",
    "    fig.add_trace(boxes[i]['data'][0], row=1, col=i+1)\n",
    "\n",
    "fig.update_layout(showlegend=True)\n",
    "fig.write_html('plotly/boxplot_2.html')\n",
    "fig.show()"
   ]
  },
  {
   "cell_type": "markdown",
   "metadata": {},
   "source": [
    "Мы наконец добрались до этапа кластеризации. Для начала нам необходимо оценить, как распределены наблюдения в пространстве признаков. Благо, у нас всего три параметра, по которым мы хотим кластеризовать клиентов, поэтому данные можно визуализировать в виде трёхмерной диаграммы рассеяния. \n",
    "\n",
    "Построим визуализацию нашего трёхмерного пространства признаков:\n"
   ]
  },
  {
   "cell_type": "code",
   "execution_count": null,
   "metadata": {},
   "outputs": [],
   "source": [
    "# создадим трёхмерный объект\n",
    "fig = plt.figure(figsize=(6,6))\n",
    "ax = Axes3D(fig)\n",
    "# добавим дополнительную ось в объект картинки\n",
    "fig.add_axes(ax)\n",
    "ax.azim = 20\n",
    "ax.elev = 30\n",
    "\n",
    "# визуализируем данные, передав значения x, y, z, а также информацию о группировке данных по цветам\n",
    "ax.scatter(\n",
    "    rfm_table_cleaned['Recency'].to_list(), \n",
    "    rfm_table_cleaned['Frequency'].to_list(),\n",
    "    rfm_table_cleaned['Monetary'].to_list()\n",
    ")\n",
    "# добавим оси\n",
    "ax.set_xlabel('Recency')\n",
    "ax.set_ylabel('Frequency')\n",
    "ax.set_zlabel('Monetary');\n"
   ]
  },
  {
   "cell_type": "markdown",
   "metadata": {},
   "source": [
    "Что здесь можно увидеть? На самом деле, ничего конкретного. Да, видно, что есть клиенты с большими значениями параметров Monetary и Frequency — вероятно, это лучшие клиенты, которые покупают чаще всего и приносят больше всего денег. Однако по общей массе точек сложно сказать, сколько кластеров у нас есть — скорее даже кажется, что пространство не поддаётся кластеризации.\n",
    "\n",
    "Давайте призовём на помощь методы снижения размерности.\n"
   ]
  },
  {
   "cell_type": "markdown",
   "metadata": {},
   "source": [
    "### Задание 5.3\n",
    "Начнём с метода главных компонент (PCA). Нам известно, что для его стабильной работы данные необходимо стандартизировать/нормализовать. \n",
    "\n",
    "Давайте для удобства обернём эти шаги по предобработке данных в pipeline.\n",
    "\n",
    "Создайте pipeline, в котором будут следующие шаги:\n",
    "* стандартизация с помощью StandardScaler с параметрами по умолчанию; \n",
    "* метод главных компонент с двумя компонентами.\n",
    "\n",
    "Обучите ваш pipeline на RFM-таблице, очищенной от выбросов, и примените к ней трансформацию.\n",
    "\n",
    "Какую долю дисперсии исходных данных объясняет первая главная компонента? Ответ округлите до двух знаков после точки-разделителя.\n",
    "\n"
   ]
  },
  {
   "cell_type": "code",
   "execution_count": null,
   "metadata": {},
   "outputs": [],
   "source": []
  },
  {
   "cell_type": "markdown",
   "metadata": {},
   "source": [
    "Визуализировав пространство главных компонент после декомпозиции мы получим следующую картину:"
   ]
  },
  {
   "cell_type": "code",
   "execution_count": null,
   "metadata": {},
   "outputs": [],
   "source": [
    "sns.scatterplot(data=rfm_table_processed, x='axis-1', y='axis-2');"
   ]
  },
  {
   "cell_type": "markdown",
   "metadata": {},
   "source": [
    "Попробуем разделить это пространство главных компонент на сегменты. "
   ]
  },
  {
   "cell_type": "markdown",
   "metadata": {},
   "source": [
    "### Задание 5.4\n",
    "Попробуем воспользоваться методом k-means. \n",
    "\n",
    "Подберите оптимальное количество кластеров для метода k-means с помощью коэффициента силуэта, перебирая возможные значения от 2 до 10 включительно. \n",
    "\n",
    "В качестве значения параметра random_state возьмите число 42. Остальные параметры оставьте по умолчанию.\n",
    "\n",
    "1) Судя по полученным результатам, какое количество кластеров лучше всего взять?\n",
    "\n",
    "2) Чему равно максимальное значение коэффициента силуэта? Ответ округлите до двух знаков после точки-разделителя.\n"
   ]
  },
  {
   "cell_type": "code",
   "execution_count": null,
   "metadata": {},
   "outputs": [],
   "source": []
  },
  {
   "cell_type": "markdown",
   "metadata": {},
   "source": [
    "### Задание 5.5\n",
    "Теперь возьмём EM-алгоритм.\n",
    "\n",
    "Подберите оптимальное количество кластеров для EM-алгоритма (GaussianMixture) с помощью коэффициента силуэта, перебирая возможные значения от 2 до 10 включительно.\n",
    "В качестве значения параметра random_state возьмите число 42. Остальные параметры оставьте по умолчанию.\n",
    "\n",
    "\n",
    "1) Судя по полученным результатам, какое количество кластеров лучше всего взять?\n",
    "\n",
    "2) Чему равно максимальное значение коэффициента силуэта? Ответ округлите до двух знаков после точки-разделителя.\n"
   ]
  },
  {
   "cell_type": "code",
   "execution_count": null,
   "metadata": {},
   "outputs": [],
   "source": []
  },
  {
   "cell_type": "markdown",
   "metadata": {},
   "source": [
    "### Задание 5.6\n",
    "Давайте посмотрим на распределение кластеров.\n",
    "\n",
    "1) Сначала нужно определить лучшую модель. Для какой модели с оптимальным количеством кластеров коэффициент силуэта наибольший?\n",
    "* K-Means\n",
    "* GaussianMixture\n",
    "\n",
    "\n",
    "2) Обучите лучшую модель с подобранным ранее количеством кластеров на декомпозированных данных. \n",
    "Сколько клиентов попало в самый большой кластер?\n",
    "\n"
   ]
  },
  {
   "cell_type": "code",
   "execution_count": null,
   "metadata": {},
   "outputs": [],
   "source": []
  },
  {
   "cell_type": "markdown",
   "metadata": {},
   "source": [
    "Визуализируем результаты кластеризации:"
   ]
  },
  {
   "cell_type": "code",
   "execution_count": null,
   "metadata": {},
   "outputs": [],
   "source": [
    "fig = plt.figure(figsize=(12, 5))\n",
    "sns.scatterplot(\n",
    "    data=rfm_table_processed, \n",
    "    x='axis-1', \n",
    "    y='axis-2', \n",
    "    hue=labels,\n",
    ");"
   ]
  },
  {
   "cell_type": "markdown",
   "metadata": {},
   "source": [
    "Итак, у нас есть три сегмента клиентов. Давайте попробуем составить профиль для этих сегментов."
   ]
  },
  {
   "cell_type": "markdown",
   "metadata": {},
   "source": [
    "### Задание 5.7\n",
    "\n",
    "Для составления профиля кластеров нам необходимо вернуться от декомпозированных данных к RFM-таблице, очищенной от выбросов.  Сгруппируйте RFM-таблицу по полученным кластерам и рассчитайте среднее по каждому из признаков.\n",
    "\n",
    "Чему равно максимальное среднее значение признака Frequency в полученной таблице? Ответ округлите до целого числа."
   ]
  },
  {
   "cell_type": "code",
   "execution_count": null,
   "metadata": {},
   "outputs": [],
   "source": []
  },
  {
   "cell_type": "markdown",
   "metadata": {
    "tags": []
   },
   "source": [
    "### Полярная диаграмма\n",
    "Сейчас мы познакомимся с одним из способов визуализации профиля кластеров — Radar Chart (полярная, или лепестковая, диаграмма). Это графическое представление значений нескольких эквивалентных категорий в форме «паутины».\n",
    "Radar Chart очень часто используется в контексте определения профиля кластеров. На концах «паутины» откладываются оси, которые соответствуют признакам, описывающим объекты. На каждой из осей для каждого кластера откладываются средние значения соответствующих характеристик. Соединив точки по осям, мы получаем многоугольник. \n",
    "Пример полярной диаграммы для задачи кластеризации учеников по интересам:\n",
    "\n",
    "<img src=https://www.datanovia.com/en/wp-content/uploads/2020/12/radar-chart-in-r-customized-fmstb-radar-chart-1.png width=500>\n",
    "\n",
    "На данной диаграмме мы видим визуализацию признаков для одного из кластеров. Видно, что ученики, принадлежащие к данному кластеру, в большей степени увлекаются музыкой (Music), а в меньшей степени — программированием (Programm).\n",
    "\n",
    "В модуле graph_objects библиотеки plotly есть встроенная функция Scatterpolar, которая позволяет построить полярную диаграмму. На основе этой функции мы реализовали собственную функцию plot_cluster_profile(), которая позволяет визуализировать профиль каждого из кластеров в виде полярной диаграммы. У этой функции два параметра: grouped_data — сгруппированные по кластерам характеристики объектов (клиентов), n_clusters — количество кластеров. \n",
    "\n",
    "Главное условие использования полярной диаграммы — все признаки должны быть приведены к единому масштабу с помощью нормализации, где 1 будет означать максимум, а 0 — минимум. Шаг с нормализацией мы также добавили в реализацию функции plot_cluster_profile()."
   ]
  },
  {
   "cell_type": "code",
   "execution_count": null,
   "metadata": {},
   "outputs": [],
   "source": [
    "def plot_cluster_profile(grouped_data, n_clusters):\n",
    "    # Нормализуем сгруппированные данные, приводя их к масштабу 0-1.\n",
    "    scaler = preprocessing.MinMaxScaler()\n",
    "    grouped_data = pd.DataFrame(scaler.fit_transform(grouped_data), columns=grouped_data.columns)\n",
    "    # Создаем список признаков\n",
    "    features = grouped_data.columns\n",
    "    # Создаем пустую фигуру\n",
    "    fig = go.Figure()\n",
    "    # В цикле визуализируем полярную диаграмму для каждого кластера\n",
    "    for i in range(n_clusters):\n",
    "        # Создаем полярную диаграмму и добавляем ее на общий график\n",
    "        fig.add_trace(go.Scatterpolar(\n",
    "            r=grouped_data.iloc[i].values, # радиусы\n",
    "            theta=features, # название засечек\n",
    "            fill='toself', # заливка многоугольника цветом\n",
    "            name=f'Cluster {i}', # название - номер кластера\n",
    "        ))\n",
    "    # Обновляем параметры фигуры\n",
    "    fig.update_layout(\n",
    "        showlegend=True, # отображение легенды\n",
    "        autosize=False, # устаналиваем свои размеры графика\n",
    "        width=800, # ширина (в пикселях)\n",
    "        height=800, # высота (в пикселях)\n",
    "    )\n",
    "    # Отображаем фигуру\n",
    "    fig.show()\n",
    "    "
   ]
  },
  {
   "cell_type": "markdown",
   "metadata": {},
   "source": [
    "Теперь у нас есть удобный инструмент для анализа профиля кластеров. Давайте воспользуемся им.\n"
   ]
  },
  {
   "cell_type": "markdown",
   "metadata": {},
   "source": [
    "### Задание 5.8\n",
    "\n",
    "Визуализируйте профили кластеров в виде полярной диаграммы на основе средних RFM-характеристик, вычисленных для каждого кластера. \n",
    "\n",
    "Проанализируйте кластеры и на основе анализа сопоставьте номер кластера и его описание.\n",
    "\n",
    "Описание кластера:\n",
    "* Кластер соответствует «лояльным» клиентам, которые приносят наибольший доход, совершают покупки чаще всего, а давность их последней покупки наименьшая.\n",
    "* Кластер соответствует «промежуточным» клиентам, которые являются активными, но покупают не так часто и много, как лояльные клиенты. В то же время эти клиенты не являются «потерянными».\n",
    "* Кластер соответствует «потерянным» клиентам, которые купили меньше всего товара, и их последняя покупка была совершена очень давно.\n"
   ]
  },
  {
   "cell_type": "code",
   "execution_count": null,
   "metadata": {},
   "outputs": [],
   "source": []
  },
  {
   "cell_type": "markdown",
   "metadata": {},
   "source": [
    "### 4. RFM-сегментация клиентов: часть 2"
   ]
  },
  {
   "cell_type": "markdown",
   "metadata": {},
   "source": [
    "Итак, с помощью RFM-анализа нам удалось выделить три сегмента клиентов. Однако в маркетинге принято оперировать большим их количеством: обычно маркетологи стараются создать стратегию хотя бы для пяти-семи клиентских сегментов в градации от «лояльных» до «потерянных» с промежуточными категориями.\n",
    "\n",
    "Поэтому, получив обратную связь от маркетологов, мы вновь принимаемся за работу, пытаясь модифицировать полученное решение.\n",
    "\n",
    "Ранее мы производили кластеризацию в пространстве главных компонент. Вспомним, что PCA является линейным методом отображения исходного пространства признаков в его сжатую версию.\n",
    "\n",
    "А что если использовать нелинейную трансформацию? Например, алгоритм снижения размерности t-SNE. Давайте попробуем и посмотрим, что получится."
   ]
  },
  {
   "cell_type": "markdown",
   "metadata": {},
   "source": [
    "### Задание 6.1\n",
    "Воспользуемся алгоритмом t-SNE и трансформируем RFM-таблицу, очищенную от выбросов, в двухмерное представление. Также заранее позаботимся о масштабировании признаков.\n",
    "\n",
    "Давайте для удобства обернём шаги по предобработке данных в pipeline.\n",
    "\n",
    "Создайте pipeline, который будет содержать следующие шаги:\n",
    "* стандартизация с помощью StandardScaler с параметрами по умолчанию; \n",
    "* алгоритм t-SNE с двумя компонентами, параметрами perplexity=50 и random_state=100.\n",
    "\n",
    "Обучите ваш pipeline на RFM-таблице (очищенной от выбросов), полученной ранее, и примените к ней трансформацию.\n",
    "\n",
    "Чему равно значение дивергенции Кульбака — Лейблера для обученного алгоритма t-SNE? Ответ округлите до двух знаков после точки-разделителя.\n",
    "\n",
    "**Примечание:**\n",
    "Напомним, что дивергенция Кульбака-Лейблера - это функция потерь, которая минимизируется при обучения алгоритма t-SNE. Она показывает меру расстояния между двумя распределениями. \n",
    "\n",
    "Оптимальное значение данной характеристики, найденное в процессе обучения алгоритма t-SNE, хранится в атрибуте kl_divergence_ объекта класса TSNE из библиотеки sklearn. Конечно же, предварительно модель необходимо обучить, чтобы получить это значение.\n",
    "\n"
   ]
  },
  {
   "cell_type": "code",
   "execution_count": null,
   "metadata": {},
   "outputs": [],
   "source": []
  },
  {
   "cell_type": "markdown",
   "metadata": {},
   "source": [
    "Визуализировав пространство после декомпозиции с помощью t-SNE, мы получим следующую картину:\n"
   ]
  },
  {
   "cell_type": "code",
   "execution_count": null,
   "metadata": {},
   "outputs": [],
   "source": [
    "fig = plt.figure(figsize=(12, 5))\n",
    "sns.scatterplot(data=rfm_table_processed, x='axis-1', y='axis-2');"
   ]
  },
  {
   "cell_type": "markdown",
   "metadata": {},
   "source": [
    "Как и ожидалось от t-SNE, алгоритм сгруппировал наиболее похожие объекты в подобие кластеров, причём эти кластеры легко определить.\n",
    "\n",
    "Теперь давайте воспользуемся алгоритмами кластеризации, чтобы сформировать новые сегменты клиентов.\n"
   ]
  },
  {
   "cell_type": "markdown",
   "metadata": {},
   "source": [
    "### Задание 6.2\n",
    "Попробуем воспользоваться методом k-means. \n",
    "Подберите оптимальное количество кластеров для метода k-means с помощью коэффициента силуэта, перебирая возможные значения от 3 до 8 включительно. \n",
    "В качестве значения параметра random_state возьмите число 42. Остальные параметры оставьте по умолчанию.\n",
    "\n",
    "1) Судя по полученным результатам, какое количество кластеров лучше всего взять?\n",
    "\n",
    "2) Чему равно максимальное значение коэффициента силуэта? Ответ округлите до двух знаков после точки-разделителя.\n",
    "\n"
   ]
  },
  {
   "cell_type": "code",
   "execution_count": null,
   "metadata": {},
   "outputs": [],
   "source": []
  },
  {
   "cell_type": "markdown",
   "metadata": {},
   "source": [
    "### Задание 6.3\n",
    "Попробуем воспользоваться EM-алгоритом. \n",
    "\n",
    "Подберите оптимальное количество кластеров для EM-алгоритма (GaussianMixture)  с помощью коэффициента силуэта, перебирая возможные значения от 3 до 8 включительно. \n",
    "\n",
    "В качестве значения параметра random_state возьмите число 42. Остальные параметры оставьте по умолчанию.\n",
    "\n",
    "\n",
    "1) Судя по полученным результатам, какое количество кластеров лучше всего взять?\n",
    "\n",
    "2) Чему равно максимальное значение коэффициента силуэта? Ответ округлите до двух знаков после точки-разделителя."
   ]
  },
  {
   "cell_type": "code",
   "execution_count": null,
   "metadata": {},
   "outputs": [],
   "source": []
  },
  {
   "cell_type": "markdown",
   "metadata": {},
   "source": [
    "### Задание 6.4\n",
    "Наконец, попробуем воспользоваться алгоритмом алгомеративной кластеризации (AgglomerativeClustering).\n",
    "\n",
    "Подберите оптимальное количество кластеров для алгоритма агломеративной кластеризации с помощью коэффициента силуэта, перебирая возможные значения от 2 до 8 включительно. \n",
    "\n",
    "Все параметры, за исключением числа кластеров, оставьте по умолчанию.\n",
    "\n",
    "\n",
    "1) Судя по полученным результатам, какое количество кластеров лучше всего взять?\n",
    "\n",
    "2) Чему равно максимальное значение коэффициента силуэта? Ответ округлите до двух знаков после точки-разделителя.\n",
    "\n"
   ]
  },
  {
   "cell_type": "code",
   "execution_count": null,
   "metadata": {},
   "outputs": [],
   "source": []
  },
  {
   "cell_type": "markdown",
   "metadata": {
    "tags": []
   },
   "source": [
    "### Задание 6.5\n",
    "Давайте посмотрим на распределение кластеров.\n",
    "\n",
    "1) Сначала нужно определить лучшую модель. Для какой модели с оптимальным количеством кластеров коэффициент силуэта наибольший?\n",
    "* K-Means\n",
    "* GaussianMixture\n",
    "* AgglomerativeClustering\n",
    "\n",
    "\n",
    "2) Обучите лучшую модель с подобранным ранее количеством кластеров на декомпозированных данных. \n",
    "Сколько клиентов попало в самый большой кластер?\n",
    "\n"
   ]
  },
  {
   "cell_type": "code",
   "execution_count": null,
   "metadata": {},
   "outputs": [],
   "source": []
  },
  {
   "cell_type": "markdown",
   "metadata": {},
   "source": [
    "Визуализируем результаты кластеризации:"
   ]
  },
  {
   "cell_type": "code",
   "execution_count": null,
   "metadata": {},
   "outputs": [],
   "source": [
    "fig = plt.figure(figsize=(12, 5))\n",
    "sns.scatterplot(data=rfm_table_processed, x='axis-1', y='axis-2', hue=model.labels_.astype('str'));"
   ]
  },
  {
   "cell_type": "markdown",
   "metadata": {},
   "source": [
    "\n",
    "Итак, у нас есть 7 сегментов клиентов. Давайте попробуем составить профиль для этих сегментов. \n"
   ]
  },
  {
   "cell_type": "markdown",
   "metadata": {},
   "source": [
    "### Задание 6.6\n",
    "\n",
    "Для составления профиля кластеров нам необходимо вернуться от декомпозированных данных к RFM-таблице (очищенной от выбросов).\n",
    "\n",
    "Сгруппируйте RFM-таблицу по полученным кластерам и рассчитайте среднее по каждому из признаков. Для наглядности округлите все значения в столбцах до целого числа.\n",
    "\n",
    "Чему равно максимальное среднее значение признака Recency в полученной таблице? Ответ округлите до целого числа."
   ]
  },
  {
   "cell_type": "code",
   "execution_count": null,
   "metadata": {},
   "outputs": [],
   "source": []
  },
  {
   "cell_type": "markdown",
   "metadata": {},
   "source": [
    "### Задание 6.7\n",
    "Визуализируйте профили кластеров в виде полярной диаграммы на основе средних RFM-характеристик, вычисленных для каждого кластера.\n",
    "\n",
    "Проанализируйте кластеры и на основе анализа сопоставьте номер кластера и его описание.\n",
    "\n",
    "* Кластер соответствует «лояльным» клиентам, которые приносят наибольший доход, совершают покупки чаще всего, а давность их последней покупки наименьшая.\n",
    "* Кластер соответствует «перспективным» клиентам, которые являются активными покупателями, но покупают не так часто и не так много, как лояльные клиенты.\n",
    "* Кластер соответствует «подвисшим» клиентам, которые относительно недавно сделали несколько заказов на небольшие суммы. Потенциально эти клиенты могут быть переведены в кластер «перспективных».\n",
    "* Кластер соответствует клиентам «в зоне риска», которые несколько раз покупали товары на небольшие суммы, однако их последняя покупка была совершена более пяти месяцев назад.\n",
    "* Кластер соответствует клиентам-«новичкам», которые относительно недавно сделали один заказ на небольшую сумму. \n",
    "* Кластер соответствует «спящим» или «почти потерянным» клиентам, которые сделали один заказ на маленькую сумму более семи месяцев назад и больше не возвращались.\n",
    "* Кластер соответствует «потерянным» клиентам, которые купили меньше всего товара, и их последняя покупка была совершена около года назад.\n",
    "\n"
   ]
  },
  {
   "cell_type": "code",
   "execution_count": null,
   "metadata": {},
   "outputs": [],
   "source": []
  },
  {
   "cell_type": "markdown",
   "metadata": {},
   "source": [
    "## 7. RFM-кластеризация клиентов: часть 3"
   ]
  },
  {
   "cell_type": "markdown",
   "metadata": {},
   "source": [
    "Мы построили модель кластеризации для части клиентов.Но как сделать предсказание сегмента для клиентов, которые не попали в обучающую выборку?\n",
    "\n",
    "Вы, вероятно, скажете: «Воспользоваться методом predict()!»\n",
    "\n",
    "Верно, однако всё не так просто.\n",
    "\n",
    "Вспомним, что мы обучали наши алгоритмы кластеризации на сжатом с помощью t-SNE пространстве признаков. То есть, чтобы сделать предсказание для новых объектов, не попавших в выборку, нам необходимо будет совершить трансформацию признаков этих объектов в новое сжатое пространство. \n",
    "\n",
    "Однако проблема t-SNE заключается в том, что алгоритм непараметрический. Это значит, что он, в отличие от таких алгоритмов, как PCA и SVD, не создаёт явной функции отображения. Проще говоря, алгоритм трансформирует пространство признаков для обучающей выборки, но не запоминает, каким образом это делает. Это значит, что, передав в алгоритм новые объекты для сжатия пространства, мы получим абсолютно новое представление пространства, не имеющее отношения к тому, что мы построили для обучающей выборки. То есть произойдёт искажение, что может привести к неверным результатам кластеризации.\n",
    "\n",
    "Именно поэтому у класса TSNE из библиотеки sklearn нет такого метода, как transform(), у него есть только метод fit_transform() — заново обучить алгоритм t-SNE и произвести трансформацию.\n",
    "\n",
    "Как же тогда производить кластеризацию для новых объектов, если мы не можем сжимать размерность для новых данных?\n",
    "\n",
    "Давайте сведём задачу кластеризации к задаче классификации. Действительно, у нас теперь есть истинные метки кластеров, а есть клиенты, которые описываются RFM-характеристиками. Давайте обучим модель, которая на основе RFM-характеристик будет предсказывать клиентский сегмент. "
   ]
  },
  {
   "cell_type": "markdown",
   "metadata": {},
   "source": [
    "### Задание 7.1\n",
    "\n",
    "Разделите исходные данные на тренировочную и тестовую выборки в соотношении 80/20. В качестве параметра random_state возьмите число 42.\n",
    "\n",
    "Сколько клиентов попали в тестовую выборку?"
   ]
  },
  {
   "cell_type": "code",
   "execution_count": null,
   "metadata": {},
   "outputs": [],
   "source": []
  },
  {
   "cell_type": "markdown",
   "metadata": {},
   "source": [
    "Дальше нам осталось только построить несколько моделей и выбрать из них лучшую. \n",
    "Мы знаем, что алгоритм t-SNE является нелинейным методом понижения размерности. Можно смело предположить, что линейные модели, такие как логистическая регрессия, в данной задаче нам мало чем помогут (можете убедиться в этом самостоятельно, обучив модель логистической регрессии на тренировочной выборке и оценив качество на тестовой).\n",
    "\n",
    "Поэтому давайте сразу возьмём тяжелую артиллерию — ансамблевые алгоритмы. \n"
   ]
  },
  {
   "cell_type": "markdown",
   "metadata": {},
   "source": [
    "### Задание 7.2\n",
    "Начнём со случайного леса. С помощью GridSearchCV организуйте перебор параметров случайного леса (RandomForestClassifier) на следующей сетке параметров:\n",
    "\n",
    "```\n",
    "param_grid = {\n",
    "    'max_depth': range(5, 15),\n",
    "    'criterion': ['gini', 'entropy'],\n",
    "    'n_estimators': [100, 200, 500]\n",
    "}\n",
    "```\n",
    "В качестве параметра random_state для модели случайного леса используйте число 42.\n",
    "В качестве метрики используйте accuracy. Количество фолдов для кросс-валидации — 5.\n",
    "\n",
    "1) Обучите GridSearchCV на тренировочной выборке. Чему равна оптимальная максимальная глубина деревьев в случайном лесу?\n",
    "\n",
    "2) С помощью лучшей модели сделайте предсказание для тестовой выборки и рассчитайте метрику accuracy. Ответ округлите до трёх знаков после точки-разделителя.\n",
    "\n"
   ]
  },
  {
   "cell_type": "code",
   "execution_count": null,
   "metadata": {},
   "outputs": [],
   "source": []
  },
  {
   "cell_type": "markdown",
   "metadata": {},
   "source": [
    "Итак, значение метрики accuracy очень высокое, но не идеальное. Давайте попробуем его улучшить, воспользовавшись бустингом."
   ]
  },
  {
   "cell_type": "markdown",
   "metadata": {},
   "source": [
    "### Задание 7.3\n",
    "С помощью GridSearchCV организуйте перебор параметров градиентного бустинга (GradientBoostingClassifier) на следующей сетке параметров:\n",
    "```\n",
    "param_grid = {\n",
    "    'max_depth': range(3, 7),\n",
    "    'learning_rate': [0.001, 0.01, 0.1],\n",
    "    'n_estimators': [100, 200, 500]\n",
    "}\n",
    "```\n",
    "\n",
    "В качестве параметра random_state для модели градиентного бустинга используйте число 42.\n",
    "В качестве метрики используйте accuracy. Количество фолдов для кросс-валидации — 5. \n",
    "\n",
    "1) Обучите GridSearchCV на тренировочной выборке. Чему равна оптимальная максимальная глубина деревьев в градиентном бустинге?\n",
    "Ответ: 6\n",
    "2) С помощью лучшей модели сделайте предсказание для тестовой выборки и рассчитайте метрику accuracy. Ответ округлите до трёх знаков после точки-разделителя.\n",
    "\n"
   ]
  },
  {
   "cell_type": "code",
   "execution_count": null,
   "metadata": {},
   "outputs": [],
   "source": []
  },
  {
   "cell_type": "markdown",
   "metadata": {},
   "source": [
    "Отлично, мы справились с проблемой непараметричности t-SNE и смогли перейти от решения задачи кластеризации к задаче классификации. Теперь у нас есть модель, которая на основе RFM-характерик клиента автоматически определяет его сегмент."
   ]
  },
  {
   "cell_type": "code",
   "execution_count": null,
   "metadata": {},
   "outputs": [],
   "source": []
  }
 ],
 "metadata": {
  "kernelspec": {
   "display_name": "Python 3 (ipykernel)",
   "language": "python",
   "name": "python3"
  },
  "language_info": {
   "codemirror_mode": {
    "name": "ipython",
    "version": 3
   },
   "file_extension": ".py",
   "mimetype": "text/x-python",
   "name": "python",
   "nbconvert_exporter": "python",
   "pygments_lexer": "ipython3",
   "version": "3.12.0"
  }
 },
 "nbformat": 4,
 "nbformat_minor": 4
}
