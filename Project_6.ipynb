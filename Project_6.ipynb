{
 "cells": [
  {
   "cell_type": "markdown",
   "metadata": {},
   "source": [
    "## 1. Постановка задачи"
   ]
  },
  {
   "cell_type": "markdown",
   "metadata": {},
   "source": [
    "\n",
    "**Бизнес-задача:** произвести сегментацию существующих клиентов, проинтерпретировать эти сегменты и определить стратегию взаимодействия с ними.\n",
    "\n",
    "**Техническая задача для вас как для специалиста в Data Science:** построить модель кластеризации клиентов на основе их покупательской способности, частоты заказов и срока давности последней покупки, определить профиль каждого из кластеров.\n",
    "\n",
    "**Основные цели проекта:**\n",
    "1. Произвести предобработку набора данных.\n",
    "2. Провести разведывательный анализ данных и выявить основные закономерности.\n",
    "3. Сформировать категории товаров и клиентов. \n",
    "4. Построить несколько моделей машинного обучения, решающих задачу кластеризации клиентов, определить количество кластеров и проинтерпретировать их.\n",
    "5. Спроектировать процесс предсказания категории интересов клиента и протестировать вашу модель на новых клиентах.\n",
    "\n"
   ]
  },
  {
   "cell_type": "markdown",
   "metadata": {
    "tags": []
   },
   "source": [
    "## 2. Знакомство с данными. "
   ]
  },
  {
   "cell_type": "code",
   "execution_count": 271,
   "metadata": {},
   "outputs": [],
   "source": [
    "import pandas as pd \n",
    "import numpy as np \n",
    "from datetime import datetime\n",
    "import matplotlib.pyplot as plt\n",
    "import seaborn as sns\n",
    "from mpl_toolkits.mplot3d import Axes3D\n",
    "\n",
    "import plotly.graph_objs as go\n",
    "import plotly.express as px\n",
    "from plotly.subplots import make_subplots\n",
    "\n",
    "from sklearn import mixture\n",
    "from sklearn import manifold\n",
    "from sklearn.pipeline import Pipeline\n",
    "from sklearn.preprocessing import StandardScaler\n",
    "from sklearn.cluster import AgglomerativeClustering\n",
    "from sklearn.cluster import KMeans\n",
    "from sklearn.mixture import GaussianMixture\n",
    "from sklearn.metrics import silhouette_score\n",
    "from sklearn.ensemble import RandomForestClassifier, GradientBoostingClassifier\n",
    "from sklearn.model_selection import GridSearchCV\n",
    "from sklearn.metrics import accuracy_score\n",
    "from sklearn.decomposition import PCA\n",
    "from sklearn.manifold import TSNE\n",
    "from sklearn import preprocessing\n",
    "from sklearn import cluster\n",
    "from sklearn import metrics\n",
    "from sklearn import model_selection\n",
    "from sklearn import decomposition\n",
    "from sklearn import ensemble\n",
    "import warnings \n",
    "\n",
    "from sklearn.model_selection import train_test_split\n",
    "from IPython.display import display, HTML\n",
    "\n",
    "warnings.filterwarnings(\"ignore\")\n",
    "\n",
    "plt.rcParams[\"patch.force_edgecolor\"] = True"
   ]
  },
  {
   "cell_type": "code",
   "execution_count": null,
   "metadata": {},
   "outputs": [],
   "source": [
    "data = pd.read_csv(\n",
    "    \"customer_segmentation_project.csv\", \n",
    "    encoding=\"ISO-8859-1\", \n",
    "    dtype={'CustomerID': str,'InvoiceID': str}\n",
    ")\n",
    "data = data.copy()\n",
    "print('Data shape: {}'.format(data.shape))\n",
    "data.head(5)"
   ]
  },
  {
   "cell_type": "markdown",
   "metadata": {},
   "source": [
    "Проведём анализ структуры таблицы.\n"
   ]
  },
  {
   "cell_type": "markdown",
   "metadata": {},
   "source": [
    "### Задание 2.1\n",
    "Сколько столбцов в данных кодируются числовыми типами (int/float)?"
   ]
  },
  {
   "cell_type": "code",
   "execution_count": null,
   "metadata": {},
   "outputs": [],
   "source": [
    "df_numerics_only = data.select_dtypes(include=np.number)\n",
    "\n",
    "# список имен числовых столбцов\n",
    "colnames_numerics_only = data.select_dtypes(include=np.number).columns.tolist()\n",
    "\n",
    "#  количество числовых столбцов\n",
    "print(len(colnames_numerics_only))"
   ]
  },
  {
   "cell_type": "markdown",
   "metadata": {
    "_uuid": "e8ffbb4aa2df86ecb4e84cec0b56acd7c47fe51a",
    "tags": []
   },
   "source": [
    "### Задание 2.2\n",
    "Выберите столбцы, в которых есть хотя бы один пропуск"
   ]
  },
  {
   "cell_type": "code",
   "execution_count": null,
   "metadata": {},
   "outputs": [],
   "source": [
    "data.isnull().sum()"
   ]
  },
  {
   "cell_type": "markdown",
   "metadata": {},
   "source": [
    "### Задание 2.3\n",
    "Укажите, за какой промежуток времени представлены данные:\n",
    "\n"
   ]
  },
  {
   "cell_type": "code",
   "execution_count": null,
   "metadata": {},
   "outputs": [],
   "source": [
    "data['InvoiceDate'] = pd.to_datetime(data['InvoiceDate'])\n",
    "print(f'{data['InvoiceDate'].dt.date.min()} - {data['InvoiceDate'].dt.date.max()}')"
   ]
  },
  {
   "cell_type": "markdown",
   "metadata": {},
   "source": [
    "### Задание 2.4\n",
    "\n",
    "1) Каково максимальное количество товаров в заказе?\n",
    "\n",
    "2) Каково минимальное количество товаров в заказе? \n",
    "\n",
    "3) Сколько, согласно данным, стоит самый дешёвый товар (за исключением товаров с отрицательной стоимостью)?"
   ]
  },
  {
   "cell_type": "code",
   "execution_count": null,
   "metadata": {},
   "outputs": [],
   "source": [
    "display(data.describe())\n",
    "data['UnitPrice'].sort_values()"
   ]
  },
  {
   "cell_type": "markdown",
   "metadata": {},
   "source": [
    "### Задание 2.5\n",
    "1) Сколько уникальных клиентов покупали товары за период выгрузки датасета?\n",
    "\n",
    "2) Сколько уникальных стран содержится в столбце Country (исключая специальный код 'Unspecified', обозначающий неопределенную страну)?\n",
    "\n",
    "3) Идентификатор самого популярного товара (StockCode):\n"
   ]
  },
  {
   "cell_type": "code",
   "execution_count": null,
   "metadata": {},
   "outputs": [],
   "source": [
    "print(data['CustomerID'].nunique(), 'уникальных клиентов')\n",
    "print(data[data['Country'] != 'Unspecified']['Country'].nunique(), 'уникальных стран')\n",
    "print(data['StockCode'].value_counts().index[0], 'идентификатор самого популярного товара')"
   ]
  },
  {
   "cell_type": "markdown",
   "metadata": {},
   "source": [
    "## 3. Предобработка и очистка данных"
   ]
  },
  {
   "cell_type": "markdown",
   "metadata": {
    "tags": []
   },
   "source": [
    "### Задание 3.1\n",
    "\n",
    "1) Сколько всего в таблице пропущенных значений?\n",
    "\n",
    "2) Пропуски в столбце с идентификатором клиента и описанием товара свидетельствуют о некорректных/незавершённых транзакциях.  \n",
    "Удалим строки, содержащие пропуски в этих столбцах.\n",
    "\n"
   ]
  },
  {
   "cell_type": "code",
   "execution_count": null,
   "metadata": {},
   "outputs": [],
   "source": [
    "print(data.isnull().sum().sum(), 'всего пропусков')\n",
    "data = data.dropna(subset=['CustomerID', 'StockCode'], axis =0)\n",
    "data.shape"
   ]
  },
  {
   "cell_type": "markdown",
   "metadata": {},
   "source": [
    "### Задание 3.2\n",
    "Следом за пропусками проверим наличие дубликатов.\n",
    "\n",
    "1) Сколько в таблице полностью дублирующихся записей?\n",
    "\n",
    "2) Удалите дубликаты из таблицы. Сколько строк осталось?\n",
    "\n"
   ]
  },
  {
   "cell_type": "code",
   "execution_count": null,
   "metadata": {},
   "outputs": [],
   "source": [
    "print(data.duplicated().sum())\n",
    "data = data.drop_duplicates()\n",
    "data.shape"
   ]
  },
  {
   "cell_type": "markdown",
   "metadata": {},
   "source": [
    "### Задание 3.3\n",
    "Проверим, что все записи из таблицы с отрицательным количеством товара действительно являются возвратными транзакциями. Если транзакция не является возвратом, но содержит отрицательное количество товара, это будет поводом считать её выбросом. \n",
    "\n",
    "Сколько транзакций из таблицы negative_quantity не содержат в номере заказа признак возврата?"
   ]
  },
  {
   "cell_type": "code",
   "execution_count": null,
   "metadata": {},
   "outputs": [],
   "source": [
    "returns = data[(data['Quantity'] < 0) & ~(data['InvoiceNo'].str.startswith('C'))]\n",
    "returns.shape"
   ]
  },
  {
   "cell_type": "markdown",
   "metadata": {},
   "source": [
    "Определим, сколько уникальных товаров указано в транзакции для каждой уникальной пары «клиент-заказ»:\n"
   ]
  },
  {
   "cell_type": "code",
   "execution_count": null,
   "metadata": {},
   "outputs": [],
   "source": [
    "temp = data.groupby(by=['CustomerID', 'InvoiceNo'], as_index=False)['InvoiceDate'].count()\n",
    "nb_products_per_basket = temp.rename(columns = {'InvoiceDate':'Number of products'})\n",
    "nb_products_per_basket.head()"
   ]
  },
  {
   "cell_type": "markdown",
   "metadata": {},
   "source": [
    "### Задание 3.4\n",
    "Добавьте во вспомогательную таблицу nb_products_per_basket признак отмены заказа (order_canceled): он равен 1, если транзакция является возвратом, и 0 — в противном случае.\n",
    "\n",
    "Сколько процентов заказов в таблице являются возвратами? Ответ приведите в виде целого числа.\n"
   ]
  },
  {
   "cell_type": "code",
   "execution_count": null,
   "metadata": {},
   "outputs": [],
   "source": [
    "nb_products_per_basket['order_canceled'] = nb_products_per_basket['InvoiceNo'].apply(lambda x: 1 if (x.startswith('C')) else 0)\n",
    "nb_products_per_basket['order_canceled'].value_counts(normalize=True) * 100"
   ]
  },
  {
   "cell_type": "markdown",
   "metadata": {},
   "source": [
    "Давайте поближе взглянем на отмененные заказы:\n"
   ]
  },
  {
   "cell_type": "code",
   "execution_count": null,
   "metadata": {},
   "outputs": [],
   "source": [
    "data[data['CustomerID'] == '12346']"
   ]
  },
  {
   "cell_type": "markdown",
   "metadata": {},
   "source": [
    "Можно заметить пару заказ-отмена"
   ]
  },
  {
   "cell_type": "markdown",
   "metadata": {},
   "source": [
    "### Задание 3.5\n",
    "Проверим, что для каждой отменённой транзакции в базе данных существует её аналог с тем же кодом товара, идентификатором клиента и противоположным значением количества товара."
   ]
  },
  {
   "cell_type": "code",
   "execution_count": null,
   "metadata": {},
   "outputs": [],
   "source": [
    "negative_quantity = data[(data['Quantity']<0)]\n",
    "returns = negative_quantity.copy()\n",
    "returns.reset_index(inplace=True)\n",
    "# Меняем количество на положительное \n",
    "returns['Quantity'] = -returns['Quantity'] \n",
    "# Соединяем оригинальный сет и возвраты\n",
    "matched = pd.merge(returns, data,\n",
    "                    on=['StockCode', 'CustomerID', 'Quantity'], how='inner')\n",
    "matched.drop_duplicates(subset='index', inplace=True)\n",
    "print(f'Количество несовпадений: {negative_quantity.shape[0] - matched.shape[0]}')\n"
   ]
  },
  {
   "cell_type": "markdown",
   "metadata": {},
   "source": [
    "### Задание 3.6\n",
    "Выдвигаем новую гипотезу: для каждой отменённой транзакции в базе данных существует её аналог с тем же кодом товара, идентификатором клиента и противоположным значением количества товара, если на товар не распространяются скидки.\n",
    "\n"
   ]
  },
  {
   "cell_type": "code",
   "execution_count": null,
   "metadata": {},
   "outputs": [],
   "source": [
    "negative_quantity_d = negative_quantity[(negative_quantity['StockCode'] != 'D')]\n",
    "returns_d = negative_quantity_d.copy()\n",
    "returns_d.reset_index(inplace=True)\n",
    "# Меняем количество на положительное \n",
    "returns_d['Quantity'] = -returns_d['Quantity'] \n",
    "# Соединяем оригинальный сет и возвраты\n",
    "matched = pd.merge(returns_d, data,\n",
    "                    on=['StockCode', 'CustomerID', 'Quantity'], how='inner')\n",
    "matched.drop_duplicates(subset='index', inplace=True)\n",
    "print(f'Количество несовпадений: {negative_quantity_d.shape[0] - matched.shape[0]}')"
   ]
  },
  {
   "cell_type": "code",
   "execution_count": null,
   "metadata": {},
   "outputs": [],
   "source": [
    "data[(data['CustomerID'] == '15311') & (data['StockCode'] == '35004C')]"
   ]
  },
  {
   "cell_type": "markdown",
   "metadata": {},
   "source": [
    "* Проблема в том, что заказ на покупку данного товара от клиента поступил раньше декабря 2010 года, а этих данных в нашей таблице нет. \n",
    "\n",
    "* Также клиент может отменить не весь заказ, а только его часть.\n",
    "\n",
    "Создадим в данных о транзакциях признак QuantityCanceled, который будет указывать на количество возвращённого впоследствии товара для каждой транзакции.  \n"
   ]
  },
  {
   "cell_type": "code",
   "execution_count": null,
   "metadata": {},
   "outputs": [],
   "source": [
    "# Функция get_quantity_canceled() принимает на вход таблицу с транзакциями и возвращает объект Series — столбец, \n",
    "# в котором указано количество возвращённого впоследствии товара для каждой транзакции.\n",
    "def get_quantity_canceled(data):\n",
    "    # Инициализируем Series той же длины, что и столбцы таблицы, нулями\n",
    "    quantity_canceled = pd.Series(np.zeros(data.shape[0]), index=data.index)    \n",
    "    negative_quantity = data[(data['Quantity'] < 0)].copy()\n",
    "    for col in negative_quantity.itertuples():\n",
    "        # Создаем DataFrame из всех контрагентов\n",
    "        df_test = data[(data['CustomerID'] == col.CustomerID) &\n",
    "                        (data['StockCode']  == col.StockCode) & \n",
    "                        (data['InvoiceDate'] < col.InvoiceDate) & \n",
    "                        ((quantity_canceled.loc[col.Index] - col.Quantity) <= data['Quantity'])].copy()\n",
    "        # Транзация-возврат не имеет контрагента - ничего не делаем\n",
    "        if (df_test.shape[0] == 0): \n",
    "            continue\n",
    "        # Транзакция-возврат имеет одного и более контрагентов\n",
    "        # Добавляем количество отмененного в столбец QuantityCanceled \n",
    "        else:\n",
    "            df_test.sort_index(axis=0 ,ascending=False, inplace = True)\n",
    "            index_order = df_test.index[0]\n",
    "            quantity_canceled.loc[index_order] = quantity_canceled.loc[index_order] - col.Quantity       \n",
    "    return quantity_canceled\n",
    "\n",
    "quantity_canceled = get_quantity_canceled(data)"
   ]
  },
  {
   "cell_type": "markdown",
   "metadata": {},
   "source": [
    "### Задание 3.7\n",
    "Подсчитайте суммарное количество отмененных товаров в столбце QuantityCanceled. \n"
   ]
  },
  {
   "cell_type": "code",
   "execution_count": null,
   "metadata": {},
   "outputs": [],
   "source": [
    "data['QuantityCanceled'] = quantity_canceled\n",
    "data['QuantityCanceled'].sum()"
   ]
  },
  {
   "cell_type": "markdown",
   "metadata": {},
   "source": [
    "## Задание 3.8\n",
    "Теперь, когда мы разобрались с транзакциями-возвратами, они больше нам не понадобятся. \n",
    "Удалите из таблицы транзакции, в поле которых указано отрицательное количество товара.  \n",
    "Сколько записей осталось?"
   ]
  },
  {
   "cell_type": "code",
   "execution_count": null,
   "metadata": {},
   "outputs": [],
   "source": [
    "data = data[data['Quantity'] > 0]\n",
    "data.shape"
   ]
  },
  {
   "cell_type": "markdown",
   "metadata": {},
   "source": [
    "### Задание 3.9\n",
    "Найдем коды товаров, которые начинаются с латинских букв. \n",
    "\n",
    "1) Сколько уникальных специальных видов транзакций вам удалось найти?\n",
    "\n",
    "Специальные операции не характеризуют клиентов, поэтому такие записи не нужны. Удалиv все специальные транзакции из таблицы. \n",
    "\n",
    "2) Сколько записей осталось?\n",
    "\n"
   ]
  },
  {
   "cell_type": "code",
   "execution_count": null,
   "metadata": {},
   "outputs": [],
   "source": [
    "product_codes = data[data['StockCode'].str.contains('^[a-zA-Z]\\d*', regex=True)]\n",
    "print(product_codes['StockCode'].value_counts())\n",
    "data['StockCode'].value_counts()"
   ]
  },
  {
   "cell_type": "code",
   "execution_count": null,
   "metadata": {},
   "outputs": [],
   "source": [
    "data = data[data['StockCode'].str.match('^\\d')]\n",
    "data.shape"
   ]
  },
  {
   "cell_type": "markdown",
   "metadata": {},
   "source": [
    "### Задание 3.10\n",
    "На некоторые товары установлена цена в 0 фунтов стерлингов. \n",
    "\n",
    "1) В скольких транзакциях цена за единицу товара равна 0?\n",
    "\n",
    "2) Таких транзакций оказалось менее 1 %, поэтому от них можно просто избавиться.  \n",
    "Сколько записей осталось?\n",
    "\n"
   ]
  },
  {
   "cell_type": "code",
   "execution_count": null,
   "metadata": {},
   "outputs": [],
   "source": [
    "print(data[data['UnitPrice'] == 0].shape)\n",
    "data = data[data['UnitPrice'] != 0]\n",
    "data.shape"
   ]
  },
  {
   "cell_type": "code",
   "execution_count": null,
   "metadata": {},
   "outputs": [],
   "source": [
    "data.to_csv('data_eda.csv')"
   ]
  },
  {
   "cell_type": "markdown",
   "metadata": {
    "_uuid": "0869dfd28b3c5a7c0c39c026d73c1828ae7efbeb"
   },
   "source": [
    "## 4. Разведывательный анализ данных"
   ]
  },
  {
   "cell_type": "code",
   "execution_count": null,
   "metadata": {},
   "outputs": [],
   "source": [
    "data = pd.read_csv('data_eda.csv')"
   ]
  },
  {
   "cell_type": "markdown",
   "metadata": {},
   "source": [
    "### Задание 4.1\n",
    "Выясним, в каких странах живут клиенты.\n"
   ]
  },
  {
   "cell_type": "code",
   "execution_count": null,
   "metadata": {},
   "outputs": [],
   "source": [
    "country_df = data[['Country', 'CustomerID']]\n",
    "# Оставим только уникальных клиентов\n",
    "country_df = country_df.drop_duplicates()\n",
    "country_df = country_df.groupby('Country').count()\n",
    "country_df = country_df.sort_values('CustomerID', ascending=False)\n",
    "display(country_df.head())\n",
    "\n",
    "fig = px.choropleth(country_df, locations=country_df.index, locationmode = 'country names', color='CustomerID', scope='world', color_continuous_scale = 'spectral')\n",
    "fig.show()"
   ]
  },
  {
   "cell_type": "markdown",
   "metadata": {},
   "source": [
    "### Задание 4.2\n",
    "Топ-3 стран по количеству поступающих заказов.\n",
    "\n",
    "\n"
   ]
  },
  {
   "cell_type": "code",
   "execution_count": null,
   "metadata": {},
   "outputs": [],
   "source": [
    "country_df = data[['Country', 'InvoiceNo']]\n",
    "\n",
    "country_df = country_df.groupby('Country').count()\n",
    "country_df = country_df.sort_values('InvoiceNo', ascending=False)\n",
    "display(country_df.head())\n",
    "fig = px.bar(country_df.head())\n",
    "fig.show()"
   ]
  },
  {
   "cell_type": "markdown",
   "metadata": {},
   "source": [
    "### Задание 4.3\n",
    "Давайте добавим в датасет общую цену заказа, назовём её TotalPrice.\n",
    "\n",
    " **TotalPrice = UnitPrice * (количество товаров в заказе - количество возвращённых товаров).**\n"
   ]
  },
  {
   "cell_type": "code",
   "execution_count": null,
   "metadata": {},
   "outputs": [],
   "source": [
    "data['TotalPrice'] = data['UnitPrice'] * (data['Quantity'] - data['QuantityCanceled'])\n",
    "print(f'Средняя стоимость заказов = {round(data['TotalPrice'].mean())}')"
   ]
  },
  {
   "cell_type": "markdown",
   "metadata": {},
   "source": [
    "### Задание 4.4\n",
    "\n",
    "Постройте визуализацию и выделите топ-3 стран, клиенты из которых приносят компании больше всего выручки:\n"
   ]
  },
  {
   "cell_type": "code",
   "execution_count": null,
   "metadata": {},
   "outputs": [],
   "source": [
    "country_df = data[['Country', 'TotalPrice']]\n",
    "\n",
    "country_df = country_df.groupby('Country').sum()\n",
    "country_df = country_df.sort_values('TotalPrice', ascending=False)\n",
    "display(country_df.head())\n",
    "fig = px.bar(country_df.head())\n",
    "fig.show()"
   ]
  },
  {
   "cell_type": "markdown",
   "metadata": {
    "tags": []
   },
   "source": [
    "### Задание 4.5\n",
    "Добавим временные признаки месяца, дня недели и часа совершения покупки.  \n",
    "Определим самые прибыльные месяца."
   ]
  },
  {
   "cell_type": "code",
   "execution_count": null,
   "metadata": {},
   "outputs": [],
   "source": [
    "data['InvoiceDate'] = pd.to_datetime(data['InvoiceDate'])\n",
    "data['Date'] = data['InvoiceDate'].dt.date\n",
    "data['Month'] = data['InvoiceDate'].dt.month\n",
    "data['Day_of_week'] = data['InvoiceDate'].dt.weekday\n",
    "data['Hour'] = data['InvoiceDate'].dt.hour\n",
    "\n",
    "month_df = data[['Month', 'TotalPrice']]\n",
    "month_df = month_df.groupby('Month').sum()\n",
    "month_df = month_df.sort_values('TotalPrice', ascending=False)\n",
    "display(month_df.head())\n",
    "fig = px.bar(month_df, x = month_df.index, y = 'TotalPrice')\n",
    "fig.show()"
   ]
  },
  {
   "cell_type": "markdown",
   "metadata": {},
   "source": [
    "### Задание 4.6\n",
    "Визуализируем количество заказов для каждого дня недели.\n"
   ]
  },
  {
   "cell_type": "code",
   "execution_count": null,
   "metadata": {},
   "outputs": [],
   "source": [
    "day_df = data[['Day_of_week', 'TotalPrice']]\n",
    "day_df = day_df.groupby('Day_of_week').sum()\n",
    "display(day_df)\n",
    "fig = px.bar(day_df)\n",
    "fig.show()"
   ]
  },
  {
   "cell_type": "markdown",
   "metadata": {},
   "source": [
    "### Задание 4.7\n",
    "=\n",
    "Сгруппируйте данные по датам и часам совершения транзакции и найдите количество заказов на каждый день-час. Затем найдите среднее количество ежедневно поступающих заказов в каждый из часов.\n",
    "\n",
    "Постройте визуализацию, отражающую распределение среднего количества ежедневно поступающих заказов по времени суток (часу совершения транзакции).\n",
    "\n",
    "Выберите верные утверждения:\n",
    "* Больше всего заказов совершается в дневное время в интервале от 18 до 20 часов\n",
    "* Больше всего заказов совершается в вечернее время в интервале от 10 до 15 часов\n",
    "* Начиная с 21 часа вечера и до 6 утра (не включительно) заказы не поступают \n",
    "* Заказы поступают во все периоды дня\n"
   ]
  },
  {
   "cell_type": "code",
   "execution_count": null,
   "metadata": {},
   "outputs": [],
   "source": [
    "date_hour_df = data[['Date', 'Hour', 'Quantity']]\n",
    "date_hour_df = date_hour_df.groupby(['Date', 'Hour']).mean().reset_index()\n",
    "display(date_hour_df)\n",
    "fig = px.bar(date_hour_df, x = 'Hour', y = 'Quantity')\n",
    "fig.show()"
   ]
  },
  {
   "cell_type": "markdown",
   "metadata": {
    "_uuid": "fe334ef9f8165328fc14400be829499b0b2c46f1"
   },
   "source": [
    "## 5. RFM-сегментация клиентов: часть 1"
   ]
  },
  {
   "cell_type": "markdown",
   "metadata": {},
   "source": [
    "Сформируем признаки, на основе которых будем производить сегментацию клиентов.\n",
    "\n",
    "Воспользуемся методом RFM.\n",
    "\n",
    "Нужно рассчитать RFM-характеристики для каждого из клиентов в датасете, и на их основе с помощью методов кластеризации построить подобные сегменты клиентов."
   ]
  },
  {
   "cell_type": "markdown",
   "metadata": {
    "tags": []
   },
   "source": [
    "### Задание 5.1\n",
    "\n",
    "Cгруппируем данные по идентификаторам клиента и рассчитаем следующие  агрегированные характеристики:\n",
    "\n",
    "* Recency: для i-го клиента рассчитывается как разница между датой и временем последнего заказа и точкой отсчёта, переведённая в дни:\n",
    "    $$t_0-max(t_{i1}, t_{i2},..., t_{iM})$$\n",
    "\n",
    "    где $t_{ij}$ — дата и время совершения i-ым клиентом своей j-ой покупки.\n",
    "\n",
    "    В качестве точки отсчёта $t_0$ берём дату на один день «старше», чем все наши данные. Это будет 10 декабря 2011 года (в формате datetime — '2011-12-10 00:00:00').\n",
    "\n",
    "* Frequency: рассчитывается как общее количество уникальных заказов, которые совершил i-ый клиент.\n",
    "* Monetary: Value рассчитывается как общая сумма денег, которую i-ый клиент потратил на наши товары (с учетом возвратов)."
   ]
  },
  {
   "cell_type": "code",
   "execution_count": null,
   "metadata": {},
   "outputs": [],
   "source": [
    "rfm_table = data.groupby(\"CustomerID\").agg({'InvoiceDate':'max', 'InvoiceNo':'nunique', 'TotalPrice':'sum'})\n",
    "date = pd.Timestamp(2011, 12, 10)\n",
    "rfm_table['InvoiceDate'] = (date - rfm_table['InvoiceDate']).dt.days\n",
    "rfm_table.columns = ['Recency', 'Frequency', 'Monetary']\n",
    "\n",
    "rfm_table"
   ]
  },
  {
   "cell_type": "markdown",
   "metadata": {},
   "source": [
    "Построим коробчатые диаграммы для каждого из признаков:"
   ]
  },
  {
   "cell_type": "code",
   "execution_count": null,
   "metadata": {},
   "outputs": [],
   "source": [
    "boxes = [px.box(rfm_table, x=column) \n",
    "        for column in rfm_table.columns]\n",
    "fig = make_subplots(\n",
    "    rows=1, cols=3, \n",
    "    subplot_titles=(\n",
    "        \"Recency\",\"Frequency\", \"Monetary\"\n",
    "    )\n",
    ")\n",
    "\n",
    "for i, box in enumerate(boxes):\n",
    "    fig.add_trace(boxes[i]['data'][0], row=1, col=i+1)\n",
    "\n",
    "fig.update_layout(showlegend=True)\n",
    "fig.write_html('boxplot_1.html')\n",
    "fig.show()"
   ]
  },
  {
   "cell_type": "markdown",
   "metadata": {},
   "source": [
    "- Есть клиенты с аномально большим количеством сделанных заказов (более 100 штук),\n",
    "- клиенты, общая стоимость заказов которых превышает 190 тысяч фунтов стерлингов.\n"
   ]
  },
  {
   "cell_type": "markdown",
   "metadata": {},
   "source": [
    "### Задание 5.2\n",
    "Удалим данные тех клиентов, для которых значение параметра Frequency или параметра Monetary выше, чем у 95 % клиентов.\n"
   ]
  },
  {
   "cell_type": "code",
   "execution_count": null,
   "metadata": {},
   "outputs": [],
   "source": [
    "frequency_quantile = rfm_table['Frequency'].quantile(0.95)\n",
    "monetary_quantile = rfm_table['Monetary'].quantile(0.95)\n",
    "\n",
    "rfm_table_cleaned = rfm_table[(rfm_table['Frequency'] <= frequency_quantile) & (rfm_table['Monetary'] <= monetary_quantile)]\n",
    "\n",
    "print(rfm_table_cleaned.shape[0])"
   ]
  },
  {
   "cell_type": "code",
   "execution_count": null,
   "metadata": {},
   "outputs": [],
   "source": [
    "boxes = [px.box(rfm_table_cleaned, x=column) for column in rfm_table_cleaned.columns]\n",
    "fig = make_subplots(\n",
    "    rows=1, cols=3, \n",
    "    subplot_titles=(\n",
    "        \"Recency\", \"Frequency\", \"Monetary\"\n",
    "    )\n",
    ")\n",
    "\n",
    "for i, box in enumerate(boxes):\n",
    "    fig.add_trace(boxes[i]['data'][0], row=1, col=i+1)\n",
    "\n",
    "fig.update_layout(showlegend=True)\n",
    "fig.write_html('boxplot_2.html')\n",
    "fig.show()"
   ]
  },
  {
   "cell_type": "markdown",
   "metadata": {},
   "source": [
    "Построим визуализацию трёхмерного пространства признаков для оценки распределения:\n"
   ]
  },
  {
   "cell_type": "code",
   "execution_count": null,
   "metadata": {},
   "outputs": [],
   "source": [
    "# создадим трёхмерный объект\n",
    "fig = plt.figure(figsize=(6,6))\n",
    "ax = Axes3D(fig)\n",
    "# добавим дополнительную ось в объект картинки\n",
    "fig.add_axes(ax)\n",
    "ax.azim = 20\n",
    "ax.elev = 30\n",
    "\n",
    "# визуализируем данные, передав значения x, y, z, а также информацию о группировке данных по цветам\n",
    "ax.scatter(\n",
    "    rfm_table_cleaned['Recency'].to_list(), \n",
    "    rfm_table_cleaned['Frequency'].to_list(),\n",
    "    rfm_table_cleaned['Monetary'].to_list()\n",
    ")\n",
    "# добавим оси\n",
    "ax.set_xlabel('Recency')\n",
    "ax.set_ylabel('Frequency')\n",
    "ax.set_zlabel('Monetary');\n"
   ]
  },
  {
   "cell_type": "markdown",
   "metadata": {},
   "source": [
    "Видно, что есть клиенты с большими значениями параметров Monetary и Frequency — вероятно, это лучшие клиенты, которые покупают чаще всего и приносят больше всего денег.\n"
   ]
  },
  {
   "cell_type": "markdown",
   "metadata": {},
   "source": [
    "### Задание 5.3\n",
    "Для стабильной работы метода главных компонент (PCA) данные необходимо стандартизировать/нормализовать. "
   ]
  },
  {
   "cell_type": "code",
   "execution_count": null,
   "metadata": {},
   "outputs": [],
   "source": [
    "pipeline = Pipeline([('scaler', StandardScaler()), \n",
    "                ('pca', PCA(n_components=2))])\n",
    "\n",
    "rfm_table_processed = pipeline.fit_transform(rfm_table_cleaned)\n",
    "\n",
    "pipeline['pca'].explained_variance_ratio_[0]"
   ]
  },
  {
   "cell_type": "markdown",
   "metadata": {},
   "source": [
    "Визуализировав пространство главных компонент после декомпозиции мы получим следующую картину:"
   ]
  },
  {
   "cell_type": "code",
   "execution_count": null,
   "metadata": {},
   "outputs": [],
   "source": [
    "rfm_table_processed = pd.DataFrame(rfm_table_processed)\n",
    "display(rfm_table_processed)\n",
    "sns.scatterplot(data=rfm_table_processed, x=0, y=1);"
   ]
  },
  {
   "cell_type": "markdown",
   "metadata": {},
   "source": [
    "Попробуем разделить это пространство главных компонент на сегменты. "
   ]
  },
  {
   "cell_type": "markdown",
   "metadata": {},
   "source": [
    "### Задание 5.4\n",
    "Воспользуемся методом k-means. \n",
    "\n",
    "Переберём возможные значения кластеров от 2 до 10. \n"
   ]
  },
  {
   "cell_type": "code",
   "execution_count": null,
   "metadata": {},
   "outputs": [],
   "source": [
    "def get_silhouette_kmeans(cluster_num, X):\n",
    "    k_means =  KMeans(n_clusters=cluster_num, init='k-means++', random_state=42)\n",
    "    k_means.fit(X)\n",
    "    silhouette = silhouette_score(X, k_means.predict(X))\n",
    "    return silhouette\n",
    "\n",
    "silhouette_res = {\"silhouette\": [], \"cluster\": []}\n",
    "\n",
    "X = rfm_table_processed\n",
    "\n",
    "for cluster_num in range(2, 10):\n",
    "    silhouette_res[\"silhouette\"].append(get_silhouette_kmeans(cluster_num, X))\n",
    "    silhouette_res[\"cluster\"].append(cluster_num)\n",
    "\n",
    "silhouette_df_kmeans = pd.DataFrame(silhouette_res)\n",
    "display(f'Максимальное значение коэффициента силуэта = {silhouette_df_kmeans['silhouette'].max():.2f}')\n",
    "\n",
    "sns.set_style(\"darkgrid\")\n",
    "sns.lineplot(data=silhouette_df_kmeans, x=\"cluster\", y=\"silhouette\", marker= \"o\")"
   ]
  },
  {
   "cell_type": "markdown",
   "metadata": {},
   "source": [
    "### Задание 5.5\n",
    "Теперь возьмём EM-алгоритм.\n",
    "\n",
    "Подберите оптимальное количество кластеров для EM-алгоритма (GaussianMixture) с помощью коэффициента силуэта, перебирая возможные значения от 2 до 10 включительно.\n",
    "В качестве значения параметра random_state возьмите число 42. Остальные параметры оставьте по умолчанию.\n",
    "\n",
    "\n",
    "1) Судя по полученным результатам, какое количество кластеров лучше всего взять?\n",
    "\n",
    "2) Чему равно максимальное значение коэффициента силуэта? Ответ округлите до двух знаков после точки-разделителя.\n"
   ]
  },
  {
   "cell_type": "code",
   "execution_count": null,
   "metadata": {},
   "outputs": [],
   "source": [
    "def get_silhouette_em(cluster_num, X):\n",
    "    gm_clustering = GaussianMixture(n_components=cluster_num, random_state=42)\n",
    "    gm_clustering.fit(X)\n",
    "    silhouette = silhouette_score(X, gm_clustering.predict(X))\n",
    "    return silhouette\n",
    "\n",
    "silhouette_res_em = {\"silhouette\": [], \"cluster\": []}\n",
    "\n",
    "X = rfm_table_processed\n",
    "\n",
    "for cluster_num in range(2, 10):\n",
    "    silhouette_res_em[\"silhouette\"].append(get_silhouette_em(cluster_num, X))\n",
    "    silhouette_res_em[\"cluster\"].append(cluster_num)\n",
    "\n",
    "silhouette_df_em = pd.DataFrame(silhouette_res_em)\n",
    "display(f'Максимальное значение коэффициента силуэта = {max(silhouette_res_em['silhouette']):.2f}')\n",
    "\n",
    "sns.set_style(\"darkgrid\")\n",
    "sns.lineplot(data=silhouette_res_em, x=\"cluster\", y=\"silhouette\", marker= \"o\")"
   ]
  },
  {
   "cell_type": "markdown",
   "metadata": {},
   "source": [
    "### Задание 5.6\n",
    "Посмотрим на распределение кластеров.\n",
    "\n",
    "Обучим KMeans модель, так как коэффициент силуэта у неё выше.\n",
    "\n"
   ]
  },
  {
   "cell_type": "code",
   "execution_count": null,
   "metadata": {},
   "outputs": [],
   "source": [
    "k_means =  KMeans(n_clusters=3, random_state=42)\n",
    "k_means.fit(rfm_table_processed)\n",
    "\n",
    "prediction = k_means.predict(rfm_table_processed)\n",
    "rfm_table_processed['Label'] = prediction"
   ]
  },
  {
   "cell_type": "code",
   "execution_count": null,
   "metadata": {},
   "outputs": [],
   "source": [
    "display(rfm_table_processed['Label'].value_counts())\n",
    "\n",
    "sns.scatterplot(data=rfm_table_processed, x='axis-1', y='axis-2', hue='Label');\n",
    "rfm_table_processed"
   ]
  },
  {
   "cell_type": "markdown",
   "metadata": {},
   "source": [
    "### Задание 5.7\n",
    "\n",
    "Вернёмся от декомпозированных данных к RFM-таблице"
   ]
  },
  {
   "cell_type": "code",
   "execution_count": null,
   "metadata": {},
   "outputs": [],
   "source": [
    "rfm_table_cleaned['Cluster'] = prediction\n",
    "rfm_table_cleaned.groupby('Cluster').mean()"
   ]
  },
  {
   "cell_type": "markdown",
   "metadata": {
    "tags": []
   },
   "source": [
    "### Полярная диаграмма\n",
    "Используем Radar Chart для визуализации признаков.\n",
    "\n",
    "Реализуем функцию plot_cluster_profile(), которая позволяет визуализировать профиль каждого из кластеров в виде полярной диаграммы.\n",
    "\n",
    "Все признаки должны быть приведены к единому масштабу с помощью нормализации, где 1 будет означать максимум, а 0 — минимум."
   ]
  },
  {
   "cell_type": "code",
   "execution_count": null,
   "metadata": {},
   "outputs": [],
   "source": [
    "def plot_cluster_profile(grouped_data, n_clusters):\n",
    "    # Нормализуем сгруппированные данные, приводя их к масштабу 0-1.\n",
    "    scaler = preprocessing.MinMaxScaler()\n",
    "    grouped_data = pd.DataFrame(scaler.fit_transform(grouped_data), columns=grouped_data.columns)\n",
    "    # список признаков\n",
    "    features = grouped_data.columns\n",
    "    \n",
    "    fig = go.Figure()\n",
    "    # визуализируем полярную диаграмму для каждого кластера\n",
    "    for i in range(n_clusters):\n",
    "        \n",
    "        fig.add_trace(go.Scatterpolar(\n",
    "            r=grouped_data.iloc[i].values, # радиусы\n",
    "            theta=features, # название засечек\n",
    "            fill='toself', # заливка многоугольника цветом\n",
    "            name=f'Cluster {i}', # название - номер кластера\n",
    "        ))\n",
    "\n",
    "    fig.update_layout(\n",
    "        showlegend=True,\n",
    "        autosize=False, \n",
    "        width=800, \n",
    "        height=800, \n",
    "    )\n",
    "    \n",
    "    fig.show()\n",
    "    "
   ]
  },
  {
   "cell_type": "markdown",
   "metadata": {},
   "source": [
    "### Задание 5.8\n",
    "\n",
    "Визуализируем профили кластеров в виде полярной диаграммы на основе средних RFM-характеристик, вычисленных для каждого кластера. \n"
   ]
  },
  {
   "cell_type": "code",
   "execution_count": null,
   "metadata": {},
   "outputs": [],
   "source": [
    "rfm_table_cleaned = rfm_table_cleaned[['Recency',\t'Frequency',\t'Monetary']]\n",
    "plot_cluster_profile(rfm_table_cleaned, 3)"
   ]
  },
  {
   "cell_type": "markdown",
   "metadata": {},
   "source": [
    "Описание кластеров:\n",
    "* Кластер 1 - соответствует «лояльным» клиентам, которые приносят наибольший доход, совершают покупки чаще всего, а давность их последней покупки наименьшая.\n",
    "* Кластер 2 - соответствует «промежуточным» клиентам, которые являются активными, но покупают не так часто и много, как лояльные клиенты.\n",
    "* Кластер 3 - соответствует «потерянным» клиентам, которые купили меньше всего товара, и их последняя покупка была совершена очень давно."
   ]
  },
  {
   "cell_type": "markdown",
   "metadata": {},
   "source": [
    "### 6. RFM-сегментация клиентов: часть 2"
   ]
  },
  {
   "cell_type": "markdown",
   "metadata": {},
   "source": [
    "Итак, с помощью RFM-анализа нам удалось выделить три сегмента клиентов. Однако в маркетинге принято оперировать большим их количеством: обычно маркетологи стараются создать стратегию хотя бы для пяти-семи клиентских сегментов в градации от «лояльных» до «потерянных» с промежуточными категориями.\n",
    "\n",
    "Поэтому, получив обратную связь от маркетологов, мы вновь принимаемся за работу, пытаясь модифицировать полученное решение.\n",
    "\n",
    "Ранее мы производили кластеризацию в пространстве главных компонент. Вспомним, что PCA является линейным методом отображения исходного пространства признаков в его сжатую версию.\n",
    "\n",
    "А что если использовать нелинейную трансформацию? Например, алгоритм снижения размерности t-SNE. Давайте попробуем и посмотрим, что получится."
   ]
  },
  {
   "cell_type": "markdown",
   "metadata": {},
   "source": [
    "### Задание 6.1\n",
    "Воспользуемся алгоритмом t-SNE и трансформируем RFM-таблицу, очищенную от выбросов, в двухмерное представление.\n",
    "\n"
   ]
  },
  {
   "cell_type": "code",
   "execution_count": null,
   "metadata": {},
   "outputs": [],
   "source": [
    "pipeline_tsne = Pipeline([('scaler', StandardScaler()), \n",
    "                ('tsne', TSNE(perplexity=50, random_state=100))])\n",
    "\n",
    "rfm_table_tsne = pipeline_tsne.fit_transform(rfm_table_cleaned)"
   ]
  },
  {
   "cell_type": "code",
   "execution_count": null,
   "metadata": {},
   "outputs": [],
   "source": [
    "rfm_table_tsne = pd.DataFrame(rfm_table_tsne)\n",
    "rfm_table_tsne"
   ]
  },
  {
   "cell_type": "markdown",
   "metadata": {},
   "source": [
    "Визуализировав пространство после декомпозиции с помощью t-SNE, мы получим следующую картину:\n"
   ]
  },
  {
   "cell_type": "code",
   "execution_count": null,
   "metadata": {},
   "outputs": [],
   "source": [
    "fig = plt.figure(figsize=(5, 5))\n",
    "sns.scatterplot(data=rfm_table_tsne, x=0, y=1); "
   ]
  },
  {
   "cell_type": "markdown",
   "metadata": {},
   "source": [
    "t-SNE алгоритм сгруппировал наиболее похожие объекты в подобие кластеров.\n"
   ]
  },
  {
   "cell_type": "markdown",
   "metadata": {},
   "source": [
    "### Задание 6.2\n",
    "Снова воспользуемся методом k-means после преобразований t-SNE алгоритма. \n",
    "\n"
   ]
  },
  {
   "cell_type": "code",
   "execution_count": null,
   "metadata": {},
   "outputs": [],
   "source": [
    "silhouette_res = {\"silhouette\": [], \"cluster\": []}\n",
    "\n",
    "X = rfm_table_tsne\n",
    "\n",
    "for cluster_num in range(2, 9):\n",
    "    silhouette_res[\"silhouette\"].append(get_silhouette_kmeans(cluster_num, X))\n",
    "    silhouette_res[\"cluster\"].append(cluster_num)\n",
    "\n",
    "silhouette_df_kmeans = pd.DataFrame(silhouette_res)\n",
    "display(f'Максимальное значение коэффициента силуэта = {silhouette_df_kmeans['silhouette'].max():.2f}')\n",
    "\n",
    "sns.set_style(\"darkgrid\")\n",
    "sns.lineplot(data=silhouette_df_kmeans, x=\"cluster\", y=\"silhouette\", marker= \"o\")"
   ]
  },
  {
   "cell_type": "markdown",
   "metadata": {},
   "source": [
    "### Задание 6.3\n",
    "Также воспользуемся EM-алгоритом. \n"
   ]
  },
  {
   "cell_type": "code",
   "execution_count": null,
   "metadata": {},
   "outputs": [],
   "source": [
    "silhouette_res_em = {\"silhouette\": [], \"cluster\": []}\n",
    "\n",
    "X = rfm_table_tsne\n",
    "\n",
    "for cluster_num in range(2, 9):\n",
    "    silhouette_res_em[\"silhouette\"].append(get_silhouette_em(cluster_num, X))\n",
    "    silhouette_res_em[\"cluster\"].append(cluster_num)\n",
    "\n",
    "silhouette_df_em = pd.DataFrame(silhouette_res_em)\n",
    "display(f'Максимальное значение коэффициента силуэта = {max(silhouette_res_em['silhouette']):.2f}')\n",
    "\n",
    "sns.set_style(\"darkgrid\")\n",
    "sns.lineplot(data=silhouette_res_em, x=\"cluster\", y=\"silhouette\", marker= \"o\")"
   ]
  },
  {
   "cell_type": "markdown",
   "metadata": {},
   "source": [
    "### Задание 6.4\n",
    "Наконец, попробуем воспользоваться алгоритмом алгомеративной кластеризации (AgglomerativeClustering).\n",
    "\n",
    "Подберите оптимальное количество кластеров для алгоритма агломеративной кластеризации с помощью коэффициента силуэта, перебирая возможные значения от 2 до 8 включительно. \n",
    "\n",
    "Все параметры, за исключением числа кластеров, оставьте по умолчанию.\n",
    "\n",
    "\n",
    "1) Судя по полученным результатам, какое количество кластеров лучше всего взять?\n",
    "\n",
    "2) Чему равно максимальное значение коэффициента силуэта? Ответ округлите до двух знаков после точки-разделителя.\n",
    "\n"
   ]
  },
  {
   "cell_type": "code",
   "execution_count": null,
   "metadata": {},
   "outputs": [],
   "source": [
    "def get_silhouette_ac(cluster_num, X):\n",
    "    ac_clustering = AgglomerativeClustering(n_clusters=cluster_num)\n",
    "    ac_clustering.fit(X)\n",
    "    silhouette = silhouette_score(X, ac_clustering.labels_)\n",
    "    return silhouette\n",
    "\n",
    "silhouette_res_ac = {\"silhouette\": [], \"cluster\": []}\n",
    "\n",
    "X = rfm_table_tsne\n",
    "\n",
    "for cluster_num in range(2, 9):\n",
    "    silhouette_res_ac[\"silhouette\"].append(get_silhouette_ac(cluster_num, X))\n",
    "    silhouette_res_ac[\"cluster\"].append(cluster_num)\n",
    "\n",
    "silhouette_df_em = pd.DataFrame(silhouette_res_ac)\n",
    "display(f'Максимальное значение коэффициента силуэта = {max(silhouette_res_ac['silhouette']):.2f}')\n",
    "\n",
    "sns.set_style(\"darkgrid\")\n",
    "sns.lineplot(data=silhouette_res_ac, x=\"cluster\", y=\"silhouette\", marker= \"o\")"
   ]
  },
  {
   "cell_type": "markdown",
   "metadata": {
    "tags": []
   },
   "source": [
    "### Задание 6.5\n",
    "Давайте посмотрим на распределение кластеров.\n",
    "\n",
    "1) Сначала нужно определить лучшую модель. Для какой модели с оптимальным количеством кластеров коэффициент силуэта наибольший?\n",
    "* K-Means\n",
    "* GaussianMixture\n",
    "* AgglomerativeClustering\n",
    "\n",
    "\n",
    "2) Обучите лучшую модель с подобранным ранее количеством кластеров на декомпозированных данных. \n",
    "Сколько клиентов попало в самый большой кластер?\n",
    "\n"
   ]
  },
  {
   "cell_type": "code",
   "execution_count": 251,
   "metadata": {},
   "outputs": [
    {
     "data": {
      "text/plain": [
       "Label\n",
       "2    912\n",
       "0    775\n",
       "4    677\n",
       "3    599\n",
       "1    542\n",
       "5    425\n",
       "6    114\n",
       "Name: count, dtype: int64"
      ]
     },
     "metadata": {},
     "output_type": "display_data"
    },
    {
     "data": {
      "image/png": "[encoded data removed]",
      "text/plain": [
       "<Figure size 640x480 with 1 Axes>"
      ]
     },
     "metadata": {},
     "output_type": "display_data"
    }
   ],
   "source": [
    "rfm_table_tsne = rfm_table_tsne[[0, 1]]\n",
    "\n",
    "k_means =  KMeans(n_clusters=7, random_state=42)\n",
    "k_means.fit(rfm_table_tsne)\n",
    "\n",
    "prediction_tsne = k_means.predict(rfm_table_tsne)\n",
    "rfm_table_tsne['Label'] = prediction_tsne\n",
    "\n",
    "\n",
    "display(rfm_table_tsne['Label'].value_counts())\n",
    "\n",
    "sns.scatterplot(data=rfm_table_tsne, x=0, y=1, hue='Label', palette='muted');\n"
   ]
  },
  {
   "cell_type": "markdown",
   "metadata": {},
   "source": [
    "### Задание 6.6\n",
    "\n",
    "Для составления профиля кластеров вернемся от декомпозированных данных к RFM-таблице."
   ]
  },
  {
   "cell_type": "code",
   "execution_count": 260,
   "metadata": {},
   "outputs": [],
   "source": [
    "rfm_table_cleaned['Cluster'] = prediction_tsne\n"
   ]
  },
  {
   "cell_type": "markdown",
   "metadata": {},
   "source": [
    "### Задание 6.7\n",
    "Визуализируйте профили семи кластеров в виде полярной диаграммы на основе средних RFM-характеристик.\n"
   ]
  },
  {
   "cell_type": "code",
   "execution_count": 255,
   "metadata": {},
   "outputs": [
    {
     "data": {
      "application/vnd.plotly.v1+json": {
       "config": {
        "plotlyServerURL": "https://plot.ly"
       },
       "data": [
        {
         "fill": "toself",
         "name": "Cluster 0",
         "r": [
          0.871313672922252,
          0,
          0
         ],
         "theta": [
          "Recency",
          "Frequency",
          "Monetary"
         ],
         "type": "scatterpolar"
        },
        {
         "fill": "toself",
         "name": "Cluster 1",
         "r": [
          0.005361930294906166,
          0.49999999999999994,
          0.771043126535154
         ],
         "theta": [
          "Recency",
          "Frequency",
          "Monetary"
         ],
         "type": "scatterpolar"
        },
        {
         "fill": "toself",
         "name": "Cluster 2",
         "r": [
          0.20107238605898123,
          0.25,
          0.25711694273349994
         ],
         "theta": [
          "Recency",
          "Frequency",
          "Monetary"
         ],
         "type": "scatterpolar"
        },
        {
         "fill": "toself",
         "name": "Cluster 3",
         "r": [
          0.0482573726541555,
          0,
          0.2607503269330194
         ],
         "theta": [
          "Recency",
          "Frequency",
          "Monetary"
         ],
         "type": "scatterpolar"
        },
        {
         "fill": "toself",
         "name": "Cluster 4",
         "r": [
          0.8310991957104558,
          0,
          0.05266707574291168
         ],
         "theta": [
          "Recency",
          "Frequency",
          "Monetary"
         ],
         "type": "scatterpolar"
        },
        {
         "fill": "toself",
         "name": "Cluster 5",
         "r": [
          0.096514745308311,
          0.49999999999999994,
          0.22637718857281885
         ],
         "theta": [
          "Recency",
          "Frequency",
          "Monetary"
         ],
         "type": "scatterpolar"
        },
        {
         "fill": "toself",
         "name": "Cluster 6",
         "r": [
          0.546916890080429,
          0,
          0.01592177221847534
         ],
         "theta": [
          "Recency",
          "Frequency",
          "Monetary"
         ],
         "type": "scatterpolar"
        }
       ],
       "layout": {
        "autosize": false,
        "height": 800,
        "showlegend": true,
        "template": {
         "data": {
          "bar": [
           {
            "error_x": {
             "color": "#2a3f5f"
            },
            "error_y": {
             "color": "#2a3f5f"
            },
            "marker": {
             "line": {
              "color": "#E5ECF6",
              "width": 0.5
             },
             "pattern": {
              "fillmode": "overlay",
              "size": 10,
              "solidity": 0.2
             }
            },
            "type": "bar"
           }
          ],
          "barpolar": [
           {
            "marker": {
             "line": {
              "color": "#E5ECF6",
              "width": 0.5
             },
             "pattern": {
              "fillmode": "overlay",
              "size": 10,
              "solidity": 0.2
             }
            },
            "type": "barpolar"
           }
          ],
          "carpet": [
           {
            "aaxis": {
             "endlinecolor": "#2a3f5f",
             "gridcolor": "white",
             "linecolor": "white",
             "minorgridcolor": "white",
             "startlinecolor": "#2a3f5f"
            },
            "baxis": {
             "endlinecolor": "#2a3f5f",
             "gridcolor": "white",
             "linecolor": "white",
             "minorgridcolor": "white",
             "startlinecolor": "#2a3f5f"
            },
            "type": "carpet"
           }
          ],
          "choropleth": [
           {
            "colorbar": {
             "outlinewidth": 0,
             "ticks": ""
            },
            "type": "choropleth"
           }
          ],
          "contour": [
           {
            "colorbar": {
             "outlinewidth": 0,
             "ticks": ""
            },
            "colorscale": [
             [
              0,
              "#0d0887"
             ],
             [
              0.1111111111111111,
              "#46039f"
             ],
             [
              0.2222222222222222,
              "#7201a8"
             ],
             [
              0.3333333333333333,
              "#9c179e"
             ],
             [
              0.4444444444444444,
              "#bd3786"
             ],
             [
              0.5555555555555556,
              "#d8576b"
             ],
             [
              0.6666666666666666,
              "#ed7953"
             ],
             [
              0.7777777777777778,
              "#fb9f3a"
             ],
             [
              0.8888888888888888,
              "#fdca26"
             ],
             [
              1,
              "#f0f921"
             ]
            ],
            "type": "contour"
           }
          ],
          "contourcarpet": [
           {
            "colorbar": {
             "outlinewidth": 0,
             "ticks": ""
            },
            "type": "contourcarpet"
           }
          ],
          "heatmap": [
           {
            "colorbar": {
             "outlinewidth": 0,
             "ticks": ""
            },
            "colorscale": [
             [
              0,
              "#0d0887"
             ],
             [
              0.1111111111111111,
              "#46039f"
             ],
             [
              0.2222222222222222,
              "#7201a8"
             ],
             [
              0.3333333333333333,
              "#9c179e"
             ],
             [
              0.4444444444444444,
              "#bd3786"
             ],
             [
              0.5555555555555556,
              "#d8576b"
             ],
             [
              0.6666666666666666,
              "#ed7953"
             ],
             [
              0.7777777777777778,
              "#fb9f3a"
             ],
             [
              0.8888888888888888,
              "#fdca26"
             ],
             [
              1,
              "#f0f921"
             ]
            ],
            "type": "heatmap"
           }
          ],
          "heatmapgl": [
           {
            "colorbar": {
             "outlinewidth": 0,
             "ticks": ""
            },
            "colorscale": [
             [
              0,
              "#0d0887"
             ],
             [
              0.1111111111111111,
              "#46039f"
             ],
             [
              0.2222222222222222,
              "#7201a8"
             ],
             [
              0.3333333333333333,
              "#9c179e"
             ],
             [
              0.4444444444444444,
              "#bd3786"
             ],
             [
              0.5555555555555556,
              "#d8576b"
             ],
             [
              0.6666666666666666,
              "#ed7953"
             ],
             [
              0.7777777777777778,
              "#fb9f3a"
             ],
             [
              0.8888888888888888,
              "#fdca26"
             ],
             [
              1,
              "#f0f921"
             ]
            ],
            "type": "heatmapgl"
           }
          ],
          "histogram": [
           {
            "marker": {
             "pattern": {
              "fillmode": "overlay",
              "size": 10,
              "solidity": 0.2
             }
            },
            "type": "histogram"
           }
          ],
          "histogram2d": [
           {
            "colorbar": {
             "outlinewidth": 0,
             "ticks": ""
            },
            "colorscale": [
             [
              0,
              "#0d0887"
             ],
             [
              0.1111111111111111,
              "#46039f"
             ],
             [
              0.2222222222222222,
              "#7201a8"
             ],
             [
              0.3333333333333333,
              "#9c179e"
             ],
             [
              0.4444444444444444,
              "#bd3786"
             ],
             [
              0.5555555555555556,
              "#d8576b"
             ],
             [
              0.6666666666666666,
              "#ed7953"
             ],
             [
              0.7777777777777778,
              "#fb9f3a"
             ],
             [
              0.8888888888888888,
              "#fdca26"
             ],
             [
              1,
              "#f0f921"
             ]
            ],
            "type": "histogram2d"
           }
          ],
          "histogram2dcontour": [
           {
            "colorbar": {
             "outlinewidth": 0,
             "ticks": ""
            },
            "colorscale": [
             [
              0,
              "#0d0887"
             ],
             [
              0.1111111111111111,
              "#46039f"
             ],
             [
              0.2222222222222222,
              "#7201a8"
             ],
             [
              0.3333333333333333,
              "#9c179e"
             ],
             [
              0.4444444444444444,
              "#bd3786"
             ],
             [
              0.5555555555555556,
              "#d8576b"
             ],
             [
              0.6666666666666666,
              "#ed7953"
             ],
             [
              0.7777777777777778,
              "#fb9f3a"
             ],
             [
              0.8888888888888888,
              "#fdca26"
             ],
             [
              1,
              "#f0f921"
             ]
            ],
            "type": "histogram2dcontour"
           }
          ],
          "mesh3d": [
           {
            "colorbar": {
             "outlinewidth": 0,
             "ticks": ""
            },
            "type": "mesh3d"
           }
          ],
          "parcoords": [
           {
            "line": {
             "colorbar": {
              "outlinewidth": 0,
              "ticks": ""
             }
            },
            "type": "parcoords"
           }
          ],
          "pie": [
           {
            "automargin": true,
            "type": "pie"
           }
          ],
          "scatter": [
           {
            "fillpattern": {
             "fillmode": "overlay",
             "size": 10,
             "solidity": 0.2
            },
            "type": "scatter"
           }
          ],
          "scatter3d": [
           {
            "line": {
             "colorbar": {
              "outlinewidth": 0,
              "ticks": ""
             }
            },
            "marker": {
             "colorbar": {
              "outlinewidth": 0,
              "ticks": ""
             }
            },
            "type": "scatter3d"
           }
          ],
          "scattercarpet": [
           {
            "marker": {
             "colorbar": {
              "outlinewidth": 0,
              "ticks": ""
             }
            },
            "type": "scattercarpet"
           }
          ],
          "scattergeo": [
           {
            "marker": {
             "colorbar": {
              "outlinewidth": 0,
              "ticks": ""
             }
            },
            "type": "scattergeo"
           }
          ],
          "scattergl": [
           {
            "marker": {
             "colorbar": {
              "outlinewidth": 0,
              "ticks": ""
             }
            },
            "type": "scattergl"
           }
          ],
          "scattermapbox": [
           {
            "marker": {
             "colorbar": {
              "outlinewidth": 0,
              "ticks": ""
             }
            },
            "type": "scattermapbox"
           }
          ],
          "scatterpolar": [
           {
            "marker": {
             "colorbar": {
              "outlinewidth": 0,
              "ticks": ""
             }
            },
            "type": "scatterpolar"
           }
          ],
          "scatterpolargl": [
           {
            "marker": {
             "colorbar": {
              "outlinewidth": 0,
              "ticks": ""
             }
            },
            "type": "scatterpolargl"
           }
          ],
          "scatterternary": [
           {
            "marker": {
             "colorbar": {
              "outlinewidth": 0,
              "ticks": ""
             }
            },
            "type": "scatterternary"
           }
          ],
          "surface": [
           {
            "colorbar": {
             "outlinewidth": 0,
             "ticks": ""
            },
            "colorscale": [
             [
              0,
              "#0d0887"
             ],
             [
              0.1111111111111111,
              "#46039f"
             ],
             [
              0.2222222222222222,
              "#7201a8"
             ],
             [
              0.3333333333333333,
              "#9c179e"
             ],
             [
              0.4444444444444444,
              "#bd3786"
             ],
             [
              0.5555555555555556,
              "#d8576b"
             ],
             [
              0.6666666666666666,
              "#ed7953"
             ],
             [
              0.7777777777777778,
              "#fb9f3a"
             ],
             [
              0.8888888888888888,
              "#fdca26"
             ],
             [
              1,
              "#f0f921"
             ]
            ],
            "type": "surface"
           }
          ],
          "table": [
           {
            "cells": {
             "fill": {
              "color": "#EBF0F8"
             },
             "line": {
              "color": "white"
             }
            },
            "header": {
             "fill": {
              "color": "#C8D4E3"
             },
             "line": {
              "color": "white"
             }
            },
            "type": "table"
           }
          ]
         },
         "layout": {
          "annotationdefaults": {
           "arrowcolor": "#2a3f5f",
           "arrowhead": 0,
           "arrowwidth": 1
          },
          "autotypenumbers": "strict",
          "coloraxis": {
           "colorbar": {
            "outlinewidth": 0,
            "ticks": ""
           }
          },
          "colorscale": {
           "diverging": [
            [
             0,
             "#8e0152"
            ],
            [
             0.1,
             "#c51b7d"
            ],
            [
             0.2,
             "#de77ae"
            ],
            [
             0.3,
             "#f1b6da"
            ],
            [
             0.4,
             "#fde0ef"
            ],
            [
             0.5,
             "#f7f7f7"
            ],
            [
             0.6,
             "#e6f5d0"
            ],
            [
             0.7,
             "#b8e186"
            ],
            [
             0.8,
             "#7fbc41"
            ],
            [
             0.9,
             "#4d9221"
            ],
            [
             1,
             "#276419"
            ]
           ],
           "sequential": [
            [
             0,
             "#0d0887"
            ],
            [
             0.1111111111111111,
             "#46039f"
            ],
            [
             0.2222222222222222,
             "#7201a8"
            ],
            [
             0.3333333333333333,
             "#9c179e"
            ],
            [
             0.4444444444444444,
             "#bd3786"
            ],
            [
             0.5555555555555556,
             "#d8576b"
            ],
            [
             0.6666666666666666,
             "#ed7953"
            ],
            [
             0.7777777777777778,
             "#fb9f3a"
            ],
            [
             0.8888888888888888,
             "#fdca26"
            ],
            [
             1,
             "#f0f921"
            ]
           ],
           "sequentialminus": [
            [
             0,
             "#0d0887"
            ],
            [
             0.1111111111111111,
             "#46039f"
            ],
            [
             0.2222222222222222,
             "#7201a8"
            ],
            [
             0.3333333333333333,
             "#9c179e"
            ],
            [
             0.4444444444444444,
             "#bd3786"
            ],
            [
             0.5555555555555556,
             "#d8576b"
            ],
            [
             0.6666666666666666,
             "#ed7953"
            ],
            [
             0.7777777777777778,
             "#fb9f3a"
            ],
            [
             0.8888888888888888,
             "#fdca26"
            ],
            [
             1,
             "#f0f921"
            ]
           ]
          },
          "colorway": [
           "#636efa",
           "#EF553B",
           "#00cc96",
           "#ab63fa",
           "#FFA15A",
           "#19d3f3",
           "#FF6692",
           "#B6E880",
           "#FF97FF",
           "#FECB52"
          ],
          "font": {
           "color": "#2a3f5f"
          },
          "geo": {
           "bgcolor": "white",
           "lakecolor": "white",
           "landcolor": "#E5ECF6",
           "showlakes": true,
           "showland": true,
           "subunitcolor": "white"
          },
          "hoverlabel": {
           "align": "left"
          },
          "hovermode": "closest",
          "mapbox": {
           "style": "light"
          },
          "paper_bgcolor": "white",
          "plot_bgcolor": "#E5ECF6",
          "polar": {
           "angularaxis": {
            "gridcolor": "white",
            "linecolor": "white",
            "ticks": ""
           },
           "bgcolor": "#E5ECF6",
           "radialaxis": {
            "gridcolor": "white",
            "linecolor": "white",
            "ticks": ""
           }
          },
          "scene": {
           "xaxis": {
            "backgroundcolor": "#E5ECF6",
            "gridcolor": "white",
            "gridwidth": 2,
            "linecolor": "white",
            "showbackground": true,
            "ticks": "",
            "zerolinecolor": "white"
           },
           "yaxis": {
            "backgroundcolor": "#E5ECF6",
            "gridcolor": "white",
            "gridwidth": 2,
            "linecolor": "white",
            "showbackground": true,
            "ticks": "",
            "zerolinecolor": "white"
           },
           "zaxis": {
            "backgroundcolor": "#E5ECF6",
            "gridcolor": "white",
            "gridwidth": 2,
            "linecolor": "white",
            "showbackground": true,
            "ticks": "",
            "zerolinecolor": "white"
           }
          },
          "shapedefaults": {
           "line": {
            "color": "#2a3f5f"
           }
          },
          "ternary": {
           "aaxis": {
            "gridcolor": "white",
            "linecolor": "white",
            "ticks": ""
           },
           "baxis": {
            "gridcolor": "white",
            "linecolor": "white",
            "ticks": ""
           },
           "bgcolor": "#E5ECF6",
           "caxis": {
            "gridcolor": "white",
            "linecolor": "white",
            "ticks": ""
           }
          },
          "title": {
           "x": 0.05
          },
          "xaxis": {
           "automargin": true,
           "gridcolor": "white",
           "linecolor": "white",
           "ticks": "",
           "title": {
            "standoff": 15
           },
           "zerolinecolor": "white",
           "zerolinewidth": 2
          },
          "yaxis": {
           "automargin": true,
           "gridcolor": "white",
           "linecolor": "white",
           "ticks": "",
           "title": {
            "standoff": 15
           },
           "zerolinecolor": "white",
           "zerolinewidth": 2
          }
         }
        },
        "width": 800
       }
      }
     },
     "metadata": {},
     "output_type": "display_data"
    }
   ],
   "source": [
    "rfm_table_cleaned = rfm_table_cleaned[['Recency',\t'Frequency',\t'Monetary']]\n",
    "plot_cluster_profile(rfm_table_cleaned, 7)"
   ]
  },
  {
   "cell_type": "markdown",
   "metadata": {},
   "source": [
    "* Кластер 1 - соответствует «лояльным» клиентам, которые приносят наибольший доход, совершают покупки чаще всего, а давность их последней покупки наименьшая.\n",
    "* Кластер 2 - соответствует «перспективным» клиентам, которые являются активными покупателями, но покупают не так часто и не так много, как лояльные клиенты.\n",
    "* Кластер 3 - соответствует «подвисшим» клиентам, которые относительно недавно сделали несколько заказов на большие суммы. Потенциально эти клиенты могут быть переведены в кластер «перспективных».\n",
    "* Кластер 6 - соответствует клиентам «в зоне риска», которые несколько раз покупали товары на небольшие суммы, однако их последняя покупка была совершена более пяти месяцев назад.\n",
    "* Кластер 5 - соответствует клиентам-«новичкам», которые относительно недавно сделали один заказ на небольшую сумму. \n",
    "* Кластер 4 - соответствует «спящим» или «почти потерянным» клиентам, которые сделали один заказ на маленькую сумму более семи месяцев назад и больше не возвращались.\n",
    "* Кластер 0 - соответствует «потерянным» клиентам, которые купили меньше всего товара, и их последняя покупка была совершена около года назад.\n"
   ]
  },
  {
   "cell_type": "markdown",
   "metadata": {},
   "source": [
    "## 7. RFM-кластеризация клиентов: часть 3"
   ]
  },
  {
   "cell_type": "markdown",
   "metadata": {},
   "source": [
    "Так как алгоритм t-SNE непараметрический, он не создаёт явной функции отображения. То есть нельзя применять алгоритм на новых данных. Вместо этого на основе данных с кластерами проведем классификацию."
   ]
  },
  {
   "cell_type": "markdown",
   "metadata": {},
   "source": [
    "### Задание 7.1\n",
    "\n",
    "Разделим исходные данные на тренировочную и тестовую выборки в соотношении 80/20."
   ]
  },
  {
   "cell_type": "code",
   "execution_count": 264,
   "metadata": {},
   "outputs": [
    {
     "data": {
      "text/html": [
       "<div>\n",
       "<style scoped>\n",
       "    .dataframe tbody tr th:only-of-type {\n",
       "        vertical-align: middle;\n",
       "    }\n",
       "\n",
       "    .dataframe tbody tr th {\n",
       "        vertical-align: top;\n",
       "    }\n",
       "\n",
       "    .dataframe thead th {\n",
       "        text-align: right;\n",
       "    }\n",
       "</style>\n",
       "<table border=\"1\" class=\"dataframe\">\n",
       "  <thead>\n",
       "    <tr style=\"text-align: right;\">\n",
       "      <th></th>\n",
       "      <th>Recency</th>\n",
       "      <th>Frequency</th>\n",
       "      <th>Monetary</th>\n",
       "    </tr>\n",
       "    <tr>\n",
       "      <th>CustomerID</th>\n",
       "      <th></th>\n",
       "      <th></th>\n",
       "      <th></th>\n",
       "    </tr>\n",
       "  </thead>\n",
       "  <tbody>\n",
       "    <tr>\n",
       "      <th>14312</th>\n",
       "      <td>46</td>\n",
       "      <td>6</td>\n",
       "      <td>1611.59</td>\n",
       "    </tr>\n",
       "    <tr>\n",
       "      <th>14673</th>\n",
       "      <td>3</td>\n",
       "      <td>5</td>\n",
       "      <td>1736.40</td>\n",
       "    </tr>\n",
       "    <tr>\n",
       "      <th>14243</th>\n",
       "      <td>8</td>\n",
       "      <td>10</td>\n",
       "      <td>2535.88</td>\n",
       "    </tr>\n",
       "    <tr>\n",
       "      <th>17084</th>\n",
       "      <td>35</td>\n",
       "      <td>2</td>\n",
       "      <td>2747.99</td>\n",
       "    </tr>\n",
       "    <tr>\n",
       "      <th>14851</th>\n",
       "      <td>23</td>\n",
       "      <td>2</td>\n",
       "      <td>511.35</td>\n",
       "    </tr>\n",
       "    <tr>\n",
       "      <th>...</th>\n",
       "      <td>...</td>\n",
       "      <td>...</td>\n",
       "      <td>...</td>\n",
       "    </tr>\n",
       "    <tr>\n",
       "      <th>13802</th>\n",
       "      <td>138</td>\n",
       "      <td>3</td>\n",
       "      <td>4179.42</td>\n",
       "    </tr>\n",
       "    <tr>\n",
       "      <th>12445</th>\n",
       "      <td>22</td>\n",
       "      <td>1</td>\n",
       "      <td>77.40</td>\n",
       "    </tr>\n",
       "    <tr>\n",
       "      <th>17410</th>\n",
       "      <td>16</td>\n",
       "      <td>5</td>\n",
       "      <td>1214.72</td>\n",
       "    </tr>\n",
       "    <tr>\n",
       "      <th>18154</th>\n",
       "      <td>3</td>\n",
       "      <td>2</td>\n",
       "      <td>399.19</td>\n",
       "    </tr>\n",
       "    <tr>\n",
       "      <th>15569</th>\n",
       "      <td>103</td>\n",
       "      <td>5</td>\n",
       "      <td>1375.71</td>\n",
       "    </tr>\n",
       "  </tbody>\n",
       "</table>\n",
       "<p>809 rows × 3 columns</p>\n",
       "</div>"
      ],
      "text/plain": [
       "            Recency  Frequency  Monetary\n",
       "CustomerID                              \n",
       "14312            46          6   1611.59\n",
       "14673             3          5   1736.40\n",
       "14243             8         10   2535.88\n",
       "17084            35          2   2747.99\n",
       "14851            23          2    511.35\n",
       "...             ...        ...       ...\n",
       "13802           138          3   4179.42\n",
       "12445            22          1     77.40\n",
       "17410            16          5   1214.72\n",
       "18154             3          2    399.19\n",
       "15569           103          5   1375.71\n",
       "\n",
       "[809 rows x 3 columns]"
      ]
     },
     "execution_count": 264,
     "metadata": {},
     "output_type": "execute_result"
    }
   ],
   "source": [
    "rfm_table_cleaned['Cluster'] = prediction_tsne\n",
    "X = rfm_table_cleaned.drop(['Cluster'], axis=1)\n",
    "y = rfm_table_cleaned['Cluster']\n",
    "\n",
    "\n",
    "train_x, test_x, train_y, test_y = train_test_split(X, y, test_size=0.2, random_state=0)\n",
    "test_x\n"
   ]
  },
  {
   "cell_type": "markdown",
   "metadata": {},
   "source": [
    "Алгоритм t-SNE является нелинейным методом понижения размерности. Можно предположить, что линейные модели, такие как логистическая регрессия, в данной задаче не помогут.\n",
    "Поэтому сразу возьмём ансамблевые алгоритмы. \n"
   ]
  },
  {
   "cell_type": "markdown",
   "metadata": {},
   "source": [
    "### Задание 7.2\n",
    "Начнём со случайного леса. С помощью GridSearchCV организуйте перебор параметров случайного леса (RandomForestClassifier) на следующей сетке параметров:\n",
    "\n",
    "```\n",
    "param_grid = {\n",
    "    'max_depth': range(5, 15),\n",
    "    'criterion': ['gini', 'entropy'],\n",
    "    'n_estimators': [100, 200, 500]\n",
    "}\n",
    "```\n",
    "В качестве параметра random_state для модели случайного леса используйте число 42.\n",
    "В качестве метрики используйте accuracy. Количество фолдов для кросс-валидации — 5.\n",
    "\n",
    "1) Обучите GridSearchCV на тренировочной выборке. Чему равна оптимальная максимальная глубина деревьев в случайном лесу?\n",
    "\n",
    "2) С помощью лучшей модели сделайте предсказание для тестовой выборки и рассчитайте метрику accuracy. Ответ округлите до трёх знаков после точки-разделителя.\n",
    "\n"
   ]
  },
  {
   "cell_type": "code",
   "execution_count": 268,
   "metadata": {},
   "outputs": [
    {
     "name": "stdout",
     "output_type": "stream",
     "text": [
      "{'criterion': 'gini', 'max_depth': 10, 'n_estimators': 100}\n",
      "Optimal max depth:  10\n"
     ]
    }
   ],
   "source": [
    "param_grid = {\n",
    "    'max_depth': range(5, 15),\n",
    "    'criterion': ['gini', 'entropy'],\n",
    "    'n_estimators': [100, 200, 500]\n",
    "}\n",
    "\n",
    "\n",
    "clf = RandomForestClassifier(random_state=42)\n",
    "\n",
    "grid_search = GridSearchCV(estimator=clf, \n",
    "                            param_grid=param_grid, \n",
    "                            cv=5, scoring='accuracy')\n",
    "\n",
    "grid_search.fit(train_x, train_y)\n",
    "\n",
    "optimal_max_depth = grid_search.best_params_['max_depth']\n",
    "print(grid_search.best_params_)\n",
    "print(\"Optimal max depth: \", optimal_max_depth)"
   ]
  },
  {
   "cell_type": "code",
   "execution_count": 276,
   "metadata": {},
   "outputs": [
    {
     "name": "stdout",
     "output_type": "stream",
     "text": [
      "Accuracy: 0.989\n"
     ]
    }
   ],
   "source": [
    "clf = RandomForestClassifier(criterion= 'gini', max_depth = 10, n_estimators = 100, random_state=42)\n",
    "clf.fit(train_x, train_y)\n",
    "\n",
    "pred_y = clf.predict(test_x)\n",
    "\n",
    "\n",
    "accuracy = accuracy_score(test_y, pred_y)\n",
    "\n",
    "\n",
    "print(f\"Accuracy: {round(accuracy, 3)}\")"
   ]
  },
  {
   "cell_type": "markdown",
   "metadata": {},
   "source": [
    "Итак, значение метрики accuracy очень высокое, но не идеальное. Давайте попробуем его улучшить, воспользовавшись бустингом."
   ]
  },
  {
   "cell_type": "markdown",
   "metadata": {},
   "source": [
    "### Задание 7.3\n",
    "С помощью GridSearchCV организуйте перебор параметров градиентного бустинга (GradientBoostingClassifier) на следующей сетке параметров:\n",
    "```\n",
    "param_grid = {\n",
    "    'max_depth': range(3, 7),\n",
    "    'learning_rate': [0.001, 0.01, 0.1],\n",
    "    'n_estimators': [100, 200, 500]\n",
    "}\n",
    "```\n",
    "\n",
    "В качестве параметра random_state для модели градиентного бустинга используйте число 42.\n",
    "В качестве метрики используйте accuracy. Количество фолдов для кросс-валидации — 5. \n",
    "\n",
    "1) Обучите GridSearchCV на тренировочной выборке. Чему равна оптимальная максимальная глубина деревьев в градиентном бустинге?\n",
    "Ответ: 6\n",
    "2) С помощью лучшей модели сделайте предсказание для тестовой выборки и рассчитайте метрику accuracy. Ответ округлите до трёх знаков после точки-разделителя.\n",
    "\n"
   ]
  },
  {
   "cell_type": "code",
   "execution_count": 275,
   "metadata": {},
   "outputs": [
    {
     "name": "stdout",
     "output_type": "stream",
     "text": [
      "{'learning_rate': 0.1, 'max_depth': 5, 'n_estimators': 200}\n",
      "Optimal max depth:  5\n"
     ]
    }
   ],
   "source": [
    "param_grid_gbc = {\n",
    "    'max_depth': range(3, 7),\n",
    "    'learning_rate': [0.001, 0.01, 0.1],\n",
    "    'n_estimators': [100, 200, 500]\n",
    "}\n",
    "\n",
    "gbc = GradientBoostingClassifier(random_state=42)\n",
    "\n",
    "grid_search_gbc = GridSearchCV(estimator=gbc, \n",
    "                            param_grid=param_grid_gbc, \n",
    "                            cv=5, scoring='accuracy')\n",
    "\n",
    "grid_search_gbc.fit(train_x, train_y)\n",
    "\n",
    "optimal_max_depth = grid_search_gbc.best_params_['max_depth']\n",
    "print(grid_search_gbc.best_params_)\n",
    "print(\"Optimal max depth: \", optimal_max_depth)"
   ]
  },
  {
   "cell_type": "code",
   "execution_count": 277,
   "metadata": {},
   "outputs": [
    {
     "name": "stdout",
     "output_type": "stream",
     "text": [
      "Accuracy: 0.99\n"
     ]
    }
   ],
   "source": [
    "gbc = GradientBoostingClassifier(learning_rate= 0.1, max_depth= 5, n_estimators= 200, random_state=42)\n",
    "gbc.fit(train_x, train_y)\n",
    "\n",
    "pred_y = gbc.predict(test_x)\n",
    "\n",
    "\n",
    "accuracy = accuracy_score(test_y, pred_y)\n",
    "\n",
    "print(f\"Accuracy: {round(accuracy, 3)}\")"
   ]
  },
  {
   "cell_type": "markdown",
   "metadata": {},
   "source": [
    "#### Проблемаой непараметричности t-SNE решена, и мы перешли от решения задачи кластеризации к задаче классификации. Теперь у нас есть модель, которая на основе RFM-характерик клиента автоматически определяет его сегмент."
   ]
  }
 ],
 "metadata": {
  "kernelspec": {
   "display_name": "Python 3 (ipykernel)",
   "language": "python",
   "name": "python3"
  },
  "language_info": {
   "codemirror_mode": {
    "name": "ipython",
    "version": 3
   },
   "file_extension": ".py",
   "mimetype": "text/x-python",
   "name": "python",
   "nbconvert_exporter": "python",
   "pygments_lexer": "ipython3",
   "version": "3.12.0"
  }
 },
 "nbformat": 4,
 "nbformat_minor": 4
}
